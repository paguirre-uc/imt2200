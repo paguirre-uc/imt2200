{
 "cells": [
  {
   "cell_type": "markdown",
   "id": "67839342-3e66-4a81-a4ea-b2973d95a8f8",
   "metadata": {},
   "source": [
    "<div style=\"background-color:#173267;\">\n",
    "    <br>\n",
    "    <img src=\"logo-uc-01.svg\" style=\"align:center;width:20%;\">\n",
    "    <p style=\"text-align:center;font-family:Trebuchet MS;color:white;font-size:40pt;font-weight:bold;margin:50px\">\n",
    "        AYUDANTÍA 7\n",
    "    </p>\n",
    "    <p style=\"text-align:center;font-family:Trebuchet MS;color:white;font-size:20pt;font-weight:bold;margin:50px\">\n",
    "        Introducción a la Ciencia de Datos\n",
    "    </p>\n",
    "    <p style=\"text-align:center;font-family:Trebuchet MS;color:white;font-size:12pt;\">\n",
    "        Felipe Gutiérrez - figutier@uc.cl\n",
    "        Nicolas Mendicoa - nmendicoa@uc.cl\n",
    "    </p>\n",
    "    <p style=\"text-align:center;font-family:Trebuchet MS;color:white;font-size:12pt;\">        \n",
    "        Modificado notebook de:\n",
    "        Vicente Agüero - vicenteaguero@uc.cl\n",
    "        <br>27 de Septiembre de 2022\n",
    "    </p>\n",
    "    <br><br>\n",
    "</div>"
   ]
  },
  {
   "cell_type": "markdown",
   "id": "1fdd9217-234c-4074-9989-a6d623b8d61a",
   "metadata": {},
   "source": [
    "<p style=\"text-align:center;font-family:Arial;color:#173267;font-size:20pt;font-weight:bold;\">\n",
    "    Preliminares\n",
    "</p>"
   ]
  },
  {
   "cell_type": "code",
   "execution_count": null,
   "id": "23ee6c07-2ee8-4850-9c01-fecf647afa8b",
   "metadata": {},
   "outputs": [],
   "source": [
    "from matplotlib import pyplot as plt\n",
    "import geopandas as gpd\n",
    "import pandas as pd\n",
    "import numpy as np\n",
    "import ipywidgets"
   ]
  },
  {
   "cell_type": "code",
   "execution_count": null,
   "id": "4c4480a3-6821-4d6d-bb32-ae08d2460263",
   "metadata": {},
   "outputs": [],
   "source": [
    "pd.set_option('display.max_rows', 20)\n",
    "pd.set_option('display.max_columns', 100)"
   ]
  },
  {
   "cell_type": "markdown",
   "id": "da34b4d4-2481-44a9-9164-2646f820b302",
   "metadata": {},
   "source": [
    "<p style=\"text-align:center;font-family:Arial;color:#173267;font-size:20pt;font-weight:bold;\">\n",
    "    Spatial Join\n",
    "</p>\n",
    "\n",
    "<p style=\"text-align:left;font-family:Arial;color:#173267;font-size:14pt;\">\n",
    "    Cargar datos\n",
    "</p>"
   ]
  },
  {
   "cell_type": "code",
   "execution_count": null,
   "id": "ed154955-535e-4f66-ae8e-3792fde6a617",
   "metadata": {},
   "outputs": [],
   "source": [
    "crimes_data = pd.read_csv('data/dataset-limpo.csv')\n",
    "display(crimes_data.shape)\n",
    "crimes_data.head(1)"
   ]
  },
  {
   "cell_type": "code",
   "execution_count": null,
   "id": "ef0a3ffc-ec15-42fa-b0f2-f396b51a2ccf",
   "metadata": {},
   "outputs": [],
   "source": [
    "crimes = gpd.GeoDataFrame(crimes_data[['bairro', 'descricao', 'endereco']], geometry=gpd.points_from_xy(crimes_data.longitude, crimes_data.latitude), crs='epsg:4326').to_crs(epsg='5641')\n",
    "display(crimes.shape)\n",
    "display(crimes.sample(1))\n",
    "fig, ax = plt.subplots(figsize=(10, 10))\n",
    "crimes.plot(ax=ax, column='bairro')\n",
    "plt.show()"
   ]
  },
  {
   "cell_type": "code",
   "execution_count": null,
   "id": "af14f3c7-a91b-4cb6-9dac-f99e514d8162",
   "metadata": {},
   "outputs": [],
   "source": [
    "sao = gpd.read_file('data/Sao Paulo Municipalities/').to_crs(epsg='5641')\n",
    "display(sao.shape)\n",
    "display(sao.sample(1))\n",
    "fig, ax = plt.subplots(figsize=(10, 10))\n",
    "crimes.plot(ax=ax, color='red', zorder=1)\n",
    "sao.plot(ax=ax, column='CODMESO', zorder=0)\n",
    "plt.show()"
   ]
  },
  {
   "cell_type": "code",
   "execution_count": null,
   "id": "4c9fb9ef-0d74-46c1-8e9c-1c88ce4adfdf",
   "metadata": {},
   "outputs": [],
   "source": [
    "sjoin = gpd.sjoin(sao, crimes, how='inner')[['NOMEMUNICP', 'geometry']]"
   ]
  },
  {
   "cell_type": "code",
   "execution_count": null,
   "id": "853b39cf-3def-4af9-8901-2e0536c231f8",
   "metadata": {},
   "outputs": [],
   "source": [
    "gdf = sjoin.groupby('NOMEMUNICP').sample(1)\n",
    "gdf['Cantidad de Crímenes'] = sjoin.groupby('NOMEMUNICP').count().values.reshape(-1)\n",
    "fig, ax = plt.subplots(figsize=(20, 8))\n",
    "gdf.plot(ax=ax, column='Cantidad de Crímenes', cmap='Reds', legend=True, vmax=10, zorder=0)\n",
    "sao.geometry.boundary.plot(ax=ax, color='black', zorder=1, linewidth=0.5)\n",
    "gdf.geometry.boundary.plot(ax=ax, color='black', zorder=1, linewidth=0.5)\n",
    "plt.show()"
   ]
  },
  {
   "cell_type": "markdown",
   "id": "ab5a3086-683a-4b5c-ade8-7eabea56c317",
   "metadata": {},
   "source": [
    "<p style=\"text-align:center;font-family:Arial;color:#173267;font-size:20pt;font-weight:bold;\">\n",
    "    Describe\n",
    "</p>"
   ]
  },
  {
   "cell_type": "code",
   "execution_count": null,
   "id": "6300d12a-480f-48cb-8423-aa030c39a9a9",
   "metadata": {},
   "outputs": [],
   "source": [
    "players = pd.read_csv('data/players_fifa22.csv')\n",
    "display(players.shape)\n",
    "players.head(1)"
   ]
  },
  {
   "cell_type": "code",
   "execution_count": null,
   "id": "16fb9378-5a4d-40ee-a9a9-4edf27a8e9b5",
   "metadata": {},
   "outputs": [],
   "source": [
    "teams = pd.read_csv('data/teams_fifa22.csv')\n",
    "display(teams.shape)\n",
    "teams.head(1)"
   ]
  },
  {
   "cell_type": "code",
   "execution_count": null,
   "id": "e01ed241-9781-4d4c-8c24-88356418e010",
   "metadata": {},
   "outputs": [],
   "source": [
    "players.describe()"
   ]
  },
  {
   "cell_type": "code",
   "execution_count": null,
   "id": "43c6bd00-9d06-4a02-9c92-e84bf4a14adc",
   "metadata": {},
   "outputs": [],
   "source": [
    "players.describe(percentiles=[0, 0.005, 0.01, 0.05, 0.1, 0.2, 0.25, 0.5, 0.75, 0.90, 0.99, 1])"
   ]
  },
  {
   "cell_type": "code",
   "execution_count": null,
   "id": "a4e206f1-147d-460c-a3c5-44a25de83fc2",
   "metadata": {},
   "outputs": [],
   "source": [
    "players['Age'].describe()"
   ]
  },
  {
   "cell_type": "code",
   "execution_count": null,
   "id": "088c8c18-7a2d-4a27-b72a-fa5e25e5ec8c",
   "metadata": {},
   "outputs": [],
   "source": [
    "players.mean(numeric_only=True)"
   ]
  },
  {
   "cell_type": "code",
   "execution_count": null,
   "id": "710ee986-1bcc-4ebc-85a6-e561e3ee0abf",
   "metadata": {},
   "outputs": [],
   "source": [
    "players.std(numeric_only=True)"
   ]
  },
  {
   "cell_type": "code",
   "execution_count": null,
   "id": "85cf66fe-b3da-48bd-b4cc-4c8407e0f870",
   "metadata": {},
   "outputs": [],
   "source": [
    "players.groupby('Nationality').mean()"
   ]
  },
  {
   "cell_type": "code",
   "execution_count": null,
   "id": "4075d439-cb85-477e-af6c-2b6691d0f623",
   "metadata": {},
   "outputs": [],
   "source": [
    "%%time\n",
    "players.sample(20).groupby(['Nationality', 'Age']).describe()"
   ]
  },
  {
   "cell_type": "markdown",
   "id": "d7d97aa6-44ca-4805-b466-1c816c4e2969",
   "metadata": {},
   "source": [
    "<p style=\"text-align:center;font-family:Arial;color:#173267;font-size:20pt;font-weight:bold;\">\n",
    "    Value Counts\n",
    "</p>"
   ]
  },
  {
   "cell_type": "code",
   "execution_count": null,
   "id": "ecbf0a8e-ae83-4848-8548-8f24c625956b",
   "metadata": {},
   "outputs": [],
   "source": [
    "players.columns"
   ]
  },
  {
   "cell_type": "code",
   "execution_count": null,
   "id": "94d8370c-3b8f-4e86-a6a4-fea3689f7758",
   "metadata": {},
   "outputs": [],
   "source": [
    "players['Nationality'].value_counts()"
   ]
  },
  {
   "cell_type": "code",
   "execution_count": null,
   "id": "6962ab9b-151d-4c36-aabd-e3eaadc9d4ff",
   "metadata": {},
   "outputs": [],
   "source": [
    "players.value_counts('Nationality')"
   ]
  },
  {
   "cell_type": "code",
   "execution_count": null,
   "id": "afb94f90-01f1-4049-8d8a-371e924b0490",
   "metadata": {},
   "outputs": [],
   "source": [
    "%%timeit\n",
    "players['Nationality'].value_counts()"
   ]
  },
  {
   "cell_type": "code",
   "execution_count": null,
   "id": "4aaf9f47-b9d4-48cc-b30a-a5c9f9cf2038",
   "metadata": {},
   "outputs": [],
   "source": [
    "%%timeit\n",
    "players.value_counts('Nationality')"
   ]
  },
  {
   "cell_type": "code",
   "execution_count": null,
   "id": "d98651ec-fe91-4536-a974-3fc0aeaed975",
   "metadata": {},
   "outputs": [],
   "source": [
    "players.value_counts(['Nationality', 'Age'])"
   ]
  },
  {
   "cell_type": "markdown",
   "id": "e7f8289d-6063-403e-92d0-98feec7890a2",
   "metadata": {},
   "source": [
    "<p style=\"text-align:center;font-family:Arial;color:#173267;font-size:20pt;font-weight:bold;\">\n",
    "    Random\n",
    "</p>"
   ]
  },
  {
   "cell_type": "code",
   "execution_count": null,
   "id": "33c41239-d118-49da-b8dd-fe29cfbbd251",
   "metadata": {},
   "outputs": [],
   "source": [
    "np.random"
   ]
  },
  {
   "cell_type": "code",
   "execution_count": null,
   "id": "c4d3362e-5ded-47de-84b8-7a33a0716c8b",
   "metadata": {},
   "outputs": [],
   "source": [
    "np.random.rand(4)"
   ]
  },
  {
   "cell_type": "code",
   "execution_count": null,
   "id": "5e29bbd5-96e7-44c5-88b1-999d66935b0e",
   "metadata": {},
   "outputs": [],
   "source": [
    "np.random.rand(2, 2)"
   ]
  },
  {
   "cell_type": "code",
   "execution_count": null,
   "id": "b7d13f1b-8104-467c-916a-40d4967684cc",
   "metadata": {},
   "outputs": [],
   "source": [
    "np.random.rand(2, 2, 3)"
   ]
  },
  {
   "cell_type": "code",
   "execution_count": null,
   "id": "aec0d314-a9ad-43db-91b2-737f99c36df5",
   "metadata": {},
   "outputs": [],
   "source": [
    "plt.figure(figsize=(5, 5))\n",
    "plt.hist(np.random.rand(1000))\n",
    "plt.show()"
   ]
  },
  {
   "cell_type": "code",
   "execution_count": null,
   "id": "3da32dea-a68d-405b-a0ab-11aeed0f6ed5",
   "metadata": {},
   "outputs": [],
   "source": [
    "np.random.randn(10)"
   ]
  },
  {
   "cell_type": "code",
   "execution_count": null,
   "id": "5adcdf94-9cae-4880-8443-591fb69fe8b1",
   "metadata": {},
   "outputs": [],
   "source": [
    "plt.figure(figsize=(5, 5))\n",
    "plt.hist(np.random.randn(1000000), bins=100)\n",
    "plt.show()"
   ]
  },
  {
   "cell_type": "code",
   "execution_count": null,
   "id": "7d5dcb0e-de37-410c-a3d5-b3fc63f01bfd",
   "metadata": {},
   "outputs": [],
   "source": [
    "np.random.randint(0, 100)"
   ]
  },
  {
   "cell_type": "code",
   "execution_count": null,
   "id": "dd475e85-a035-4484-ba5a-e3017955747e",
   "metadata": {},
   "outputs": [],
   "source": [
    "np.random.randint(0, 100, 10)"
   ]
  },
  {
   "cell_type": "code",
   "execution_count": null,
   "id": "69efcf65-2f60-4ebc-b6c5-e6ec44c58a79",
   "metadata": {},
   "outputs": [],
   "source": [
    "np.random.random(10)"
   ]
  },
  {
   "cell_type": "code",
   "execution_count": null,
   "id": "bf63d050-0c93-467f-af43-632247e44ce2",
   "metadata": {},
   "outputs": [],
   "source": [
    "a = np.array(list('abcdefghijklmnñopqrstuvxyz'))\n",
    "a"
   ]
  },
  {
   "cell_type": "code",
   "execution_count": null,
   "id": "3a9a5a4b-78d2-4446-9574-09879fc81a64",
   "metadata": {},
   "outputs": [],
   "source": [
    "np.random.choice(a, size=10, replace=True)"
   ]
  },
  {
   "cell_type": "code",
   "execution_count": null,
   "id": "7e9fac3f-153b-4309-bb41-d6faca2ab084",
   "metadata": {},
   "outputs": [],
   "source": [
    "np.random.permutation(a)"
   ]
  },
  {
   "cell_type": "code",
   "execution_count": null,
   "id": "6d31272a-b1aa-430f-8ba6-bae6ee60da64",
   "metadata": {},
   "outputs": [],
   "source": [
    "a"
   ]
  },
  {
   "cell_type": "code",
   "execution_count": null,
   "id": "d78d48bd-49b1-407c-b395-84a8ddfb8057",
   "metadata": {},
   "outputs": [],
   "source": [
    "np.random.shuffle(a)"
   ]
  },
  {
   "cell_type": "code",
   "execution_count": null,
   "id": "5327a1d7-5c6f-4248-b960-07585bf3545e",
   "metadata": {},
   "outputs": [],
   "source": [
    "a"
   ]
  },
  {
   "cell_type": "code",
   "execution_count": null,
   "id": "9bff79f7-ef52-4ea7-b549-cc8483f5cbbd",
   "metadata": {},
   "outputs": [],
   "source": [
    "np.random.seed(2305) # Setear el RandomState\n",
    "np.random.rand(5)"
   ]
  },
  {
   "cell_type": "code",
   "execution_count": null,
   "id": "8f36f603-7e37-4675-a325-6a1d5f2cd554",
   "metadata": {},
   "outputs": [],
   "source": [
    "np.random.seed(2305)\n",
    "np.random.rand(5)"
   ]
  },
  {
   "cell_type": "code",
   "execution_count": null,
   "id": "41c96446-d5fb-4dd2-aa26-f27813b007e1",
   "metadata": {},
   "outputs": [],
   "source": [
    "np.random.rand(5)"
   ]
  },
  {
   "cell_type": "markdown",
   "id": "78b2dfa2-d90c-4e87-bdfe-bdf45d435ad3",
   "metadata": {},
   "source": [
    "<p style=\"text-align:center;font-family:Arial;color:#173267;font-size:20pt;font-weight:bold;\">\n",
    "    Normal Distribution (Gaussian)\n",
    "</p>\n",
    "\n",
    "<p style=\"text-align:left;font-family:Arial;color:#173267;font-size:14pt;\">\n",
    "    $$X\\sim N(0,1)$$\n",
    "    $$f(x)=\\frac{1}{\\sqrt{2 \\pi}}\\cdot \\exp \\left\\{-\\frac{x^2}{2}\\right\\}$$\n",
    "    <br><br>\n",
    "    $$X\\sim N(\\mu, \\sigma)$$\n",
    "    $$f(x)=\\frac{1}{\\sqrt{2 \\pi \\sigma^2}}\\cdot \\exp \\left\\{-\\frac{(x - \\mu)^2}{2\\sigma^2}\\right\\}$$\n",
    "    <br><br>\n",
    "    $$X\\sim N(\\mu, \\sigma) \\Rightarrow Y = \\frac{X - \\mu}{\\sigma} \\sim N(0, 1)$$\n",
    "</p>"
   ]
  },
  {
   "cell_type": "code",
   "execution_count": null,
   "id": "6af09fcc-9030-48cc-b4d6-59986f73586f",
   "metadata": {
    "tags": []
   },
   "outputs": [],
   "source": [
    "np.random.seed(0)\n",
    "X = np.random.randn(200)"
   ]
  },
  {
   "cell_type": "code",
   "execution_count": null,
   "id": "15fa1817-1453-4f7b-9a33-38cbeb2683a5",
   "metadata": {},
   "outputs": [],
   "source": [
    "plt.figure(figsize=(20, 5))\n",
    "plt.plot(X)\n",
    "plt.show()"
   ]
  },
  {
   "cell_type": "code",
   "execution_count": null,
   "id": "1a553828-9155-45ad-9537-3a371e2e046f",
   "metadata": {},
   "outputs": [],
   "source": [
    "plt.figure(figsize=(5, 5))\n",
    "plt.hist(X, bins=21)\n",
    "plt.show()"
   ]
  },
  {
   "cell_type": "code",
   "execution_count": null,
   "id": "3e6ce0f9-8db9-427a-a145-9714fd05e51f",
   "metadata": {},
   "outputs": [],
   "source": [
    "f = lambda t: (1 / np.sqrt(2*np.pi)) * np.exp(-t**2/2)"
   ]
  },
  {
   "cell_type": "code",
   "execution_count": null,
   "id": "20dd352a-a801-4169-909f-bceb0740a781",
   "metadata": {},
   "outputs": [],
   "source": [
    "t = np.linspace(-3.5, 3.5, num=1000)\n",
    "plt.figure(figsize=(10, 10))\n",
    "plt.hist(X, bins=21, density=True)\n",
    "plt.plot(t, f(t), color='red', linewidth=10)\n",
    "plt.show()"
   ]
  },
  {
   "cell_type": "code",
   "execution_count": null,
   "id": "f4149375-a0cc-4798-8579-2672062320a1",
   "metadata": {},
   "outputs": [],
   "source": [
    "@ipywidgets.interact(n=(10, 100000, 1000), bins=(10, 100, 5))\n",
    "def normal_plot(n=10, bins=10):\n",
    "    np.random.seed(0)\n",
    "    plt.figure(figsize=(8, 8))\n",
    "    plt.hist(np.random.randn(n), bins=bins, density=True, zorder=0)\n",
    "    plt.plot(t, f(t), color='red', linewidth=3, zorder=1)\n",
    "    plt.ylim((0, 1))\n",
    "    plt.xlim((-3.5, 3.5))\n",
    "    plt.show()"
   ]
  },
  {
   "cell_type": "code",
   "execution_count": null,
   "id": "84aab5b7-9a52-440f-a932-9bbc5acb8aa9",
   "metadata": {},
   "outputs": [],
   "source": [
    "@ipywidgets.interact(n=np.logspace(0, 6, num=20, dtype=int))\n",
    "def normal_plot(n=10):\n",
    "    plt.figure(figsize=(10, 8))\n",
    "    x = np.random.randn(n)\n",
    "    y = np.random.randn(n)\n",
    "    plt.scatter(x, y, c=np.sqrt(x**2+y**2), cmap='jet', s=10)\n",
    "    plt.xlim((-3.5, 3.5))\n",
    "    plt.ylim((-3.5, 3.5))\n",
    "    plt.colorbar()\n",
    "    plt.grid(alpha=0.25)\n",
    "    plt.title(n)\n",
    "    plt.show()"
   ]
  },
  {
   "cell_type": "markdown",
   "id": "eea95686-2f01-427f-a45f-b85f3d3dc337",
   "metadata": {},
   "source": [
    "<p style=\"text-align:left;font-family:Arial;color:#173267;font-size:14pt;\">\n",
    "    Normalización Estándar\n",
    "    $$X\\sim N(\\mu, \\sigma) \\Rightarrow Y = \\frac{X - \\mu}{\\sigma} \\sim N(0, 1)$$\n",
    "</p>"
   ]
  },
  {
   "cell_type": "code",
   "execution_count": null,
   "id": "d6f9d8cc-cdee-4292-9ebc-d172ca81bc29",
   "metadata": {},
   "outputs": [],
   "source": [
    "teams.sample(5)"
   ]
  },
  {
   "cell_type": "code",
   "execution_count": null,
   "id": "cfc26f6e-68c4-45a2-a136-5d2d3bc7a16c",
   "metadata": {},
   "outputs": [],
   "source": [
    "teams.describe()"
   ]
  },
  {
   "cell_type": "code",
   "execution_count": null,
   "id": "0fa6cd3e-d9a4-4bb6-84fe-9fa131f32afe",
   "metadata": {},
   "outputs": [],
   "source": [
    "teams_normal = (teams['Overall'] - teams['Overall'].mean()) / teams['Overall'].std()"
   ]
  },
  {
   "cell_type": "code",
   "execution_count": null,
   "id": "0ff6b751-ee53-4dc6-8703-ddc02c1b5057",
   "metadata": {},
   "outputs": [],
   "source": [
    "plt.figure(figsize=(10, 10))\n",
    "plt.hist(teams_normal, bins=25, density=True)\n",
    "plt.plot(t, f(t), color='red', linewidth=3)\n",
    "plt.show()"
   ]
  },
  {
   "cell_type": "code",
   "execution_count": null,
   "id": "566386c5-58de-4ad3-a2ee-88ee01598a0f",
   "metadata": {},
   "outputs": [],
   "source": [
    "teams[teams_normal > 2.5]"
   ]
  },
  {
   "cell_type": "markdown",
   "id": "e9163c9f-fd15-4a0f-ad3d-da846ffd23bb",
   "metadata": {},
   "source": [
    "<p style=\"text-align:left;font-family:Arial;color:#173267;font-size:14pt;\">\n",
    "    Normalización lineal\n",
    "    $$X \\in \\left[X_\\text{mín}, X_\\text{máx}\\right] \\Rightarrow Y \\in [0, 1]$$\n",
    "    <br>\n",
    "    $$\\frac{X - X_\\text{mín}}{X_\\text{máx} - X_\\text{mín}}$$\n",
    "    <br><br>\n",
    "    $$X \\in \\left[X_\\text{mín}, X_\\text{máx}\\right] \\Rightarrow Y \\in [a, b]$$\n",
    "    <br>\n",
    "    $$a + \\frac{(X - X_\\text{mín})(b - a)}{X_\\text{máx} - X_\\text{mín}}$$\n",
    "</p>"
   ]
  },
  {
   "cell_type": "code",
   "execution_count": null,
   "id": "76241dd0-2e84-4194-a05e-6dd5c6395967",
   "metadata": {},
   "outputs": [],
   "source": [
    "teams_0_to_1 = (teams['Attack'] - teams['Attack'].min()) / (teams['Attack'].max() - teams['Attack'].min())\n",
    "plt.figure(figsize=(10, 5))\n",
    "plt.hist(teams_0_to_1, bins=25, density=True)\n",
    "#plt.plot(t, f(t), color='red', linewidth=3)\n",
    "plt.show()"
   ]
  },
  {
   "cell_type": "code",
   "execution_count": null,
   "id": "af0613e0-9d32-4012-96f8-aa05499f4b42",
   "metadata": {},
   "outputs": [],
   "source": [
    "teams_a_to_b = lambda a, b: a + ((teams['Attack'] - teams['Attack'].min()) * (b - a)) / (teams['Attack'].max() - teams['Attack'].min())\n",
    "plt.figure(figsize=(10, 5))\n",
    "plt.hist(teams_a_to_b(0.5, 0.51), bins=25, density=True)\n",
    "#plt.plot(t, f(t), color='red', linewidth=3)\n",
    "plt.show()"
   ]
  }
 ],
 "metadata": {
  "kernelspec": {
   "display_name": "Python 3 (ipykernel)",
   "language": "python",
   "name": "python3"
  },
  "language_info": {
   "codemirror_mode": {
    "name": "ipython",
    "version": 3
   },
   "file_extension": ".py",
   "mimetype": "text/x-python",
   "name": "python",
   "nbconvert_exporter": "python",
   "pygments_lexer": "ipython3",
   "version": "3.9.7"
  }
 },
 "nbformat": 4,
 "nbformat_minor": 5
}
