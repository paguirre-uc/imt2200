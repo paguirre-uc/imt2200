{
 "cells": [
  {
   "cell_type": "markdown",
   "metadata": {},
   "source": [
    "# IMT 3860 - Introducción a Data Science\n",
    "\n",
    "# Webscrapping (Parte 2): Requests a HTML\n",
    "\n",
    "## 1. Requests/ Solicitudes post.\n",
    "\n",
    "Este notebook corresponde a un ejemplo de extracción de datos de la base de datos de toc toc utilizando solicitudes \n",
    "de tipo get y de tipo post.\n",
    "\n",
    "Para realizar la solicitud post en la aplicación de mapa que nos permite acceder a los datos, es necesario obtener una token la cual se encuentra en el texto plano lo que nos obliga a aplicar lo aprendido recientemente.\n",
    "\n",
    "Las solicitudes POST son frecuentemente asociadas a formas y contienen parámetros de consulta que definirán que data será enviada por parte del servidor (generalmente a traves de API's)"
   ]
  },
  {
   "cell_type": "code",
   "execution_count": null,
   "metadata": {},
   "outputs": [],
   "source": [
    "import requests\n",
    "import json\n",
    "import time\n",
    "import re\n",
    "import pandas as pd"
   ]
  },
  {
   "cell_type": "markdown",
   "metadata": {},
   "source": [
    "### Obtención de token \n",
    "\n",
    "En este paso simplemente se extrae el HTML y se utilizan expresiones regulares para extraer la token del texto plano"
   ]
  },
  {
   "cell_type": "code",
   "execution_count": null,
   "metadata": {},
   "outputs": [],
   "source": [
    "def get_token_casa():\n",
    "    url='https://www.toctoc.com/resultados/mapa/compra/casa/'\n",
    "    user_agent= 'Mozilla/5.0 (Windows NT 10.0; Win64; x64) AppleWebKit/537.36 (KHTML, like Gecko) Chrome/80.0.3987.122 Safari/537.36'\n",
    "    headers= {'User-Agent': user_agent}\n",
    "    source= requests.get(url, headers)\n",
    "    pattern= r'\\\"token\":\".{,}?\"'\n",
    "    token= re.search(pattern, source.text).group().strip('\"token\"').strip(\":\").strip('\"')\n",
    "    return token\n",
    "def get_token_departamento():\n",
    "    url='https://www.toctoc.com/resultados/mapa/compra/departamento/'\n",
    "    user_agent= 'Mozilla/5.0 (Windows NT 10.0; Win64; x64) AppleWebKit/537.36 (KHTML, like Gecko) Chrome/80.0.3987.122 Safari/537.36'\n",
    "    headers= {'User-Agent': user_agent}\n",
    "    source= requests.get(url, headers)\n",
    "    pattern= r'\\\"token\":\".{,}?\"'\n",
    "    token= re.search(pattern, source.text).group().strip('\"token\"').strip(\":\").strip('\"')\n",
    "    return token"
   ]
  },
  {
   "cell_type": "code",
   "execution_count": null,
   "metadata": {},
   "outputs": [],
   "source": [
    "url='https://www.toctoc.com/'\n",
    "user_agent= 'Mozilla/5.0 (Windows NT 10.0; Win64; x64) AppleWebKit/537.36 (KHTML, like Gecko) Chrome/80.0.3987.122 Safari/537.36'\n",
    "headers= {'User-Agent': user_agent}\n",
    "source= requests.get(url, headers)"
   ]
  },
  {
   "cell_type": "code",
   "execution_count": null,
   "metadata": {},
   "outputs": [],
   "source": [
    "source= requests.get(url, headers)"
   ]
  },
  {
   "cell_type": "code",
   "execution_count": null,
   "metadata": {},
   "outputs": [],
   "source": [
    "pattern= r'\\\"token\":\".{,}?\"'"
   ]
  },
  {
   "cell_type": "code",
   "execution_count": null,
   "metadata": {},
   "outputs": [],
   "source": [
    "re.search(pattern, source.text)"
   ]
  },
  {
   "cell_type": "code",
   "execution_count": null,
   "metadata": {},
   "outputs": [],
   "source": [
    "source"
   ]
  },
  {
   "cell_type": "code",
   "execution_count": null,
   "metadata": {},
   "outputs": [],
   "source": [
    "get_token_departamento()"
   ]
  },
  {
   "cell_type": "markdown",
   "metadata": {},
   "source": [
    "### Generación de solicitud de data\n",
    "\n",
    "Tras analizar el sitio, se genera lo necesario para la solicitud de data utilizando la función post de la librería requests"
   ]
  },
  {
   "cell_type": "code",
   "execution_count": null,
   "metadata": {},
   "outputs": [],
   "source": [
    "def get_toc_toc(pagina, tipo, operacion):\n",
    "    \n",
    "    ### operacion 1,2 (compra, arriendo), tipo: \"departamento\", \"casa\", \"terreno\", \"oficina\", \"local comercial\"\n",
    "    url='https://www.toctoc.com/api/mapa/GetPropiedades2'\n",
    "    method='POST'\n",
    "    if tipo == 'casa':\n",
    "        token = get_token_casa()\n",
    "    if tipo == 'departamento':\n",
    "        token = get_token_departamento()\n",
    "\n",
    "    payload={ \n",
    "    'region': \"\",\n",
    "    'comuna': \"\",\n",
    "    'barrio': \"\",\n",
    "    'poi': \"\",\n",
    "    'tipoVista': \"mapa\",\n",
    "    'operacion': operacion,\n",
    "    'idPoligono': '0',\n",
    "    'moneda': '2',\n",
    "    'precioDesde': '0',\n",
    "    'precioHasta': '0',\n",
    "    'dormitoriosDesde': '0',\n",
    "    'dormitoriosHasta': '0',\n",
    "    'banosDesde': '0',\n",
    "    'banosHasta': '0',\n",
    "    'tipoPropiedad': tipo,\n",
    "    'estado': '0',\n",
    "    'disponibilidadEntrega': \"\",\n",
    "    'numeroDeDiasTocToc': '0',\n",
    "    'superficieDesdeUtil': '0',\n",
    "    'superficieHastaUtil': '0',\n",
    "    'superficieDesdeConstruida': '0',\n",
    "    'superficieHastaConstruida': '0',\n",
    "    'superficieDesdeTerraza': '0',\n",
    "    'superficieHastaTerraza': '0',\n",
    "    'superficieDesdeTerreno': '0',\n",
    "    'superficieHastaTerreno': '0',\n",
    "    'ordenarPor': '0',\n",
    "    'pagina': '{0}'.format(pagina+1),\n",
    "    'paginaInterna': '1',\n",
    "    'zoom': '2.9604474313144915',\n",
    "    'idZonaHomogenea': '0',\n",
    "    'busqueda': \"\",\n",
    "    'viewport': \"-53.322206687377715,-94.01165015122845,-5.265176625303226,-55.80055985968981\",\n",
    "    'atributos': '[]',\n",
    "    'publicador': '0',\n",
    "    'temporalidad': '0',\n",
    "    'limite': '510',\n",
    "    'cargaBanner': 'false',\n",
    "    'primeraCarga': 'false'}\n",
    "    datareq=json.dumps(payload)\n",
    "    response= requests.post(url=url, headers={\n",
    "    'x-access-token': token,\n",
    "    'content-type': 'application/json',\n",
    "    'origin': 'https://www.toctoc.com'}, data= datareq)\n",
    "    time.sleep(1.5)\n",
    "    return response"
   ]
  },
  {
   "cell_type": "markdown",
   "metadata": {},
   "source": [
    "### Procesamiento\n",
    "\n",
    "De acá en adelante se generan funciones para estructurar el dato deseado para construir en csv\n"
   ]
  },
  {
   "cell_type": "code",
   "execution_count": null,
   "metadata": {},
   "outputs": [],
   "source": [
    "def registro_to_dataframe(dataframe, propiedad):\n",
    "    registro={'codigo': propiedad[1],\n",
    "    'longitud': propiedad[2],\n",
    "    'latitud': propiedad[3],\n",
    "    'comuna': propiedad[7],\n",
    "    'direccion': propiedad[39],\n",
    "    'm21': propiedad[27],\n",
    "    'm22': propiedad[28],\n",
    "    'bathroom': propiedad[4],\n",
    "    'dormitorios':propiedad[5],\n",
    "    'precio11': propiedad[22],\n",
    "    'precio12': propiedad[23],\n",
    "    'precio21': propiedad[24],\n",
    "    'precio22': propiedad[25],\n",
    "    'uf': min(propiedad[22],propiedad[24]),\n",
    "    'fecha_publicacion': propiedad[14],\n",
    "    'url': propiedad[40],\n",
    "    'url_img': propiedad[20],\n",
    "    'operacion': 'venta'\n",
    "    }\n",
    "    dataframe=dataframe.append([registro])\n",
    "    return dataframe"
   ]
  },
  {
   "cell_type": "code",
   "execution_count": null,
   "metadata": {},
   "outputs": [],
   "source": [
    "#Construccion del dataframe basado en la respuesta"
   ]
  },
  {
   "cell_type": "code",
   "execution_count": null,
   "metadata": {},
   "outputs": [],
   "source": [
    "def toc_toc_to_dataframe(tipo, operacion):\n",
    "    fail_list=[]\n",
    "    dataframe=pd.DataFrame(columns=['codigo', 'longitud', 'latitud', 'comuna', 'direccion', 'm21', 'm22', 'bathroom', 'dormitorios', 'precio11', 'precio12','precio21', 'precio22',\n",
    "                                    'uf','fecha_publicacion', 'url', 'url_img'])\n",
    "    max_paginas=10000\n",
    "    for pagina in range(10000):\n",
    "        print(\"Extrayendo pagina {0}\".format(pagina))\n",
    "        if max_paginas<pagina:\n",
    "            break\n",
    "            \n",
    "        propiedades=get_toc_toc(pagina=pagina, tipo=tipo, operacion=operacion)\n",
    "        \n",
    "        if pagina==0:\n",
    "            print(propiedades.status_code)\n",
    "            if propiedades.status_code==200:\n",
    "                max_paginas=round(propiedades.json()['resultados']['Total']/510)\n",
    "                print(max_paginas)\n",
    "            else:\n",
    "                print('fallo al principio')\n",
    "                dataframe=toc_toc_to_dataframe(tipo=tipo, operacion=operacion)\n",
    "                return dataframe\n",
    "\n",
    "        if propiedades.status_code==200:\n",
    "            for propiedad in propiedades.json()['resultados']['Propiedades']:\n",
    "                dataframe=registro_to_dataframe(dataframe=dataframe, propiedad=propiedad)\n",
    " \n",
    "        else:\n",
    "            print(\"pagina {0} no funciono\".format(pagina))\n",
    "            fail_list.append(pagina)\n",
    "    if len(fail_list)>0:\n",
    "        print(fail_list)\n",
    "        dataframe=retry_to_df(fail_list=fail_list, tipo=tipo, operacion= operacion, dataframe=dataframe)\n",
    "        \n",
    "            \n",
    "\n",
    "    return dataframe\n",
    "    \n",
    "        \n",
    "        "
   ]
  },
  {
   "cell_type": "markdown",
   "metadata": {},
   "source": [
    "### Control de posibles errores\n",
    "El error mas común en este sitio es que solicitudes sucesivas en poco tiempo no siempre obtienen respuestas, por lo cual se genera una función recursiva que consultará los anuncios no obtenidos hasta tenerlos todos"
   ]
  },
  {
   "cell_type": "code",
   "execution_count": null,
   "metadata": {},
   "outputs": [],
   "source": [
    "def retry_to_df(fail_list, tipo, operacion,dataframe):\n",
    "    fail_list_redo=[]\n",
    "    for pagina in fail_list:\n",
    "        propiedades=get_toc_toc(pagina, tipo=tipo, operacion=operacion)\n",
    "        if propiedades.status_code==200:\n",
    "            for propiedad in propiedades.json()['resultados']['Propiedades']:\n",
    "                dataframe=registro_to_dataframe(dataframe= dataframe, propiedad=propiedad)\n",
    " \n",
    "        else:\n",
    "            print(\"pagina {0} no funciono\".format(pagina))\n",
    "            fail_list_redo.append(pagina)\n",
    "            \n",
    "    if len(fail_list_redo)>0:\n",
    "        retry_to_df(fail_list=fail_list_redo, tipo=tipo, operacion=operacion, dataframe=dataframe)\n",
    "    return dataframe\n",
    "    "
   ]
  },
  {
   "cell_type": "code",
   "execution_count": null,
   "metadata": {},
   "outputs": [],
   "source": [
    "#Generación de csv "
   ]
  },
  {
   "cell_type": "code",
   "execution_count": null,
   "metadata": {},
   "outputs": [],
   "source": [
    "def gen_csv(tipo, operacion):\n",
    "    df=toc_toc_to_dataframe(tipo=tipo, operacion=operacion)\n",
    "    df.to_csv(\"{0}{1}.csv\".format(tipo, operacion))"
   ]
  },
  {
   "cell_type": "code",
   "execution_count": null,
   "metadata": {},
   "outputs": [],
   "source": [
    "gen_csv(\"casa\", 1)"
   ]
  },
  {
   "cell_type": "code",
   "execution_count": null,
   "metadata": {},
   "outputs": [],
   "source": [
    "gen_csv(\"casa\", 2)"
   ]
  },
  {
   "cell_type": "code",
   "execution_count": null,
   "metadata": {},
   "outputs": [],
   "source": [
    "gen_csv(\"departamento\", 1)"
   ]
  },
  {
   "cell_type": "code",
   "execution_count": null,
   "metadata": {},
   "outputs": [],
   "source": [
    "gen_csv(\"departamento\", 2)"
   ]
  },
  {
   "cell_type": "code",
   "execution_count": null,
   "metadata": {},
   "outputs": [],
   "source": []
  },
  {
   "cell_type": "code",
   "execution_count": null,
   "metadata": {},
   "outputs": [],
   "source": []
  }
 ],
 "metadata": {
  "kernelspec": {
   "display_name": "Python 3 (ipykernel)",
   "language": "python",
   "name": "python3"
  },
  "language_info": {
   "codemirror_mode": {
    "name": "ipython",
    "version": 3
   },
   "file_extension": ".py",
   "mimetype": "text/x-python",
   "name": "python",
   "nbconvert_exporter": "python",
   "pygments_lexer": "ipython3",
   "version": "3.9.7"
  }
 },
 "nbformat": 4,
 "nbformat_minor": 4
}
