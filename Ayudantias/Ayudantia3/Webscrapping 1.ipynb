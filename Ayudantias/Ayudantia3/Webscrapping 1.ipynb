{
 "cells": [
  {
   "cell_type": "markdown",
   "metadata": {},
   "source": [
    "<div style=\"background-color:#173267;\">\n",
    "    <br>\n",
    "    <img src=\"uclogo.png\" style=\"align:center;width:20%;\">\n",
    "    <p style=\"text-align:center;font-family:Trebuchet MS;color:white;font-size:40pt;font-weight:bold;margin:50px\">\n",
    "        AYUDANTÍA 2\n",
    "    </p>\n",
    "    <p style=\"text-align:center;font-family:Trebuchet MS;color:white;font-size:20pt;font-weight:bold;margin:50px\">\n",
    "        Introducción a la Ciencia de Datos\n",
    "    </p>\n",
    "    <p style=\"text-align:center;font-family:Trebuchet MS;color:white;font-size:12pt;\">\n",
    "        Felipe Gutiérrez - figutier@uc.cl\n",
    "        Nicolas Mendicoa - nmendicoa@uc.cl\n",
    "        <br>30 de Agosto de 2022\n",
    "    </p>\n",
    "    <br><br>\n",
    "</div>"
   ]
  },
  {
   "cell_type": "markdown",
   "metadata": {},
   "source": [
    "# IMT 2200 - Introducción a Data Science\n",
    "\n",
    "# Webscrapping (Parte 1): Requests a HTML\n",
    "\n",
    "## 1. Requests/ BeautifulSoup.\n",
    "\n",
    "El proceso de webscrapping en su expresión mas básica consiste en la extracción de datos desde el texto plano que estructura la página web (HTML).\n",
    "\n",
    "Requests nos brinda herramientas para la extracción de la página. BeautifulSoup es una librería cuyo objetivo es la extracción de elementos en el texto plano.\n",
    "\n",
    "En este ejemplo, extraeremos un numero arbitrario de artículos del diario El Mostrador, como veremos, este proceso requerira extraer los links de la página que los contiene, y después acceder a tales links. Con la librería requests extraeremos el HTML donde estan contenidos los links y con BeautifulSoup extraeremos cada link del texto plano, para consultar cada uno de esos link con la librería requests, de ese texto podremos extraer cualquier elemento que nos interese."
   ]
  },
  {
   "cell_type": "code",
   "execution_count": null,
   "metadata": {},
   "outputs": [],
   "source": [
    "import requests\n",
    "from bs4 import BeautifulSoup"
   ]
  },
  {
   "cell_type": "markdown",
   "metadata": {},
   "source": [
    "### Extracción de links de artículos\n",
    "\n",
    "En esta parte se entra a la página donde se encuentran los links de los artículos y se extraeran los links a consultar"
   ]
  },
  {
   "cell_type": "code",
   "execution_count": null,
   "metadata": {},
   "outputs": [],
   "source": [
    "link_list2=[]\n",
    "#Rango de paginas\n",
    "for i in range(2): \n",
    "#Pagina desde donde parte el scraping\n",
    "    page=requests.get('https://www.elmostrador.cl/noticias/pais/page/{0}/'.format(i+1))\n",
    "#Armar una lista con todos los links\n",
    "    soup = BeautifulSoup(page.text, \"html.parser\") \n",
    "    for i in soup.find_all('div', {'class': 'col-xs-7 col-sm-10 col-md-10'}):\n",
    "        link = i.find('a', href=True)\n",
    "        link_list2.append(link['href'])\n",
    "        if link is None:\n",
    "            continue"
   ]
  },
  {
   "cell_type": "code",
   "execution_count": null,
   "metadata": {},
   "outputs": [],
   "source": [
    "link_list2"
   ]
  },
  {
   "cell_type": "markdown",
   "metadata": {},
   "source": [
    "### Extracción de artículos\n",
    "\n",
    "Una vez se tienen los links, el proceso es similar a lo hecho previamente"
   ]
  },
  {
   "cell_type": "code",
   "execution_count": null,
   "metadata": {},
   "outputs": [],
   "source": [
    "#extrae de cada link el texto\n",
    "articulos=[]\n",
    "for i in link_list2:\n",
    "        art_soup=BeautifulSoup(requests.get(i).text, \"html.parser\")\n",
    "        #extraigo cada parrafo\n",
    "        for i in art_soup.find_all('div', {'id': 'noticia'}):\n",
    "            body = i.find_all('p', href=False)\n",
    "            art=[i.text for i in body] #lo conviertes a texto como lista de listas\n",
    "            articulos.append(art)"
   ]
  },
  {
   "cell_type": "code",
   "execution_count": null,
   "metadata": {},
   "outputs": [],
   "source": [
    "articulos[5]"
   ]
  },
  {
   "cell_type": "code",
   "execution_count": null,
   "metadata": {},
   "outputs": [],
   "source": []
  },
  {
   "cell_type": "code",
   "execution_count": null,
   "metadata": {},
   "outputs": [],
   "source": []
  }
 ],
 "metadata": {
  "kernelspec": {
   "display_name": "Python 3 (ipykernel)",
   "language": "python",
   "name": "python3"
  },
  "language_info": {
   "codemirror_mode": {
    "name": "ipython",
    "version": 3
   },
   "file_extension": ".py",
   "mimetype": "text/x-python",
   "name": "python",
   "nbconvert_exporter": "python",
   "pygments_lexer": "ipython3",
   "version": "3.9.7"
  }
 },
 "nbformat": 4,
 "nbformat_minor": 4
}
