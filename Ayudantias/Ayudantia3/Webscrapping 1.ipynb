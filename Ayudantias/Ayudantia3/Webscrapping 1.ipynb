{
 "cells": [
  {
   "cell_type": "markdown",
   "metadata": {},
   "source": [
    "# IMT 3860 - Introducción a Data Science\n",
    "\n",
    "# Webscrapping (Parte 1): Requests a HTML\n",
    "\n",
    "## 1. Requests/ BeautifulSoup.\n",
    "\n",
    "El proceso de webscrapping en su expresión mas básica consiste en la extracción de datos desde el texto plano que estructura la página web (HTML).\n",
    "\n",
    "Requests nos brinda herramientas para la extracción de la página. BeautifulSoup es una librería cuyo objetivo es la extracción de elementos en el texto plano.\n",
    "\n",
    "En este ejemplo, extraeremos un numero arbitrario de artículos del diario El Mostrador, como veremos, este proceso requerira extraer los links de la página que los contiene, y después acceder a tales links. Con la librería requests extraeremos el HTML donde estan contenidos los links y con BeautifulSoup extraeremos cada link del texto plano, para consultar cada uno de esos link con la librería requests, de ese texto podremos extraer cualquier elemento que nos interese."
   ]
  },
  {
   "cell_type": "code",
   "execution_count": 1,
   "metadata": {},
   "outputs": [],
   "source": [
    "import requests\n",
    "from bs4 import BeautifulSoup"
   ]
  },
  {
   "cell_type": "markdown",
   "metadata": {},
   "source": [
    "### Extracción de links de artículos\n",
    "\n",
    "En esta parte se entra a la página donde se encuentran los links de los artículos y se extraeran los links a consultar"
   ]
  },
  {
   "cell_type": "code",
   "execution_count": 2,
   "metadata": {},
   "outputs": [],
   "source": [
    "link_list2=[]\n",
    "#Rango de paginas\n",
    "for i in range(2): \n",
    "#Pagina desde donde parte el scraping\n",
    "    page=requests.get('https://www.elmostrador.cl/noticias/pais/page/{0}/'.format(i+1))\n",
    "#Armar una lista con todos los links\n",
    "    soup = BeautifulSoup(page.text, \"html.parser\") \n",
    "    for i in soup.find_all('div', {'class': 'col-xs-7 col-sm-10 col-md-10'}):\n",
    "        link = i.find('a', href=True)\n",
    "        link_list2.append(link['href'])\n",
    "        if link is None:\n",
    "            continue"
   ]
  },
  {
   "cell_type": "code",
   "execution_count": 3,
   "metadata": {},
   "outputs": [
    {
     "data": {
      "text/plain": [
       "['https://www.elmostrador.cl/dia/2022/08/29/carretonero-que-atropello-a-ciclista-en-manifestaciones-del-domingo-fue-dejado-en-libertad/',\n",
       " 'https://www.elmostrador.cl/dia/2022/08/29/balance-covid-19-minsal-informa-4-659-casos-y-1027-de-positividad-nacional/',\n",
       " 'https://www.elmostrador.cl/dia/2022/08/29/plebiscito-de-salida-ministerio-de-transportes-informa-estrategia-para-enfrentar-94-puntos-de-congestion-identificados-en-2021/',\n",
       " 'https://www.elmostrador.cl/dia/2022/08/29/cchdh-manifiesta-preocupacion-por-el-rol-de-los-medios-de-comunicacion-para-el-plebiscito-resulta-evidente-el-desequilibrio/',\n",
       " 'https://www.elmostrador.cl/dia/2022/08/29/onemi-declaro-perimetro-de-seguridad-por-amenaza-de-socavon-en-tierra-amarilla/',\n",
       " 'https://www.elmostrador.cl/dia/2022/08/29/brote-de-covid-19-en-juan-fernandez-activa-plan-de-respuesta-sanitaria/',\n",
       " 'https://www.elmostrador.cl/dia/2022/08/29/exdirector-de-la-pdi-es-acusado-de-malversacion-falsificacion-de-documentos-publicos-y-lavado-de-dinero/',\n",
       " 'https://www.elmostrador.cl/dia/2022/08/29/colegio-de-profesores-solicito-reunirse-con-mineduc-tras-eliminacion-de-puntajes-nacionales-en-paes/',\n",
       " 'https://www.elmostrador.cl/dia/2022/08/29/delegacion-presidencial-rm-confirmo-querella-por-hechos-de-violencia-registrados-en-la-alameda/',\n",
       " 'https://www.elmostrador.cl/destacado/2022/08/29/sonia-montecino-premio-nacional-de-humanidades-estamos-en-un-momento-que-nos-permite-pensar-y-repensarnos-una-oportunidad-unica/',\n",
       " 'https://www.elmostrador.cl/destacado/2022/08/29/quintero-y-puchuncavi-ninez-y-vejez-de-sacrificio/',\n",
       " 'https://www.elmostrador.cl/destacado/2022/08/29/informe-internacional-reuters-oxford-sobre-medios-de-comunicacion-destaca-a-el-mostrador-como-uno-de-los-mas-grandes-y-confiables-de-chile/',\n",
       " 'https://www.elmostrador.cl/noticias/2022/08/28/pulso-ciudadano-proyecta-que-771-del-padron-electoral-votara-en-el-plebiscito-de-salida/',\n",
       " 'https://www.elmostrador.cl/noticias/2022/08/28/productor-artistico-de-evento-por-el-apruebo-en-valparaiso-soy-responsable-de-cada-uno-de-los-momentos-exhibidos-en-el-escenario/',\n",
       " 'https://www.elmostrador.cl/noticias/2022/08/28/delegacion-presidencial-de-la-rm-presenta-querella-por-atropello-a-ciclistas-del-apruebo/',\n",
       " 'https://www.elmostrador.cl/destacado/2022/08/28/ministro-marcel-afirma-que-sea-cual-sea-el-resultado-del-plebiscito-constitucional-el-programa-de-gobierno-sigue-adelante/',\n",
       " 'https://www.elmostrador.cl/noticias/2022/08/28/carabineros-detuvo-a-conductor-de-carreta-que-atropello-a-ciclistas-y-sera-puesto-a-disposicion-de-tribunales/']"
      ]
     },
     "execution_count": 3,
     "metadata": {},
     "output_type": "execute_result"
    }
   ],
   "source": [
    "link_list2"
   ]
  },
  {
   "cell_type": "markdown",
   "metadata": {},
   "source": [
    "### Extracción de artículos\n",
    "\n",
    "Una vez se tienen los links, el proceso es similar a lo hecho previamente"
   ]
  },
  {
   "cell_type": "code",
   "execution_count": null,
   "metadata": {},
   "outputs": [],
   "source": [
    "#extrae de cada link el texto\n",
    "articulos=[]\n",
    "for i in link_list2:\n",
    "        art_soup=BeautifulSoup(requests.get(i).text, \"html.parser\")\n",
    "        #extraigo cada parrafo\n",
    "        for i in art_soup.find_all('div', {'id': 'noticia'}):\n",
    "            body = i.find_all('p', href=False)\n",
    "            art=[i.text for i in body] #lo conviertes a texto como lista de listas\n",
    "            articulos.append(art)"
   ]
  },
  {
   "cell_type": "code",
   "execution_count": null,
   "metadata": {},
   "outputs": [],
   "source": [
    "articulos[5]"
   ]
  },
  {
   "cell_type": "code",
   "execution_count": null,
   "metadata": {},
   "outputs": [],
   "source": []
  },
  {
   "cell_type": "code",
   "execution_count": null,
   "metadata": {},
   "outputs": [],
   "source": []
  }
 ],
 "metadata": {
  "kernelspec": {
   "display_name": "Python 3 (ipykernel)",
   "language": "python",
   "name": "python3"
  },
  "language_info": {
   "codemirror_mode": {
    "name": "ipython",
    "version": 3
   },
   "file_extension": ".py",
   "mimetype": "text/x-python",
   "name": "python",
   "nbconvert_exporter": "python",
   "pygments_lexer": "ipython3",
   "version": "3.9.7"
  }
 },
 "nbformat": 4,
 "nbformat_minor": 4
}
