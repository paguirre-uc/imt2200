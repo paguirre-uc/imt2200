{
 "cells": [
  {
   "cell_type": "markdown",
   "id": "66ae3681-cf82-43fd-9d11-52bc6d0f9cfd",
   "metadata": {},
   "source": [
    "<div style=\"background-color:#173267;\">\n",
    "    <br>\n",
    "    <img src=\"uclogo.png\" style=\"align:center;width:20%;\">\n",
    "    <p style=\"text-align:center;font-family:Trebuchet MS;color:white;font-size:40pt;font-weight:bold;margin:50px\">\n",
    "        AYUDANTÍA 6\n",
    "    </p>\n",
    "    <p style=\"text-align:center;font-family:Trebuchet MS;color:white;font-size:20pt;font-weight:bold;margin:50px\">\n",
    "        Introducción a la Ciencia de Datos\n",
    "    </p>\n",
    "    <p style=\"text-align:center;font-family:Trebuchet MS;color:white;font-size:12pt;\">\n",
    "        Felipe Gutiérrez - figutier@uc.cl\n",
    "        Nicolas Mendicoa - nmendicoa@uc.cl\n",
    "    </p>\n",
    "    <p style=\"text-align:center;font-family:Trebuchet MS;color:white;font-size:12pt;\">        \n",
    "        Modificado notebook de:\n",
    "        Vicente Agüero - vicenteaguero@uc.cl\n",
    "        <br>20 de Septiembre de 2022\n",
    "    </p>\n",
    "    <br><br>\n",
    "</div>"
   ]
  },
  {
   "cell_type": "markdown",
   "id": "572eaf23-3ec9-43ca-b633-2951a7ed9f46",
   "metadata": {},
   "source": [
    "<p style=\"text-align:center;font-family:Arial;color:#173267;font-size:20pt;font-weight:bold;\">\n",
    "    Preliminares\n",
    "</p>"
   ]
  },
  {
   "cell_type": "code",
   "execution_count": null,
   "id": "07b146db-2d64-476a-91c2-4a069b778859",
   "metadata": {},
   "outputs": [],
   "source": [
    "from matplotlib import pyplot as plt\n",
    "import pandas as pd\n",
    "import numpy as np\n",
    "import ipywidgets\n",
    "import re"
   ]
  },
  {
   "cell_type": "markdown",
   "id": "2a9658ed-6ab3-49d3-b216-d34d6c70f1d4",
   "metadata": {},
   "source": [
    "<p style=\"text-align:center;font-family:Arial;color:#173267;font-size:20pt;font-weight:bold;\">\n",
    "    Regular Expressions\n",
    "</p>\n",
    "\n",
    "<p style=\"text-align:center;font-family:Arial;color:#173267;font-size:14pt;\">\n",
    "    Las exprensiones regular consisten en buscar patrones (que pueden ser muy complejos) en strings\n",
    "</p>"
   ]
  },
  {
   "cell_type": "code",
   "execution_count": null,
   "id": "bc24e132-800b-4be9-9f40-ee16ef6fc541",
   "metadata": {},
   "outputs": [],
   "source": [
    "s = 'Introducción a la Ciencia de Datos'"
   ]
  },
  {
   "cell_type": "markdown",
   "id": "b150e59d-aa4f-4218-aa70-f839eda51a9d",
   "metadata": {},
   "source": [
    "<p style=\"font-family:Arial;color:#173267;font-size:14pt;\">\n",
    "    Buscar coincidencias\n",
    "</p>"
   ]
  },
  {
   "cell_type": "code",
   "execution_count": null,
   "id": "fb870440-35c3-4cec-92ed-a706fc903a8f",
   "metadata": {},
   "outputs": [],
   "source": [
    "re.search('a', s)"
   ]
  },
  {
   "cell_type": "code",
   "execution_count": null,
   "id": "c41b428e-b671-4dca-820c-2f3330c0b09e",
   "metadata": {},
   "outputs": [],
   "source": [
    "s[13:]"
   ]
  },
  {
   "cell_type": "code",
   "execution_count": null,
   "id": "0a7e27c1-4588-4635-b444-91a38805b9f3",
   "metadata": {},
   "outputs": [],
   "source": [
    "re.findall('a', s)"
   ]
  },
  {
   "cell_type": "markdown",
   "id": "ff996c1a-7565-4dee-ac61-9199058d5018",
   "metadata": {},
   "source": [
    "<p style=\"font-family:Arial;color:#173267;font-size:14pt;\">\n",
    "    Buscar coincidencias múltiples\n",
    "</p>"
   ]
  },
  {
   "cell_type": "code",
   "execution_count": null,
   "id": "b06cd3fc-eaaa-4c49-96ab-a247d11e3515",
   "metadata": {},
   "outputs": [],
   "source": [
    "re.search('[abc]', s)"
   ]
  },
  {
   "cell_type": "code",
   "execution_count": null,
   "id": "d347856b-a946-41c6-9940-5d2d3df27abe",
   "metadata": {},
   "outputs": [],
   "source": [
    "s[7:]"
   ]
  },
  {
   "cell_type": "markdown",
   "id": "075a40c1-6d5d-4d5e-ba62-7d287e5c7c36",
   "metadata": {},
   "source": [
    "<p style=\"font-family:Arial;color:#173267;font-size:14pt;\">\n",
    "    Buscar coincidencias múltiples en intervalos\n",
    "</p>"
   ]
  },
  {
   "cell_type": "code",
   "execution_count": null,
   "id": "9912dcb8-76ac-4ce4-acc5-e457b7c77261",
   "metadata": {},
   "outputs": [],
   "source": [
    "re.findall('[abc]', s)"
   ]
  },
  {
   "cell_type": "code",
   "execution_count": null,
   "id": "7f5f5041-3581-48c9-8571-806c77f45b24",
   "metadata": {},
   "outputs": [],
   "source": [
    "list(re.finditer('[abc]', s))"
   ]
  },
  {
   "cell_type": "code",
   "execution_count": null,
   "id": "32b356b4-07b6-4a84-a15d-cf1ecfa1f03e",
   "metadata": {},
   "outputs": [],
   "source": [
    "re.findall('[a-d]', s)"
   ]
  },
  {
   "cell_type": "code",
   "execution_count": null,
   "id": "39dd081a-78bb-4556-9c75-fed35786f614",
   "metadata": {},
   "outputs": [],
   "source": [
    "re.findall('[A-D]', s)"
   ]
  },
  {
   "cell_type": "code",
   "execution_count": null,
   "id": "1ea92509-cf00-4200-aa81-b2cdbb45fe54",
   "metadata": {},
   "outputs": [],
   "source": [
    "n = 'abc312333defg44456789dsfgh'"
   ]
  },
  {
   "cell_type": "code",
   "execution_count": null,
   "id": "04092fd7-831f-4f23-aef7-a4bd9adbef48",
   "metadata": {},
   "outputs": [],
   "source": [
    "re.findall('[3-6]', n)"
   ]
  },
  {
   "cell_type": "markdown",
   "id": "f1bb83e2-edd1-404f-856b-8d03358b2ff8",
   "metadata": {},
   "source": [
    "<p style=\"font-family:Arial;color:#173267;font-size:14pt;\">\n",
    "    <a href=\"https://www.py4e.com/lectures3/Pythonlearn-11-Regex-Handout.txt\" style=\"text-decoration:none,font-weight:bold\">Cheat Sheet</a>\n",
    "</p>\n",
    "\n",
    "```\n",
    "Python Regular Expression Quick Guide\n",
    "\n",
    "^        Matches the beginning of a line\n",
    "$        Matches the end of the line\n",
    ".        Matches any character\n",
    "\\s       Matches whitespace\n",
    "\\S       Matches any non-whitespace character\n",
    "*        Repeats a character zero or more times\n",
    "*?       Repeats a character zero or more times \n",
    "         (non-greedy)\n",
    "+        Repeats a character one or more times\n",
    "+?       Repeats a character one or more times \n",
    "         (non-greedy)\n",
    "[aeiou]  Matches a single character in the listed set\n",
    "[^XYZ]   Matches a single character not in the listed set\n",
    "[a-z0-9] The set of characters can include a range\n",
    "(        Indicates where string extraction is to start\n",
    ")        Indicates where string extraction is to end\n",
    "```"
   ]
  },
  {
   "cell_type": "code",
   "execution_count": null,
   "id": "3d1359ab-4ad9-4241-a954-b9633026950b",
   "metadata": {},
   "outputs": [],
   "source": [
    "s"
   ]
  },
  {
   "cell_type": "code",
   "execution_count": null,
   "id": "850798c8-2268-4371-a4be-cb08ab145577",
   "metadata": {},
   "outputs": [],
   "source": [
    "re.search('^Introducción', s)"
   ]
  },
  {
   "cell_type": "code",
   "execution_count": null,
   "id": "326ef334-61d5-46c4-901b-24f8aeff76c1",
   "metadata": {},
   "outputs": [],
   "source": [
    "re.search('$Introducción', s) # Returns None"
   ]
  },
  {
   "cell_type": "code",
   "execution_count": null,
   "id": "60036afe-5b79-4388-8a9d-e831c3530354",
   "metadata": {},
   "outputs": [],
   "source": [
    "re.search('.ntroducci.n', s)"
   ]
  },
  {
   "cell_type": "code",
   "execution_count": null,
   "id": "d44a93a3-a1bf-4e19-aec8-14e258546d9c",
   "metadata": {},
   "outputs": [],
   "source": [
    "re.search('la\\s', s)"
   ]
  },
  {
   "cell_type": "code",
   "execution_count": null,
   "id": "d5630a9b-db1d-4c87-8078-d82dfbee1ac5",
   "metadata": {},
   "outputs": [],
   "source": [
    "n"
   ]
  },
  {
   "cell_type": "code",
   "execution_count": null,
   "id": "d5aae303-0414-4bff-bb2c-284fb0e715ae",
   "metadata": {},
   "outputs": [],
   "source": [
    "re.findall('[2-5]+', n)"
   ]
  },
  {
   "cell_type": "code",
   "execution_count": null,
   "id": "52157274-256a-4773-af3b-62d9d315b348",
   "metadata": {},
   "outputs": [],
   "source": [
    "re.findall('[A-Za-záéíóú\\s]+', s)"
   ]
  },
  {
   "cell_type": "markdown",
   "id": "6e214c47-e7b9-456f-85e2-5563e47fd452",
   "metadata": {},
   "source": [
    "<p style=\"font-family:Arial;color:#173267;font-size:14pt;\">\n",
    "    Número de carácteres\n",
    "</p>"
   ]
  },
  {
   "cell_type": "code",
   "execution_count": null,
   "id": "e02b17b6-9060-4ce8-9393-4285891a250a",
   "metadata": {},
   "outputs": [],
   "source": [
    "re.findall('[1-9]{2}', n)"
   ]
  },
  {
   "cell_type": "markdown",
   "id": "b988063e-2b4e-4766-ba3e-43e2b766a8e3",
   "metadata": {},
   "source": [
    "<p style=\"font-family:Arial;color:#173267;font-size:14pt;\">\n",
    "    Búsquedas avanzadas\n",
    "</p>"
   ]
  },
  {
   "cell_type": "code",
   "execution_count": null,
   "id": "a282f3a5-80de-4d5d-bbf0-7b7b20b16265",
   "metadata": {},
   "outputs": [],
   "source": [
    "email = '¡Hola! Te mando mi email: hola1234@uc.cl, escríbeme lo antes posible'\n",
    "re.search('[a-z0-9_.]+@uc.cl', email)"
   ]
  },
  {
   "cell_type": "code",
   "execution_count": null,
   "id": "1a03cd33-f96a-49dd-b15a-aad2ebde7501",
   "metadata": {},
   "outputs": [],
   "source": [
    "email = '¡Hola! Te mando mi email: hola1234@uc.cl, escríbeme lo antes posible, también puedes escribirme a mi gmail: nomeacuerdocualeramigmail1234@gmail.com o a correofalso123@hotmail.codigoinexistente'\n",
    "re.findall('[a-z0-9_.]+@[a-z]+.[a-z]{2,3}', email)"
   ]
  },
  {
   "cell_type": "code",
   "execution_count": null,
   "id": "46b1feb6-a9b0-43c9-b241-fa17486ffba6",
   "metadata": {},
   "outputs": [],
   "source": [
    "# ¡Creatividad!\n",
    "re.findall('([a-zA-Z0-9_.+-]+)@[a-zA-Z0-9_.+-]+\\.[a-zA-Z0-9_.+-]', email)"
   ]
  },
  {
   "cell_type": "markdown",
   "id": "5462fbde-dfff-4d62-9d49-34b492836643",
   "metadata": {},
   "source": [
    "<p style=\"font-family:Arial;color:#173267;font-size:14pt;\">\n",
    "    Password\n",
    "    <ul>\n",
    "        <li>Al menos 8 carácteres</li>\n",
    "        <li>Se permiten letras, números y los siguientes símbolos: @%&*+</li>\n",
    "        <li>No se permiten espacios</li>\n",
    "    </ul>\n",
    "</p>"
   ]
  },
  {
   "cell_type": "code",
   "execution_count": null,
   "id": "892f080f-6ea9-4da0-b2fc-40c670f698f6",
   "metadata": {},
   "outputs": [],
   "source": [
    "def password(pwd):\n",
    "    if re.search('[a-zA-Z0-9@%&*+]{8,}', pwd):\n",
    "        print('¡Tu password es válida!')\n",
    "    else:\n",
    "        print('ERROR, tu password no está permitida.')"
   ]
  },
  {
   "cell_type": "code",
   "execution_count": null,
   "id": "22df2d2f-c1fe-4cde-9f1f-b6bb3ee7062e",
   "metadata": {},
   "outputs": [],
   "source": [
    "pwd = 'VicenteA'\n",
    "password(pwd)"
   ]
  },
  {
   "cell_type": "markdown",
   "id": "30f7869b-f567-4376-a560-fc56ae384f6d",
   "metadata": {},
   "source": [
    "<p style=\"font-family:Arial;color:#173267;font-size:14pt;\">\n",
    "    Coursera tiene un proyecto guiado de Regular Expressions, al que pueden acceder gratuitamente por ser de la UC (~1 hora). Se llama Regular Expressions in Python.\n",
    "</p>"
   ]
  },
  {
   "cell_type": "markdown",
   "id": "7ece537f-e222-484f-903d-4c79f4b3d537",
   "metadata": {},
   "source": [
    "<p style=\"text-align:center;font-family:Arial;color:#173267;font-size:20pt;font-weight:bold;\">\n",
    "    Time Series\n",
    "</p>"
   ]
  },
  {
   "cell_type": "code",
   "execution_count": null,
   "id": "034ec533-59e9-4404-b013-2efa84a409d1",
   "metadata": {},
   "outputs": [],
   "source": [
    "coin = pd.read_csv('data/coin_Bitcoin.csv')\n",
    "coin['Date'] = pd.to_datetime(coin['Date'])\n",
    "coin.set_index('Date', inplace=True)\n",
    "print(coin.shape)\n",
    "display(coin.head(3))"
   ]
  },
  {
   "cell_type": "code",
   "execution_count": null,
   "id": "6a1c23e9-a4ca-42bf-84cf-cd14fb43624f",
   "metadata": {},
   "outputs": [],
   "source": [
    "coin['High'].plot(figsize=(20, 10), linewidth=2)\n",
    "plt.show()"
   ]
  },
  {
   "cell_type": "code",
   "execution_count": null,
   "id": "208a28e0-885a-48c4-a9bd-60b5a33abdba",
   "metadata": {},
   "outputs": [],
   "source": [
    "coin.groupby(by=[coin.index.year, coin.index.month]).mean()['High'].plot(figsize=(20, 10), linewidth=2)\n",
    "plt.show()"
   ]
  },
  {
   "cell_type": "code",
   "execution_count": null,
   "id": "21fd0eeb-e061-4350-b6f9-9b6fccea8d64",
   "metadata": {},
   "outputs": [],
   "source": [
    "coin.groupby(pd.Grouper(freq='M')).max()['High'].plot(figsize=(20, 10), linewidth=2)\n",
    "plt.show()"
   ]
  },
  {
   "cell_type": "code",
   "execution_count": null,
   "id": "d4cca270",
   "metadata": {},
   "outputs": [],
   "source": [
    "#revisar Grouper"
   ]
  },
  {
   "cell_type": "code",
   "execution_count": null,
   "id": "3900ae6e",
   "metadata": {},
   "outputs": [],
   "source": [
    "coin"
   ]
  },
  {
   "cell_type": "code",
   "execution_count": null,
   "id": "47cff0e4-dfea-4727-9576-e0ed4a32e298",
   "metadata": {},
   "outputs": [],
   "source": [
    "@ipywidgets.interact(date_filter=['Y', 'M', 'D'], choose_coin=['Bitcoin', 'Dogecoin', 'Ethereum', 'Monero'], stat=['max', 'min', 'mean'],\n",
    "                     column=['High', 'Low', 'Marketcap'], start=(2013, 2021, 1), end=(2013, 2022, 1))\n",
    "def coin_plot(date_filter='D', choose_coin='Bitcoin', stat='mean', column='High', start=2013, end=2022):\n",
    "    coin = pd.read_csv(f'data/coin_{choose_coin}.csv')\n",
    "    coin['Date'] = pd.to_datetime(coin['Date'])\n",
    "    coin.set_index('Date', inplace=True)\n",
    "    fig, ax = plt.subplots(figsize=(20, 5))\n",
    "    ax.plot(getattr(coin[str(start):str(end)].groupby(pd.Grouper(freq=date_filter)), stat)()[column], linewidth=0.5, color='#FF2800', marker='o')\n",
    "    plt.show()"
   ]
  },
  {
   "cell_type": "markdown",
   "id": "1593a098-34a0-4737-8114-6c59fbc48c85",
   "metadata": {},
   "source": [
    "<p style=\"text-align:center;font-family:Arial;color:#173267;font-size:20pt;font-weight:bold;\">\n",
    "    Operar DataFrames\n",
    "</p>"
   ]
  },
  {
   "cell_type": "code",
   "execution_count": null,
   "id": "e11455f8-b632-4c81-8708-5cd41aad097b",
   "metadata": {},
   "outputs": [],
   "source": [
    "paths = ['data/coin_Aave.csv', 'data/coin_BinanceCoin.csv', 'data/coin_Bitcoin.csv', 'data/coin_Cardano.csv', 'data/coin_ChainLink.csv',\n",
    "         'data/coin_Cosmos.csv', 'data/coin_CryptocomCoin.csv', 'data/coin_Dogecoin.csv', 'data/coin_EOS.csv', 'data/coin_Ethereum.csv',\n",
    "         'data/coin_Iota.csv', 'data/coin_Litecoin.csv', 'data/coin_Monero.csv', 'data/coin_NEM.csv', 'data/coin_Polkadot.csv',\n",
    "         'data/coin_Solana.csv', 'data/coin_Stellar.csv', 'data/coin_Tether.csv', 'data/coin_Tron.csv', 'data/coin_Uniswap.csv',\n",
    "         'data/coin_USDCoin.csv', 'data/coin_WrappedBitcoin.csv', 'data/coin_XRP.csv']"
   ]
  },
  {
   "cell_type": "code",
   "execution_count": null,
   "id": "bc01b6e6-1e3a-4834-9bb8-49a228336eef",
   "metadata": {},
   "outputs": [],
   "source": [
    "def coin_read(n, plot=False):\n",
    "    coin = pd.read_csv(paths[n])\n",
    "    coin['Date'] = pd.to_datetime(coin['Date'])\n",
    "    coin.set_index('Date', inplace=True)\n",
    "    if plot:\n",
    "        display(coin.head(1).style.set_caption(paths[n][10:-4]))\n",
    "    else:\n",
    "        return coin"
   ]
  },
  {
   "cell_type": "code",
   "execution_count": null,
   "id": "39d5e342-371f-4a4b-b934-c210f4600f5e",
   "metadata": {},
   "outputs": [],
   "source": [
    "coin_read(2, plot=True)"
   ]
  },
  {
   "cell_type": "code",
   "execution_count": null,
   "id": "cb44acfa-828e-4ac4-8731-3499b42d3ac2",
   "metadata": {},
   "outputs": [],
   "source": [
    "coins = pd.concat([coin_read(i) for i in range(len(paths))])\n",
    "coins.groupby('Name').mean().style.set_caption('Criptomonedas y sus estadísticas')"
   ]
  },
  {
   "cell_type": "code",
   "execution_count": null,
   "id": "3a5a66bf-ec6a-4a22-84b1-bdf2cfb1ddba",
   "metadata": {},
   "outputs": [],
   "source": [
    "coin = coin_read(2)\n",
    "coin[(coin['High'] > 1000) & (coin['Low'] < 900)]"
   ]
  },
  {
   "cell_type": "code",
   "execution_count": null,
   "id": "c3494dae-84b8-413b-93fa-3652a7fbbcd9",
   "metadata": {},
   "outputs": [],
   "source": [
    "coins[(coins['Open'] == coins['Low']) | (coins['High'] == coins['Close'])]"
   ]
  },
  {
   "cell_type": "markdown",
   "id": "b1940d04",
   "metadata": {},
   "source": [
    "<p style=\"text-align:center;font-family:Arial;color:#173267;font-size:20pt;font-weight:bold;\">\n",
    "    Señales de audio\n",
    "</p>\n",
    "\n",
    "Las señales en general, tienen muchas similaridades con las series de tiempo, ya que estas denotan una vibración a traves del tiempo y se representan como una secuencia de puntos de datos. Muchas de las técnicas utilizadas en series de tiempo tienen su utilidad en el mundo de las señales, como la función de autocorrelación, transformadas como la Wavelet o de Fourier u otras que podrán ver en los cursos correspondientes."
   ]
  },
  {
   "cell_type": "code",
   "execution_count": null,
   "id": "5c9a06a4",
   "metadata": {},
   "outputs": [],
   "source": [
    "from scipy.io import wavfile\n"
   ]
  },
  {
   "cell_type": "markdown",
   "id": "9ffa34fb",
   "metadata": {},
   "source": [
    "## Samplerate y dato audio\n",
    "El dato de audio a diferencia de la serie de tiempo, cuenta con una tasa de muestreo, utilizada para entender de manera discreta una señal, estas generalmente son isoespaciadas, lo que es deseable en una serie de tiempo, pero no siempre es posible. En el caso particular de las seles de audio, estas pueden contar con mas de un canal (estereo), pero se puede pasar a un canal al agregar los distintos canales, en este caso utilizaremos el promedio de ambos"
   ]
  },
  {
   "cell_type": "code",
   "execution_count": null,
   "id": "077719be",
   "metadata": {},
   "outputs": [],
   "source": [
    "wavfile.read('carmen.wav')"
   ]
  },
  {
   "cell_type": "code",
   "execution_count": null,
   "id": "4b667ce3",
   "metadata": {},
   "outputs": [],
   "source": [
    "samplerate, audio = wavfile.read('carmen.wav')\n",
    "audio = (audio[:,0]+audio[:,1])/2"
   ]
  },
  {
   "cell_type": "code",
   "execution_count": null,
   "id": "6c3ef3ea",
   "metadata": {},
   "outputs": [],
   "source": [
    "plt.plot(audio)"
   ]
  },
  {
   "cell_type": "markdown",
   "id": "312fb68d",
   "metadata": {},
   "source": [
    "## Función de autocorrelación\n",
    "La función de autocorrelación (ACF) mide la correlación entre untre un punto con respecto a un punto anterior o posterior en una serie de tiempo.\n",
    "En las señales de audio, sirve para detectar el periodo de señales simples al detectar el momento en que hay una mayor correlación entre un punto de la señal y un desplazamiento. Al saber el desplazamiento en el que ocurre la mayor autocorrelación, podemos saber el periodo del punto en el que se realiza la evaluación."
   ]
  },
  {
   "cell_type": "code",
   "execution_count": null,
   "id": "fc127aa8",
   "metadata": {},
   "outputs": [],
   "source": [
    "def acf(signal: np.array, lag: int) -> float:\n",
    "\n",
    "    return np.sum(signal[:-lag] * signal[lag:])/len(signal)\n",
    "\n",
    "def detect_pitch(signal: np.array, samplerate: int, bounds: [int]) -> float:\n",
    "    acf_vals = [acf(signal, lag) for lag in range(*bounds)]\n",
    "    sample = np.argmax(acf_vals) + bounds[0]\n",
    "    return samplerate/sample\n"
   ]
  },
  {
   "cell_type": "markdown",
   "id": "8bdca479",
   "metadata": {},
   "source": [
    "## Sliding windows\n",
    "Para trabajar tanto con señales como series de tiempo, es conveniente utilizar una distancia la cual permite analizar o agregar información de manera local. Existen distintos tipos de ventana, pero la mas simple es tomar los puntos dentro de un rango igual al tamaño de la ventana. Como las transiciones de los eventos a analizar no son previamente determinadas, es común utilizar un \"overlap\""
   ]
  },
  {
   "cell_type": "code",
   "execution_count": null,
   "id": "02737f21",
   "metadata": {},
   "outputs": [],
   "source": [
    "def sliding_window(signal, chunk_size: int = 1024, overlap: float = 0.25) -> [np.array]:\n",
    "\n",
    "    chunks = []\n",
    "    init_cut = 0\n",
    "    cut = 0 + chunk_size\n",
    "\n",
    "    while len(signal) > cut:\n",
    "        try:\n",
    "            chunk = signal[init_cut:cut]\n",
    "            init_cut += round(chunk_size*(1-overlap))\n",
    "            cut += round(chunk_size*(1-overlap))\n",
    "            chunks.append(chunk)\n",
    "        except:\n",
    "            chunks.append(signal[init_cut:])\n",
    "    return chunks"
   ]
  },
  {
   "cell_type": "markdown",
   "id": "bd01fa60",
   "metadata": {},
   "source": [
    "Se genera una función anexa que permite mapear una frecuencia a la nota musical mas cercana en virtud de la aplicación que estamos viendo"
   ]
  },
  {
   "cell_type": "code",
   "execution_count": null,
   "id": "b08b5594",
   "metadata": {},
   "outputs": [],
   "source": [
    "def closest_value(input_list, input_value):\n",
    " \n",
    "  arr = np.asarray(input_list)\n",
    " \n",
    "  i = (np.abs(arr - input_value)).argmin()\n",
    " \n",
    "  return arr[i]\n",
    "\n",
    "notes = ['C', 'C#', 'D', 'D#', 'E', 'F', 'F#', 'G', 'G#','A', 'A#', 'B']\n",
    "ideal_freqs = [16.35 * 2**(i/12) for i in range(12)]\n",
    "all_notes = []\n",
    "all_freqs = []\n",
    "for f in range(12):\n",
    "    for o in range(8):\n",
    "        all_notes.append('{0}{1}'.format(notes[f], o))\n",
    "        all_freqs.append(ideal_freqs[f]*2**o)\n",
    "notes_dict = dict(zip(all_freqs, all_notes))       \n",
    "        \n",
    "\n",
    "def recognize_freq(freq, notes_dict = notes_dict):\n",
    "    frequency = closest_value(list(notes_dict.keys()), freq)\n",
    "    return frequency, notes_dict[frequency]"
   ]
  },
  {
   "cell_type": "code",
   "execution_count": null,
   "id": "9b2702be",
   "metadata": {},
   "outputs": [],
   "source": [
    "plt.plot(audio)"
   ]
  },
  {
   "cell_type": "code",
   "execution_count": null,
   "id": "0731f6c2",
   "metadata": {},
   "outputs": [],
   "source": [
    "window_size = 1024\n",
    "chunks = sliding_window(audio, window_size)\n",
    "bounds = [30, 256]"
   ]
  },
  {
   "cell_type": "code",
   "execution_count": null,
   "id": "698bc33d",
   "metadata": {},
   "outputs": [],
   "source": [
    "plt.plot(chunks[3])"
   ]
  },
  {
   "cell_type": "code",
   "execution_count": null,
   "id": "fe38d7f7",
   "metadata": {},
   "outputs": [],
   "source": [
    "freqs = np.array([detect_pitch(chunk, samplerate, bounds) for chunk in chunks])"
   ]
  },
  {
   "cell_type": "code",
   "execution_count": null,
   "id": "154f7d3f",
   "metadata": {},
   "outputs": [],
   "source": [
    "plt.plot(freqs)"
   ]
  },
  {
   "cell_type": "code",
   "execution_count": null,
   "id": "b6f59f1e",
   "metadata": {},
   "outputs": [],
   "source": [
    "def seconds_per_chunk(audio, chunks, samplerate, overlap = 0.25):\n",
    "    \n",
    "    return ((len(audio)/samplerate)/len(chunks))\n",
    "\n",
    "def w_time_frame(audio, chunks, samplerate, overlap = 0.25):\n",
    "    seconds = len(audio)/samplerate\n",
    "    secondsperchunk = (seconds/len(chunks))\n",
    "    return np.arange(0, seconds, secondsperchunk)\n",
    "    "
   ]
  },
  {
   "cell_type": "code",
   "execution_count": null,
   "id": "8cd090d5",
   "metadata": {},
   "outputs": [],
   "source": [
    "freqs = np.array([detect_pitch(chunk, samplerate, bounds) for chunk in chunks])\n",
    "plt.plot(w_time_frame(audio, chunks, samplerate), freqs)\n",
    "plt.title('Frequencies ACF Carmen')\n",
    "plt.xlabel('Time')\n",
    "plt.ylabel('Frequency')\n",
    "plt.show()"
   ]
  },
  {
   "cell_type": "code",
   "execution_count": null,
   "id": "16157acc",
   "metadata": {},
   "outputs": [],
   "source": [
    "samplerate, audio = wavfile.read('cello.wav')\n",
    "audio = (audio[:,0]+audio[:,1])/2"
   ]
  },
  {
   "cell_type": "code",
   "execution_count": null,
   "id": "20db9e89",
   "metadata": {},
   "outputs": [],
   "source": [
    "windows_size = 512\n",
    "chunks = sliding_window(audio)\n",
    "bounds = [30, 256]\n",
    "freqs = np.array([detect_pitch(chunk, samplerate, bounds) for chunk in chunks])\n",
    "plt.plot(w_time_frame(audio, chunks, samplerate), freqs)\n",
    "plt.title('Frequencies ACF Cello 2')\n",
    "plt.xlabel('Time')\n",
    "plt.ylabel('Frequency')\n",
    "plt.show()"
   ]
  },
  {
   "cell_type": "code",
   "execution_count": null,
   "id": "fd52b580",
   "metadata": {},
   "outputs": [],
   "source": []
  }
 ],
 "metadata": {
  "kernelspec": {
   "display_name": "Python 3 (ipykernel)",
   "language": "python",
   "name": "python3"
  },
  "language_info": {
   "codemirror_mode": {
    "name": "ipython",
    "version": 3
   },
   "file_extension": ".py",
   "mimetype": "text/x-python",
   "name": "python",
   "nbconvert_exporter": "python",
   "pygments_lexer": "ipython3",
   "version": "3.9.7"
  }
 },
 "nbformat": 4,
 "nbformat_minor": 5
}
