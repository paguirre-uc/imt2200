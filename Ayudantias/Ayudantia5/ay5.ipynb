{
 "cells": [
  {
   "cell_type": "markdown",
   "metadata": {},
   "source": [
    "<div style=\"background-color:#173267;\">\n",
    "    <br>\n",
    "    <img src=\"uclogo.png\" style=\"align:center;width:20%;\">\n",
    "    <p style=\"text-align:center;font-family:Trebuchet MS;color:white;font-size:40pt;font-weight:bold;margin:50px\">\n",
    "        AYUDANTÍA 5\n",
    "    </p>\n",
    "    <p style=\"text-align:center;font-family:Trebuchet MS;color:white;font-size:20pt;font-weight:bold;margin:50px\">\n",
    "        Introducción a la Ciencia de Datos\n",
    "    </p>\n",
    "    <p style=\"text-align:center;font-family:Trebuchet MS;color:white;font-size:12pt;\">\n",
    "        Felipe Gutiérrez - figutier@uc.cl\n",
    "        Nicolas Mendicoa - nmendicoa@uc.cl\n",
    "    </p>\n",
    "    <p style=\"text-align:center;font-family:Trebuchet MS;color:white;font-size:12pt;\">        \n",
    "        Basado en notebook de:\n",
    "        Vicente Agüero - vicenteaguero@uc.cl\n",
    "        <br>13 de Septiembre de 2022\n",
    "    </p>\n",
    "    <br><br>\n",
    "</div>"
   ]
  },
  {
   "cell_type": "markdown",
   "metadata": {},
   "source": [
    "<p style=\"text-align:center;font-family:Arial;color:#173267;font-size:20pt;font-weight:bold;\">\n",
    "    Preliminares\n",
    "</p>"
   ]
  },
  {
   "cell_type": "code",
   "execution_count": 1,
   "metadata": {},
   "outputs": [],
   "source": [
    "import pandas as pd\n",
    "import numpy as np"
   ]
  },
  {
   "cell_type": "code",
   "execution_count": 2,
   "metadata": {},
   "outputs": [],
   "source": [
    "pd.set_option('display.max_columns', 500)"
   ]
  },
  {
   "cell_type": "markdown",
   "metadata": {},
   "source": [
    "<p style=\"text-align:center;font-family:Arial;color:#173267;font-size:20pt;font-weight:bold;\">\n",
    "    String methods\n",
    "</p>"
   ]
  },
  {
   "cell_type": "code",
   "execution_count": 3,
   "metadata": {},
   "outputs": [
    {
     "name": "stdout",
     "output_type": "stream",
     "text": [
      "u = CIENCIA DE DATOS\n",
      "l = ciencia de datos\n",
      "ul = 0\n",
      "\n",
      "¿u son mayúsculas? True\n",
      "¿l son mayúsculas? False\n",
      "¿ul son mayúsculas? False\n",
      "\n",
      "¿u son minúsculas? False\n",
      "¿l son minúsculas? True\n",
      "¿ul son minúsculas? False\n"
     ]
    }
   ],
   "source": [
    "# ¿Son mayúsculas o minúsculas?\n",
    "\n",
    "u = 'CIENCIA DE DATOS'\n",
    "l = 'ciencia de datos'\n",
    "ul = 'CiEnCiA dE dAtOs'\n",
    "\n",
    "print(f'u = {u}')\n",
    "print(f'l = {l}')\n",
    "print('ul = {0}\\n'.format(ul))\n",
    "\n",
    "#print(f'¿u son mayúsculas? ')\n",
    "#print(f'¿l son mayúsculas? ')\n",
    "#print(f'¿ul son mayúsculas? \\n')\n",
    "\n",
    "#print(f'¿u son minúsculas? ')\n",
    "#print(f'¿l son minúsculas? ')\n",
    "#print(f'¿ul son minúsculas? ')"
   ]
  },
  {
   "cell_type": "code",
   "execution_count": 4,
   "metadata": {},
   "outputs": [
    {
     "name": "stdout",
     "output_type": "stream",
     "text": [
      "s = cIEncIa de DAtos\n",
      "Mayúscula inicial: Ciencia de datos\n",
      "Título: Ciencia De Datos\n",
      "Todo en mayúsculas: CIENCIA DE DATOS\n",
      "Todo en minúsuclas: ciencia de datos\n"
     ]
    }
   ],
   "source": [
    "# Control de mayúsculas o minúsculas\n",
    "\n",
    "s = 'cIEncIa de DAtos'\n",
    "\n",
    "#print(f's = {s}')\n",
    "#print(f'Mayúscula inicial: ')\n",
    "#print(f'Título: ')\n",
    "#print(f'Todo en mayúsculas: ')\n",
    "#print(f'Todo en minúsuclas: ')"
   ]
  },
  {
   "cell_type": "code",
   "execution_count": 5,
   "metadata": {},
   "outputs": [
    {
     "name": "stdout",
     "output_type": "stream",
     "text": [
      "n = 1024\n",
      "¿n es todo números? True\n",
      "¿n es todo letras? False\n",
      "¿n es todo letras o números? True\n",
      "\n",
      "w = string\n",
      "¿w es todo números? False\n",
      "¿w es todo letras? True\n",
      "¿w es todo letras o números? True\n",
      "\n",
      "nw = ABC123\n",
      "¿nw es todo números? False\n",
      "¿nw es todo letras? False\n",
      "¿nw es todo letras o números? True\n"
     ]
    }
   ],
   "source": [
    "# ¿Números, letras o ambos?\n",
    "\n",
    "n = '1024'\n",
    "w = 'string'\n",
    "nw = 'ABC123'\n",
    "\n",
    "print(f'n = {n}')\n",
    "#print(f'¿n es todo números? ')\n",
    "#print(f'¿n es todo letras? ')\n",
    "#print(f'¿n es todo letras o números? \\n')\n",
    "\n",
    "print(f'w = {w}')\n",
    "#print(f'¿w es todo números? ')\n",
    "#print(f'¿w es todo letras? ')\n",
    "#print(f'¿w es todo letras o números? \\n')\n",
    "\n",
    "print(f'nw = {nw}')\n",
    "#print(f'¿nw es todo números? ')\n",
    "#print(f'¿nw es todo letras? ')\n",
    "#print(f'¿nw es todo letras o números? ')"
   ]
  },
  {
   "cell_type": "code",
   "execution_count": 6,
   "metadata": {},
   "outputs": [
    {
     "name": "stdout",
     "output_type": "stream",
     "text": [
      "bbcbbcbbcbbcbbcbbcbbcbbcbbcbbc\n",
      "¿Cuántas \"b\" hay en a? 20\n"
     ]
    }
   ],
   "source": [
    "# Contar\n",
    "\n",
    "a = 'bbc' * 10\n",
    "\n",
    "print(a)\n",
    "print(f'¿Cuántas \"b\" hay en a? {a.count(\"b\")}')"
   ]
  },
  {
   "cell_type": "code",
   "execution_count": 7,
   "metadata": {},
   "outputs": [
    {
     "name": "stdout",
     "output_type": "stream",
     "text": [
      "random = njdcnojaigryfagbcjndshbvgyikrgdfshudsfhijdfshjdfsfasuyfdklyfgasyflgvhjsgfysgvulgsuyifgcuvgsruilgfvuiguv\n",
      "code = <div>cienciadedatos</div><p>soyunstring</p><h1>cienciadedatos</h1>\n",
      "\n",
      "search = cienciadedatos\n",
      "\n",
      "¿Dónde está la palabra cienciadedatos en random? -1\n",
      "¿Dónde está la palabra cienciadedatos en code? 5\n",
      "\n",
      "Example: cienciadedatos</div><p>soyunstring</p><h1>cienciadedatos</h1>\n",
      "\n",
      "Pythonic way de buscar una segunda ocurrencia: iterativamente\n",
      "\n",
      "¿Cómo se podría hacer para la nth ocurrencia?\n",
      "Respuesta: ¡Una función! Aunque hay mejores formas... pero lo veremos más adelante\n",
      "\n",
      "¿Dónde está la palabra cienciadedatos por segunda vez en code? 47\n",
      "\n",
      "Example: cienciadedatos</h1>\n"
     ]
    }
   ],
   "source": [
    "# Buscar substring\n",
    "\n",
    "random = 'njdcnojaigryfagbcjndshbvgyikrgdfshudsfhijdfshjdfsfasuyfdklyfgasyflgvhjsgfysgvulgsuyifgcuvgsruilgfvuiguv'\n",
    "code = '<div>cienciadedatos</div><p>soyunstring</p><h1>cienciadedatos</h1>'\n",
    "search = 'cienciadedatos'\n",
    "\n",
    "print(f'random = {random}')\n",
    "print(f'code = {code}\\n')\n",
    "\n",
    "print(f'search = {search}\\n')\n",
    "\n",
    "print(f'¿Dónde está la palabra {search} en random? {random.find(search)}')\n",
    "print(f'¿Dónde está la palabra {search} en code? {code.find(search)}\\n')\n",
    "\n",
    "print(f'Example: {code[code.find(search):]}')\n",
    "\n",
    "print('\\nPythonic way de buscar una segunda ocurrencia: iterativamente\\n')\n",
    "print('¿Cómo se podría hacer para la nth ocurrencia?')\n",
    "print('Respuesta: ¡Una función! Aunque hay mejores formas... pero lo veremos más adelante\\n')\n",
    "print(f'¿Dónde está la palabra {search} por segunda vez en code? {code.find(search, code.find(search)+1)}\\n')\n",
    "\n",
    "print(f'Example: {code[code.find(search, code.find(search)+1):]}')"
   ]
  },
  {
   "cell_type": "code",
   "execution_count": 8,
   "metadata": {},
   "outputs": [
    {
     "name": "stdout",
     "output_type": "stream",
     "text": [
      "s = DATA AND SCIENCE\n",
      "Hacer un split a s: ['DATA', 'AND', 'SCIENCE']\n",
      "Hacer un split a s en \"AND\": ['DATA ', ' SCIENCE']\n",
      "Hacer un split por carácteres a s: ['D', 'A', 'T', 'A', ' ', 'A', 'N', 'D', ' ', 'S', 'C', 'I', 'E', 'N', 'C', 'E']\n",
      "Hacer una partición a s: ('DATA ', 'AND', ' SCIENCE')\n"
     ]
    }
   ],
   "source": [
    "# Split en listas o Partición en tuplas\n",
    "\n",
    "s = 'DATA AND SCIENCE'\n",
    "\n",
    "print(f's = {s}')\n",
    "print(f'Hacer un split a s: {s.split()}')\n",
    "print(f'Hacer un split a s en \"AND\": {s.split(\"AND\")}')\n",
    "print(f'Hacer un split por carácteres a s: {list(s)}')\n",
    "print(f'Hacer una partición a s: {s.partition(\"AND\")}')"
   ]
  },
  {
   "cell_type": "code",
   "execution_count": 9,
   "metadata": {},
   "outputs": [
    {
     "name": "stdout",
     "output_type": "stream",
     "text": [
      "l = ['DATA', 'SCIENCE']\n",
      "Hacer un join a l: DATA AND SCIENCE\n"
     ]
    }
   ],
   "source": [
    "# Join de listas a string\n",
    "\n",
    "l = ['DATA', 'SCIENCE']\n",
    "\n",
    "print(f'l = {l}')\n",
    "print(f'Hacer un join a l: {\" AND \".join(l)}')"
   ]
  },
  {
   "cell_type": "code",
   "execution_count": 10,
   "metadata": {},
   "outputs": [
    {
     "name": "stdout",
     "output_type": "stream",
     "text": [
      "s = [Este string está limpio.@\n",
      "Cortar s: Este string está limpio\n"
     ]
    }
   ],
   "source": [
    "# Limpiar\n",
    "\n",
    "s = '[Este string está limpio.@'\n",
    "\n",
    "print(f's = {s}')\n",
    "print(f'Cortar s: {s.strip(\"@[.\")}')"
   ]
  },
  {
   "cell_type": "code",
   "execution_count": 11,
   "metadata": {},
   "outputs": [
    {
     "name": "stdout",
     "output_type": "stream",
     "text": [
      "r = Science de Datos\n",
      "Reemplazar \"Science\" en r: Ciencia de Datos\n"
     ]
    }
   ],
   "source": [
    "# Replace\n",
    "\n",
    "r = 'Science de Datos'\n",
    "\n",
    "print(f'r = {r}')\n",
    "print(f'Reemplazar \"Science\" en r: {r.replace(\"Science\", \"Ciencia\")}')"
   ]
  },
  {
   "cell_type": "markdown",
   "metadata": {},
   "source": [
    "<p style=\"tfont-family:Arial;color:#173267;font-size:14pt;font-weight:bold;\">\n",
    "    Referencia a más métodos: <a href=\"https://www.w3schools.com/python/python_ref_string.asp\" style=\"text-decoration:none\">String Methods W3</a>\n",
    "</p>\n",
    "\n",
    "<p style=\"tfont-family:Arial;color:#173267;font-size:14pt;font-weight:bold;\">\n",
    "    Referencia oficial de python métodos: <a href=\"https://docs.python.org/3/library/stdtypes.html#string-methods\" style=\"text-decoration:none\">String Methods Python</a>\n",
    "</p>\n",
    "\n",
    "\n",
    "<p style=\"tfont-family:Arial;color:#173267;font-size:14pt;font-weight:bold;\">\n",
    "   Guia de manejo de string de Pandas: <a href=\"https://pandas.pydata.org/docs/user_guide/text.html\" style=\"text-decoration:none\">String Methods Guide, Pandas</a>\n",
    "</p>\n"
   ]
  },
  {
   "cell_type": "markdown",
   "metadata": {},
   "source": [
    "<p style=\"text-align:center;font-family:Arial;color:#173267;font-size:20pt;font-weight:bold;\">\n",
    "    Dataset\n",
    "</p>"
   ]
  },
  {
   "cell_type": "markdown",
   "metadata": {},
   "source": [
    "<p style=\"tfont-family:Arial;color:#173267;font-size:14pt;font-weight:bold;\">\n",
    "    Dataset en Kaggle: <a href=\"https://www.kaggle.com/shivamb/netflix-shows\" style=\"text-decoration:none\">Netflix Movies and TV Shows</a>\n",
    "</p>"
   ]
  },
  {
   "cell_type": "code",
   "execution_count": 12,
   "metadata": {},
   "outputs": [
    {
     "name": "stdout",
     "output_type": "stream",
     "text": [
      "(6, 12)\n"
     ]
    },
    {
     "data": {
      "text/html": [
       "<div>\n",
       "<style scoped>\n",
       "    .dataframe tbody tr th:only-of-type {\n",
       "        vertical-align: middle;\n",
       "    }\n",
       "\n",
       "    .dataframe tbody tr th {\n",
       "        vertical-align: top;\n",
       "    }\n",
       "\n",
       "    .dataframe thead th {\n",
       "        text-align: right;\n",
       "    }\n",
       "</style>\n",
       "<table border=\"1\" class=\"dataframe\">\n",
       "  <thead>\n",
       "    <tr style=\"text-align: right;\">\n",
       "      <th></th>\n",
       "      <th>show_id</th>\n",
       "      <th>type</th>\n",
       "      <th>title</th>\n",
       "      <th>director</th>\n",
       "      <th>cast</th>\n",
       "      <th>country</th>\n",
       "      <th>date_added</th>\n",
       "      <th>release_year</th>\n",
       "      <th>rating</th>\n",
       "      <th>duration</th>\n",
       "      <th>listed_in</th>\n",
       "      <th>description</th>\n",
       "    </tr>\n",
       "  </thead>\n",
       "  <tbody>\n",
       "    <tr>\n",
       "      <th>5133</th>\n",
       "      <td>s5134</td>\n",
       "      <td>Movie</td>\n",
       "      <td>Red Christmas</td>\n",
       "      <td>Craig Anderson</td>\n",
       "      <td>Dee Wallace, Geoff Morrell, Sarah Bishop, Jani...</td>\n",
       "      <td>Australia</td>\n",
       "      <td>December 11, 2017</td>\n",
       "      <td>2016</td>\n",
       "      <td>TV-MA</td>\n",
       "      <td>81 min</td>\n",
       "      <td>Horror Movies</td>\n",
       "      <td>A family Christmas gathering at an isolated Au...</td>\n",
       "    </tr>\n",
       "    <tr>\n",
       "      <th>4881</th>\n",
       "      <td>s4882</td>\n",
       "      <td>Movie</td>\n",
       "      <td>Playing for Keeps</td>\n",
       "      <td>Gabriele Muccino</td>\n",
       "      <td>Gerard Butler, Jessica Biel, Catherine Zeta-Jo...</td>\n",
       "      <td>United States</td>\n",
       "      <td>January 3, 2021</td>\n",
       "      <td>2012</td>\n",
       "      <td>PG-13</td>\n",
       "      <td>106 min</td>\n",
       "      <td>Comedies, Romantic Movies, Sports Movies</td>\n",
       "      <td>A washed-up, former soccer star attempts to re...</td>\n",
       "    </tr>\n",
       "    <tr>\n",
       "      <th>2833</th>\n",
       "      <td>s2834</td>\n",
       "      <td>Movie</td>\n",
       "      <td>House of the Witch</td>\n",
       "      <td>Alex Merkin</td>\n",
       "      <td>Emily Bader, Darren Mann, Michelle Randolph, C...</td>\n",
       "      <td>United States</td>\n",
       "      <td>October 11, 2020</td>\n",
       "      <td>2017</td>\n",
       "      <td>TV-MA</td>\n",
       "      <td>86 min</td>\n",
       "      <td>Horror Movies</td>\n",
       "      <td>A group of daring teens finds themselves in a ...</td>\n",
       "    </tr>\n",
       "    <tr>\n",
       "      <th>5403</th>\n",
       "      <td>s5404</td>\n",
       "      <td>Movie</td>\n",
       "      <td>Satrangi Re</td>\n",
       "      <td>Aditya Sarpotdar</td>\n",
       "      <td>Amruta Khanvilkar, Vidyadhar Joshi, Subodh Bhave</td>\n",
       "      <td>India</td>\n",
       "      <td>March 15, 2018</td>\n",
       "      <td>2012</td>\n",
       "      <td>TV-14</td>\n",
       "      <td>150 min</td>\n",
       "      <td>Dramas, International Movies, Music &amp; Musicals</td>\n",
       "      <td>Friends in their last year of college contempl...</td>\n",
       "    </tr>\n",
       "    <tr>\n",
       "      <th>2078</th>\n",
       "      <td>s2079</td>\n",
       "      <td>Movie</td>\n",
       "      <td>Eyyvah Eyyvah</td>\n",
       "      <td>Hakan Algül</td>\n",
       "      <td>Demet Akbağ, Ata Demirer, Özge Borak, Bican Gü...</td>\n",
       "      <td>Turkey</td>\n",
       "      <td>March 10, 2017</td>\n",
       "      <td>2010</td>\n",
       "      <td>TV-MA</td>\n",
       "      <td>99 min</td>\n",
       "      <td>Comedies, International Movies</td>\n",
       "      <td>A clarinet player who lives with his grandpare...</td>\n",
       "    </tr>\n",
       "    <tr>\n",
       "      <th>27</th>\n",
       "      <td>s28</td>\n",
       "      <td>Movie</td>\n",
       "      <td>#Alive</td>\n",
       "      <td>Cho Il</td>\n",
       "      <td>Yoo Ah-in, Park Shin-hye</td>\n",
       "      <td>South Korea</td>\n",
       "      <td>September 8, 2020</td>\n",
       "      <td>2020</td>\n",
       "      <td>TV-MA</td>\n",
       "      <td>99 min</td>\n",
       "      <td>Horror Movies, International Movies, Thrillers</td>\n",
       "      <td>As a grisly virus rampages a city, a lone man ...</td>\n",
       "    </tr>\n",
       "  </tbody>\n",
       "</table>\n",
       "</div>"
      ],
      "text/plain": [
       "     show_id   type               title          director  \\\n",
       "5133   s5134  Movie       Red Christmas    Craig Anderson   \n",
       "4881   s4882  Movie   Playing for Keeps  Gabriele Muccino   \n",
       "2833   s2834  Movie  House of the Witch       Alex Merkin   \n",
       "5403   s5404  Movie         Satrangi Re  Aditya Sarpotdar   \n",
       "2078   s2079  Movie       Eyyvah Eyyvah       Hakan Algül   \n",
       "27       s28  Movie              #Alive            Cho Il   \n",
       "\n",
       "                                                   cast        country  \\\n",
       "5133  Dee Wallace, Geoff Morrell, Sarah Bishop, Jani...      Australia   \n",
       "4881  Gerard Butler, Jessica Biel, Catherine Zeta-Jo...  United States   \n",
       "2833  Emily Bader, Darren Mann, Michelle Randolph, C...  United States   \n",
       "5403   Amruta Khanvilkar, Vidyadhar Joshi, Subodh Bhave          India   \n",
       "2078  Demet Akbağ, Ata Demirer, Özge Borak, Bican Gü...         Turkey   \n",
       "27                             Yoo Ah-in, Park Shin-hye    South Korea   \n",
       "\n",
       "             date_added  release_year rating duration  \\\n",
       "5133  December 11, 2017          2016  TV-MA   81 min   \n",
       "4881    January 3, 2021          2012  PG-13  106 min   \n",
       "2833   October 11, 2020          2017  TV-MA   86 min   \n",
       "5403     March 15, 2018          2012  TV-14  150 min   \n",
       "2078     March 10, 2017          2010  TV-MA   99 min   \n",
       "27    September 8, 2020          2020  TV-MA   99 min   \n",
       "\n",
       "                                           listed_in  \\\n",
       "5133                                   Horror Movies   \n",
       "4881        Comedies, Romantic Movies, Sports Movies   \n",
       "2833                                   Horror Movies   \n",
       "5403  Dramas, International Movies, Music & Musicals   \n",
       "2078                  Comedies, International Movies   \n",
       "27    Horror Movies, International Movies, Thrillers   \n",
       "\n",
       "                                            description  \n",
       "5133  A family Christmas gathering at an isolated Au...  \n",
       "4881  A washed-up, former soccer star attempts to re...  \n",
       "2833  A group of daring teens finds themselves in a ...  \n",
       "5403  Friends in their last year of college contempl...  \n",
       "2078  A clarinet player who lives with his grandpare...  \n",
       "27    As a grisly virus rampages a city, a lone man ...  "
      ]
     },
     "metadata": {},
     "output_type": "display_data"
    },
    {
     "name": "stdout",
     "output_type": "stream",
     "text": [
      "<class 'pandas.core.frame.DataFrame'>\n",
      "Int64Index: 6 entries, 5133 to 27\n",
      "Data columns (total 12 columns):\n",
      " #   Column        Non-Null Count  Dtype \n",
      "---  ------        --------------  ----- \n",
      " 0   show_id       6 non-null      object\n",
      " 1   type          6 non-null      object\n",
      " 2   title         6 non-null      object\n",
      " 3   director      6 non-null      object\n",
      " 4   cast          6 non-null      object\n",
      " 5   country       6 non-null      object\n",
      " 6   date_added    6 non-null      object\n",
      " 7   release_year  6 non-null      int64 \n",
      " 8   rating        6 non-null      object\n",
      " 9   duration      6 non-null      object\n",
      " 10  listed_in     6 non-null      object\n",
      " 11  description   6 non-null      object\n",
      "dtypes: int64(1), object(11)\n",
      "memory usage: 624.0+ bytes\n"
     ]
    },
    {
     "data": {
      "text/plain": [
       "None"
      ]
     },
     "metadata": {},
     "output_type": "display_data"
    }
   ],
   "source": [
    "nf = pd.read_csv('netflix_titles.csv').dropna().drop_duplicates().sample(6)\n",
    "print(nf.shape)\n",
    "display(nf)\n",
    "display(nf.info())"
   ]
  },
  {
   "cell_type": "markdown",
   "metadata": {},
   "source": [
    "<p style=\"text-align:center;font-family:Arial;color:#173267;font-size:20pt;font-weight:bold;\">\n",
    "    String methods: pandas version\n",
    "</p>\n",
    "\n",
    "<p style=\"tfont-family:Arial;color:#173267;font-size:14pt;\">\n",
    "    ¿Son mayúsculas o minúsculas?\n",
    "</p>"
   ]
  },
  {
   "cell_type": "code",
   "execution_count": 13,
   "metadata": {},
   "outputs": [
    {
     "ename": "AttributeError",
     "evalue": "'DataFrame' object has no attribute 'islower'",
     "output_type": "error",
     "traceback": [
      "\u001b[1;31m---------------------------------------------------------------------------\u001b[0m",
      "\u001b[1;31mAttributeError\u001b[0m                            Traceback (most recent call last)",
      "\u001b[1;32m~\\AppData\\Local\\Temp\\ipykernel_64328\\1474427917.py\u001b[0m in \u001b[0;36m<cell line: 2>\u001b[1;34m()\u001b[0m\n\u001b[0;32m      1\u001b[0m \u001b[1;31m# ¿Funciona en DataFrames?\u001b[0m\u001b[1;33m\u001b[0m\u001b[1;33m\u001b[0m\u001b[0m\n\u001b[1;32m----> 2\u001b[1;33m \u001b[0mnf\u001b[0m\u001b[1;33m.\u001b[0m\u001b[0mislower\u001b[0m\u001b[1;33m(\u001b[0m\u001b[1;33m)\u001b[0m\u001b[1;33m\u001b[0m\u001b[1;33m\u001b[0m\u001b[0m\n\u001b[0m",
      "\u001b[1;32m~\\miniconda3\\lib\\site-packages\\pandas\\core\\generic.py\u001b[0m in \u001b[0;36m__getattr__\u001b[1;34m(self, name)\u001b[0m\n\u001b[0;32m   5485\u001b[0m         ):\n\u001b[0;32m   5486\u001b[0m             \u001b[1;32mreturn\u001b[0m \u001b[0mself\u001b[0m\u001b[1;33m[\u001b[0m\u001b[0mname\u001b[0m\u001b[1;33m]\u001b[0m\u001b[1;33m\u001b[0m\u001b[1;33m\u001b[0m\u001b[0m\n\u001b[1;32m-> 5487\u001b[1;33m         \u001b[1;32mreturn\u001b[0m \u001b[0mobject\u001b[0m\u001b[1;33m.\u001b[0m\u001b[0m__getattribute__\u001b[0m\u001b[1;33m(\u001b[0m\u001b[0mself\u001b[0m\u001b[1;33m,\u001b[0m \u001b[0mname\u001b[0m\u001b[1;33m)\u001b[0m\u001b[1;33m\u001b[0m\u001b[1;33m\u001b[0m\u001b[0m\n\u001b[0m\u001b[0;32m   5488\u001b[0m \u001b[1;33m\u001b[0m\u001b[0m\n\u001b[0;32m   5489\u001b[0m     \u001b[1;32mdef\u001b[0m \u001b[0m__setattr__\u001b[0m\u001b[1;33m(\u001b[0m\u001b[0mself\u001b[0m\u001b[1;33m,\u001b[0m \u001b[0mname\u001b[0m\u001b[1;33m:\u001b[0m \u001b[0mstr\u001b[0m\u001b[1;33m,\u001b[0m \u001b[0mvalue\u001b[0m\u001b[1;33m)\u001b[0m \u001b[1;33m->\u001b[0m \u001b[1;32mNone\u001b[0m\u001b[1;33m:\u001b[0m\u001b[1;33m\u001b[0m\u001b[1;33m\u001b[0m\u001b[0m\n",
      "\u001b[1;31mAttributeError\u001b[0m: 'DataFrame' object has no attribute 'islower'"
     ]
    }
   ],
   "source": [
    "# ¿Funciona en DataFrames?\n",
    "nf.islower()"
   ]
  },
  {
   "cell_type": "code",
   "execution_count": 14,
   "metadata": {},
   "outputs": [
    {
     "ename": "AttributeError",
     "evalue": "'DataFrame' object has no attribute 'str'",
     "output_type": "error",
     "traceback": [
      "\u001b[1;31m---------------------------------------------------------------------------\u001b[0m",
      "\u001b[1;31mAttributeError\u001b[0m                            Traceback (most recent call last)",
      "\u001b[1;32m~\\AppData\\Local\\Temp\\ipykernel_64328\\1416068174.py\u001b[0m in \u001b[0;36m<cell line: 2>\u001b[1;34m()\u001b[0m\n\u001b[0;32m      1\u001b[0m \u001b[1;31m# ¿Funciona usando .str?\u001b[0m\u001b[1;33m\u001b[0m\u001b[1;33m\u001b[0m\u001b[0m\n\u001b[1;32m----> 2\u001b[1;33m \u001b[0mnf\u001b[0m\u001b[1;33m.\u001b[0m\u001b[0mstr\u001b[0m\u001b[1;33m.\u001b[0m\u001b[0mislower\u001b[0m\u001b[1;33m(\u001b[0m\u001b[1;33m)\u001b[0m\u001b[1;33m\u001b[0m\u001b[1;33m\u001b[0m\u001b[0m\n\u001b[0m",
      "\u001b[1;32m~\\miniconda3\\lib\\site-packages\\pandas\\core\\generic.py\u001b[0m in \u001b[0;36m__getattr__\u001b[1;34m(self, name)\u001b[0m\n\u001b[0;32m   5485\u001b[0m         ):\n\u001b[0;32m   5486\u001b[0m             \u001b[1;32mreturn\u001b[0m \u001b[0mself\u001b[0m\u001b[1;33m[\u001b[0m\u001b[0mname\u001b[0m\u001b[1;33m]\u001b[0m\u001b[1;33m\u001b[0m\u001b[1;33m\u001b[0m\u001b[0m\n\u001b[1;32m-> 5487\u001b[1;33m         \u001b[1;32mreturn\u001b[0m \u001b[0mobject\u001b[0m\u001b[1;33m.\u001b[0m\u001b[0m__getattribute__\u001b[0m\u001b[1;33m(\u001b[0m\u001b[0mself\u001b[0m\u001b[1;33m,\u001b[0m \u001b[0mname\u001b[0m\u001b[1;33m)\u001b[0m\u001b[1;33m\u001b[0m\u001b[1;33m\u001b[0m\u001b[0m\n\u001b[0m\u001b[0;32m   5488\u001b[0m \u001b[1;33m\u001b[0m\u001b[0m\n\u001b[0;32m   5489\u001b[0m     \u001b[1;32mdef\u001b[0m \u001b[0m__setattr__\u001b[0m\u001b[1;33m(\u001b[0m\u001b[0mself\u001b[0m\u001b[1;33m,\u001b[0m \u001b[0mname\u001b[0m\u001b[1;33m:\u001b[0m \u001b[0mstr\u001b[0m\u001b[1;33m,\u001b[0m \u001b[0mvalue\u001b[0m\u001b[1;33m)\u001b[0m \u001b[1;33m->\u001b[0m \u001b[1;32mNone\u001b[0m\u001b[1;33m:\u001b[0m\u001b[1;33m\u001b[0m\u001b[1;33m\u001b[0m\u001b[0m\n",
      "\u001b[1;31mAttributeError\u001b[0m: 'DataFrame' object has no attribute 'str'"
     ]
    }
   ],
   "source": [
    "# ¿Funciona usando .str?\n",
    "nf.str.islower()"
   ]
  },
  {
   "cell_type": "code",
   "execution_count": 15,
   "metadata": {},
   "outputs": [
    {
     "data": {
      "text/plain": [
       "5133    False\n",
       "4881    False\n",
       "2833    False\n",
       "5403    False\n",
       "2078    False\n",
       "27      False\n",
       "Name: title, dtype: bool"
      ]
     },
     "execution_count": 15,
     "metadata": {},
     "output_type": "execute_result"
    }
   ],
   "source": [
    "# Funciona utilizando .str en Series?\n",
    "nf['title'].str.islower()"
   ]
  },
  {
   "cell_type": "markdown",
   "metadata": {},
   "source": [
    "<p style=\"tfont-family:Arial;color:#173267;font-size:14pt;\">\n",
    "    ¡Pueden utilizar (casi) (no sé en realidad si casi o todos, pero muchos) todos los métodos de string que quieran!\n",
    "</p>"
   ]
  },
  {
   "cell_type": "code",
   "execution_count": 16,
   "metadata": {},
   "outputs": [
    {
     "data": {
      "text/plain": [
       "5133    Red\n",
       "4881    Pla\n",
       "2833    Hou\n",
       "5403    Sat\n",
       "2078    Eyy\n",
       "27      #Al\n",
       "Name: title, dtype: object"
      ]
     },
     "execution_count": 16,
     "metadata": {},
     "output_type": "execute_result"
    }
   ],
   "source": [
    "nf['title'].str[:3]"
   ]
  },
  {
   "cell_type": "code",
   "execution_count": 17,
   "metadata": {},
   "outputs": [
    {
     "data": {
      "text/plain": [
       "5133         Red christmas\n",
       "4881     Playing for keeps\n",
       "2833    House of the witch\n",
       "5403           Satrangi re\n",
       "2078         Eyyvah eyyvah\n",
       "27                  #alive\n",
       "Name: title, dtype: object"
      ]
     },
     "execution_count": 17,
     "metadata": {},
     "output_type": "execute_result"
    }
   ],
   "source": [
    "nf['title'].str.capitalize()"
   ]
  },
  {
   "cell_type": "code",
   "execution_count": 18,
   "metadata": {},
   "outputs": [
    {
     "data": {
      "text/plain": [
       "5133         Red Christmas\n",
       "4881     Playing For Keeps\n",
       "2833    House Of The Witch\n",
       "5403           Satrangi Re\n",
       "2078         Eyyvah Eyyvah\n",
       "27                  #Alive\n",
       "Name: title, dtype: object"
      ]
     },
     "execution_count": 18,
     "metadata": {},
     "output_type": "execute_result"
    }
   ],
   "source": [
    "nf['title'].str.title()"
   ]
  },
  {
   "cell_type": "code",
   "execution_count": 19,
   "metadata": {},
   "outputs": [
    {
     "data": {
      "text/plain": [
       "5133         RED CHRISTMAS\n",
       "4881     PLAYING FOR KEEPS\n",
       "2833    HOUSE OF THE WITCH\n",
       "5403           SATRANGI RE\n",
       "2078         EYYVAH EYYVAH\n",
       "27                  #ALIVE\n",
       "Name: title, dtype: object"
      ]
     },
     "execution_count": 19,
     "metadata": {},
     "output_type": "execute_result"
    }
   ],
   "source": [
    "nf['title'].str.upper()"
   ]
  },
  {
   "cell_type": "code",
   "execution_count": 20,
   "metadata": {},
   "outputs": [
    {
     "data": {
      "text/plain": [
       "5133         red christmas\n",
       "4881     playing for keeps\n",
       "2833    house of the witch\n",
       "5403           satrangi re\n",
       "2078         eyyvah eyyvah\n",
       "27                  #alive\n",
       "Name: title, dtype: object"
      ]
     },
     "execution_count": 20,
     "metadata": {},
     "output_type": "execute_result"
    }
   ],
   "source": [
    "nf['title'].str.lower()"
   ]
  },
  {
   "cell_type": "markdown",
   "metadata": {},
   "source": [
    "<p style=\"tfont-family:Arial;color:#173267;font-size:14pt;\">\n",
    "    Métodos complicados\n",
    "</p>"
   ]
  },
  {
   "cell_type": "code",
   "execution_count": 21,
   "metadata": {},
   "outputs": [],
   "source": [
    "def complex_function(s):\n",
    "    s = s.lower()\n",
    "    s = s + \" NETLFIX \" + s\n",
    "    s = list(s)\n",
    "    s = \"|\".join(s)\n",
    "    return s"
   ]
  },
  {
   "cell_type": "code",
   "execution_count": 22,
   "metadata": {},
   "outputs": [
    {
     "data": {
      "text/plain": [
       "5133    r|e|d| |c|h|r|i|s|t|m|a|s| |N|E|T|L|F|I|X| |r|...\n",
       "4881    p|l|a|y|i|n|g| |f|o|r| |k|e|e|p|s| |N|E|T|L|F|...\n",
       "2833    h|o|u|s|e| |o|f| |t|h|e| |w|i|t|c|h| |N|E|T|L|...\n",
       "5403    s|a|t|r|a|n|g|i| |r|e| |N|E|T|L|F|I|X| |s|a|t|...\n",
       "2078    e|y|y|v|a|h| |e|y|y|v|a|h| |N|E|T|L|F|I|X| |e|...\n",
       "27              #|a|l|i|v|e| |N|E|T|L|F|I|X| |#|a|l|i|v|e\n",
       "Name: title, dtype: object"
      ]
     },
     "execution_count": 22,
     "metadata": {},
     "output_type": "execute_result"
    }
   ],
   "source": [
    "nf['title'].map(complex_function)"
   ]
  },
  {
   "cell_type": "code",
   "execution_count": 23,
   "metadata": {},
   "outputs": [
    {
     "data": {
      "text/plain": [
       "5133    r|e|d| |c|h|r|i|s|t|m|a|s| |N|E|T|L|F|I|X| |r|...\n",
       "4881    p|l|a|y|i|n|g| |f|o|r| |k|e|e|p|s| |N|E|T|L|F|...\n",
       "2833    h|o|u|s|e| |o|f| |t|h|e| |w|i|t|c|h| |N|E|T|L|...\n",
       "5403    s|a|t|r|a|n|g|i| |r|e| |N|E|T|L|F|I|X| |s|a|t|...\n",
       "2078    e|y|y|v|a|h| |e|y|y|v|a|h| |N|E|T|L|F|I|X| |e|...\n",
       "27              #|a|l|i|v|e| |N|E|T|L|F|I|X| |#|a|l|i|v|e\n",
       "Name: title, dtype: object"
      ]
     },
     "execution_count": 23,
     "metadata": {},
     "output_type": "execute_result"
    }
   ],
   "source": [
    "nf['title'].apply(complex_function)"
   ]
  },
  {
   "cell_type": "code",
   "execution_count": 24,
   "metadata": {},
   "outputs": [
    {
     "data": {
      "text/plain": [
       "5133    r|e|d| |c|h|r|i|s|t|m|a|s| |N|E|T|F|L|I|X| |r|...\n",
       "4881    p|l|a|y|i|n|g| |f|o|r| |k|e|e|p|s| |N|E|T|F|L|...\n",
       "2833    h|o|u|s|e| |o|f| |t|h|e| |w|i|t|c|h| |N|E|T|F|...\n",
       "5403    s|a|t|r|a|n|g|i| |r|e| |N|E|T|F|L|I|X| |s|a|t|...\n",
       "2078    e|y|y|v|a|h| |e|y|y|v|a|h| |N|E|T|F|L|I|X| |e|...\n",
       "27              #|a|l|i|v|e| |N|E|T|F|L|I|X| |#|a|l|i|v|e\n",
       "Name: title, dtype: object"
      ]
     },
     "execution_count": 24,
     "metadata": {},
     "output_type": "execute_result"
    }
   ],
   "source": [
    "nf['title'].apply(lambda s: \"|\".join(list(s.lower() + \" NETFLIX \" + s.lower())))"
   ]
  },
  {
   "cell_type": "markdown",
   "metadata": {},
   "source": [
    "<p style=\"tfont-family:Arial;color:#173267;font-size:14pt;\">\n",
    "    Replace\n",
    "</p>"
   ]
  },
  {
   "cell_type": "code",
   "execution_count": 25,
   "metadata": {},
   "outputs": [
    {
     "data": {
      "text/html": [
       "<div>\n",
       "<style scoped>\n",
       "    .dataframe tbody tr th:only-of-type {\n",
       "        vertical-align: middle;\n",
       "    }\n",
       "\n",
       "    .dataframe tbody tr th {\n",
       "        vertical-align: top;\n",
       "    }\n",
       "\n",
       "    .dataframe thead th {\n",
       "        text-align: right;\n",
       "    }\n",
       "</style>\n",
       "<table border=\"1\" class=\"dataframe\">\n",
       "  <thead>\n",
       "    <tr style=\"text-align: right;\">\n",
       "      <th></th>\n",
       "      <th>show_id</th>\n",
       "      <th>type</th>\n",
       "      <th>title</th>\n",
       "      <th>director</th>\n",
       "      <th>cast</th>\n",
       "      <th>country</th>\n",
       "      <th>date_added</th>\n",
       "      <th>release_year</th>\n",
       "      <th>rating</th>\n",
       "      <th>duration</th>\n",
       "      <th>listed_in</th>\n",
       "      <th>description</th>\n",
       "    </tr>\n",
       "  </thead>\n",
       "  <tbody>\n",
       "    <tr>\n",
       "      <th>5133</th>\n",
       "      <td>s5134</td>\n",
       "      <td>Movie</td>\n",
       "      <td>Red Christmas</td>\n",
       "      <td>Craig Anderson</td>\n",
       "      <td>Dee Wallace, Geoff Morrell, Sarah Bishop, Jani...</td>\n",
       "      <td>Australia</td>\n",
       "      <td>December 11, 2017</td>\n",
       "      <td>2016</td>\n",
       "      <td>TV-MA</td>\n",
       "      <td>81 min</td>\n",
       "      <td>Horror Movies</td>\n",
       "      <td>A family Christmas gathering at an isolated Au...</td>\n",
       "    </tr>\n",
       "    <tr>\n",
       "      <th>4881</th>\n",
       "      <td>s4882</td>\n",
       "      <td>Movie</td>\n",
       "      <td>Playing for Keeps</td>\n",
       "      <td>Gabriele Muccino</td>\n",
       "      <td>Gerard Butler, Jessica Biel, Catherine Zeta-Jo...</td>\n",
       "      <td>United States</td>\n",
       "      <td>January 3, 2021</td>\n",
       "      <td>2012</td>\n",
       "      <td>PG-13</td>\n",
       "      <td>106 min</td>\n",
       "      <td>Comedies, Romantic Movies, Sports Movies</td>\n",
       "      <td>A washed-up, former soccer star attempts to re...</td>\n",
       "    </tr>\n",
       "    <tr>\n",
       "      <th>2833</th>\n",
       "      <td>s2834</td>\n",
       "      <td>Movie</td>\n",
       "      <td>House of the Witch</td>\n",
       "      <td>Alex Merkin</td>\n",
       "      <td>Emily Bader, Darren Mann, Michelle Randolph, C...</td>\n",
       "      <td>United States</td>\n",
       "      <td>October 11, 2020</td>\n",
       "      <td>2017</td>\n",
       "      <td>TV-MA</td>\n",
       "      <td>86 min</td>\n",
       "      <td>Horror Movies</td>\n",
       "      <td>A group of daring teens finds themselves in a ...</td>\n",
       "    </tr>\n",
       "    <tr>\n",
       "      <th>5403</th>\n",
       "      <td>s5404</td>\n",
       "      <td>Movie</td>\n",
       "      <td>Satrangi Re</td>\n",
       "      <td>Aditya Sarpotdar</td>\n",
       "      <td>Amruta Khanvilkar, Vidyadhar Joshi, Subodh Bhave</td>\n",
       "      <td>India</td>\n",
       "      <td>March 15, 2018</td>\n",
       "      <td>2012</td>\n",
       "      <td>TV-14</td>\n",
       "      <td>150 min</td>\n",
       "      <td>Dramas, International Movies, Music &amp; Musicals</td>\n",
       "      <td>Friends in their last year of college contempl...</td>\n",
       "    </tr>\n",
       "    <tr>\n",
       "      <th>2078</th>\n",
       "      <td>s2079</td>\n",
       "      <td>Movie</td>\n",
       "      <td>Eyyvah Eyyvah</td>\n",
       "      <td>Hakan Algül</td>\n",
       "      <td>Demet Akbağ, Ata Demirer, Özge Borak, Bican Gü...</td>\n",
       "      <td>Turkey</td>\n",
       "      <td>March 10, 2017</td>\n",
       "      <td>2010</td>\n",
       "      <td>TV-MA</td>\n",
       "      <td>99 min</td>\n",
       "      <td>Comedies, International Movies</td>\n",
       "      <td>A clarinet player who lives with his grandpare...</td>\n",
       "    </tr>\n",
       "    <tr>\n",
       "      <th>27</th>\n",
       "      <td>s28</td>\n",
       "      <td>Movie</td>\n",
       "      <td>#Alive</td>\n",
       "      <td>Cho Il</td>\n",
       "      <td>Yoo Ah-in, Park Shin-hye</td>\n",
       "      <td>South Korea</td>\n",
       "      <td>September 8, 2020</td>\n",
       "      <td>2020</td>\n",
       "      <td>TV-MA</td>\n",
       "      <td>99 min</td>\n",
       "      <td>Horror Movies, International Movies, Thrillers</td>\n",
       "      <td>As a grisly virus rampages a city, a lone man ...</td>\n",
       "    </tr>\n",
       "  </tbody>\n",
       "</table>\n",
       "</div>"
      ],
      "text/plain": [
       "     show_id   type               title          director  \\\n",
       "5133   s5134  Movie       Red Christmas    Craig Anderson   \n",
       "4881   s4882  Movie   Playing for Keeps  Gabriele Muccino   \n",
       "2833   s2834  Movie  House of the Witch       Alex Merkin   \n",
       "5403   s5404  Movie         Satrangi Re  Aditya Sarpotdar   \n",
       "2078   s2079  Movie       Eyyvah Eyyvah       Hakan Algül   \n",
       "27       s28  Movie              #Alive            Cho Il   \n",
       "\n",
       "                                                   cast        country  \\\n",
       "5133  Dee Wallace, Geoff Morrell, Sarah Bishop, Jani...      Australia   \n",
       "4881  Gerard Butler, Jessica Biel, Catherine Zeta-Jo...  United States   \n",
       "2833  Emily Bader, Darren Mann, Michelle Randolph, C...  United States   \n",
       "5403   Amruta Khanvilkar, Vidyadhar Joshi, Subodh Bhave          India   \n",
       "2078  Demet Akbağ, Ata Demirer, Özge Borak, Bican Gü...         Turkey   \n",
       "27                             Yoo Ah-in, Park Shin-hye    South Korea   \n",
       "\n",
       "             date_added  release_year rating duration  \\\n",
       "5133  December 11, 2017          2016  TV-MA   81 min   \n",
       "4881    January 3, 2021          2012  PG-13  106 min   \n",
       "2833   October 11, 2020          2017  TV-MA   86 min   \n",
       "5403     March 15, 2018          2012  TV-14  150 min   \n",
       "2078     March 10, 2017          2010  TV-MA   99 min   \n",
       "27    September 8, 2020          2020  TV-MA   99 min   \n",
       "\n",
       "                                           listed_in  \\\n",
       "5133                                   Horror Movies   \n",
       "4881        Comedies, Romantic Movies, Sports Movies   \n",
       "2833                                   Horror Movies   \n",
       "5403  Dramas, International Movies, Music & Musicals   \n",
       "2078                  Comedies, International Movies   \n",
       "27    Horror Movies, International Movies, Thrillers   \n",
       "\n",
       "                                            description  \n",
       "5133  A family Christmas gathering at an isolated Au...  \n",
       "4881  A washed-up, former soccer star attempts to re...  \n",
       "2833  A group of daring teens finds themselves in a ...  \n",
       "5403  Friends in their last year of college contempl...  \n",
       "2078  A clarinet player who lives with his grandpare...  \n",
       "27    As a grisly virus rampages a city, a lone man ...  "
      ]
     },
     "execution_count": 25,
     "metadata": {},
     "output_type": "execute_result"
    }
   ],
   "source": [
    "dict_to_replace = {'title': ['Edge of Fear', 'Chord']}\n",
    "dict_to_value = {'title': ['nolahevisto', 'tampocolahevisto']}\n",
    "nf.replace(dict_to_replace, dict_to_value)"
   ]
  },
  {
   "cell_type": "markdown",
   "metadata": {},
   "source": [
    "<p style=\"text-align:center;font-family:Arial;color:#173267;font-size:20pt;font-weight:bold;\">\n",
    "    Datetime\n",
    "</p>"
   ]
  },
  {
   "cell_type": "code",
   "execution_count": 26,
   "metadata": {},
   "outputs": [
    {
     "data": {
      "text/plain": [
       "5133   2017-12-11\n",
       "4881   2021-01-03\n",
       "2833   2020-10-11\n",
       "5403   2018-03-15\n",
       "2078   2017-03-10\n",
       "27     2020-09-08\n",
       "Name: FA, dtype: datetime64[ns]"
      ]
     },
     "execution_count": 26,
     "metadata": {},
     "output_type": "execute_result"
    }
   ],
   "source": [
    "# Fechas a datetime\n",
    "\n",
    "nf['FA'] = pd.to_datetime(nf['date_added'])\n",
    "nf['FA']"
   ]
  },
  {
   "cell_type": "code",
   "execution_count": 27,
   "metadata": {},
   "outputs": [
    {
     "data": {
      "text/html": [
       "<div>\n",
       "<style scoped>\n",
       "    .dataframe tbody tr th:only-of-type {\n",
       "        vertical-align: middle;\n",
       "    }\n",
       "\n",
       "    .dataframe tbody tr th {\n",
       "        vertical-align: top;\n",
       "    }\n",
       "\n",
       "    .dataframe thead th {\n",
       "        text-align: right;\n",
       "    }\n",
       "</style>\n",
       "<table border=\"1\" class=\"dataframe\">\n",
       "  <thead>\n",
       "    <tr style=\"text-align: right;\">\n",
       "      <th></th>\n",
       "      <th>show_id</th>\n",
       "      <th>type</th>\n",
       "      <th>title</th>\n",
       "      <th>director</th>\n",
       "      <th>cast</th>\n",
       "      <th>country</th>\n",
       "      <th>date_added</th>\n",
       "      <th>release_year</th>\n",
       "      <th>rating</th>\n",
       "      <th>duration</th>\n",
       "      <th>listed_in</th>\n",
       "      <th>description</th>\n",
       "    </tr>\n",
       "    <tr>\n",
       "      <th>FA</th>\n",
       "      <th></th>\n",
       "      <th></th>\n",
       "      <th></th>\n",
       "      <th></th>\n",
       "      <th></th>\n",
       "      <th></th>\n",
       "      <th></th>\n",
       "      <th></th>\n",
       "      <th></th>\n",
       "      <th></th>\n",
       "      <th></th>\n",
       "      <th></th>\n",
       "    </tr>\n",
       "  </thead>\n",
       "  <tbody>\n",
       "    <tr>\n",
       "      <th>2017-12-11</th>\n",
       "      <td>s5134</td>\n",
       "      <td>Movie</td>\n",
       "      <td>Red Christmas</td>\n",
       "      <td>Craig Anderson</td>\n",
       "      <td>Dee Wallace, Geoff Morrell, Sarah Bishop, Jani...</td>\n",
       "      <td>Australia</td>\n",
       "      <td>December 11, 2017</td>\n",
       "      <td>2016</td>\n",
       "      <td>TV-MA</td>\n",
       "      <td>81 min</td>\n",
       "      <td>Horror Movies</td>\n",
       "      <td>A family Christmas gathering at an isolated Au...</td>\n",
       "    </tr>\n",
       "    <tr>\n",
       "      <th>2021-01-03</th>\n",
       "      <td>s4882</td>\n",
       "      <td>Movie</td>\n",
       "      <td>Playing for Keeps</td>\n",
       "      <td>Gabriele Muccino</td>\n",
       "      <td>Gerard Butler, Jessica Biel, Catherine Zeta-Jo...</td>\n",
       "      <td>United States</td>\n",
       "      <td>January 3, 2021</td>\n",
       "      <td>2012</td>\n",
       "      <td>PG-13</td>\n",
       "      <td>106 min</td>\n",
       "      <td>Comedies, Romantic Movies, Sports Movies</td>\n",
       "      <td>A washed-up, former soccer star attempts to re...</td>\n",
       "    </tr>\n",
       "    <tr>\n",
       "      <th>2020-10-11</th>\n",
       "      <td>s2834</td>\n",
       "      <td>Movie</td>\n",
       "      <td>House of the Witch</td>\n",
       "      <td>Alex Merkin</td>\n",
       "      <td>Emily Bader, Darren Mann, Michelle Randolph, C...</td>\n",
       "      <td>United States</td>\n",
       "      <td>October 11, 2020</td>\n",
       "      <td>2017</td>\n",
       "      <td>TV-MA</td>\n",
       "      <td>86 min</td>\n",
       "      <td>Horror Movies</td>\n",
       "      <td>A group of daring teens finds themselves in a ...</td>\n",
       "    </tr>\n",
       "    <tr>\n",
       "      <th>2018-03-15</th>\n",
       "      <td>s5404</td>\n",
       "      <td>Movie</td>\n",
       "      <td>Satrangi Re</td>\n",
       "      <td>Aditya Sarpotdar</td>\n",
       "      <td>Amruta Khanvilkar, Vidyadhar Joshi, Subodh Bhave</td>\n",
       "      <td>India</td>\n",
       "      <td>March 15, 2018</td>\n",
       "      <td>2012</td>\n",
       "      <td>TV-14</td>\n",
       "      <td>150 min</td>\n",
       "      <td>Dramas, International Movies, Music &amp; Musicals</td>\n",
       "      <td>Friends in their last year of college contempl...</td>\n",
       "    </tr>\n",
       "    <tr>\n",
       "      <th>2017-03-10</th>\n",
       "      <td>s2079</td>\n",
       "      <td>Movie</td>\n",
       "      <td>Eyyvah Eyyvah</td>\n",
       "      <td>Hakan Algül</td>\n",
       "      <td>Demet Akbağ, Ata Demirer, Özge Borak, Bican Gü...</td>\n",
       "      <td>Turkey</td>\n",
       "      <td>March 10, 2017</td>\n",
       "      <td>2010</td>\n",
       "      <td>TV-MA</td>\n",
       "      <td>99 min</td>\n",
       "      <td>Comedies, International Movies</td>\n",
       "      <td>A clarinet player who lives with his grandpare...</td>\n",
       "    </tr>\n",
       "    <tr>\n",
       "      <th>2020-09-08</th>\n",
       "      <td>s28</td>\n",
       "      <td>Movie</td>\n",
       "      <td>#Alive</td>\n",
       "      <td>Cho Il</td>\n",
       "      <td>Yoo Ah-in, Park Shin-hye</td>\n",
       "      <td>South Korea</td>\n",
       "      <td>September 8, 2020</td>\n",
       "      <td>2020</td>\n",
       "      <td>TV-MA</td>\n",
       "      <td>99 min</td>\n",
       "      <td>Horror Movies, International Movies, Thrillers</td>\n",
       "      <td>As a grisly virus rampages a city, a lone man ...</td>\n",
       "    </tr>\n",
       "  </tbody>\n",
       "</table>\n",
       "</div>"
      ],
      "text/plain": [
       "           show_id   type               title          director  \\\n",
       "FA                                                                \n",
       "2017-12-11   s5134  Movie       Red Christmas    Craig Anderson   \n",
       "2021-01-03   s4882  Movie   Playing for Keeps  Gabriele Muccino   \n",
       "2020-10-11   s2834  Movie  House of the Witch       Alex Merkin   \n",
       "2018-03-15   s5404  Movie         Satrangi Re  Aditya Sarpotdar   \n",
       "2017-03-10   s2079  Movie       Eyyvah Eyyvah       Hakan Algül   \n",
       "2020-09-08     s28  Movie              #Alive            Cho Il   \n",
       "\n",
       "                                                         cast        country  \\\n",
       "FA                                                                             \n",
       "2017-12-11  Dee Wallace, Geoff Morrell, Sarah Bishop, Jani...      Australia   \n",
       "2021-01-03  Gerard Butler, Jessica Biel, Catherine Zeta-Jo...  United States   \n",
       "2020-10-11  Emily Bader, Darren Mann, Michelle Randolph, C...  United States   \n",
       "2018-03-15   Amruta Khanvilkar, Vidyadhar Joshi, Subodh Bhave          India   \n",
       "2017-03-10  Demet Akbağ, Ata Demirer, Özge Borak, Bican Gü...         Turkey   \n",
       "2020-09-08                           Yoo Ah-in, Park Shin-hye    South Korea   \n",
       "\n",
       "                   date_added  release_year rating duration  \\\n",
       "FA                                                            \n",
       "2017-12-11  December 11, 2017          2016  TV-MA   81 min   \n",
       "2021-01-03    January 3, 2021          2012  PG-13  106 min   \n",
       "2020-10-11   October 11, 2020          2017  TV-MA   86 min   \n",
       "2018-03-15     March 15, 2018          2012  TV-14  150 min   \n",
       "2017-03-10     March 10, 2017          2010  TV-MA   99 min   \n",
       "2020-09-08  September 8, 2020          2020  TV-MA   99 min   \n",
       "\n",
       "                                                 listed_in  \\\n",
       "FA                                                           \n",
       "2017-12-11                                   Horror Movies   \n",
       "2021-01-03        Comedies, Romantic Movies, Sports Movies   \n",
       "2020-10-11                                   Horror Movies   \n",
       "2018-03-15  Dramas, International Movies, Music & Musicals   \n",
       "2017-03-10                  Comedies, International Movies   \n",
       "2020-09-08  Horror Movies, International Movies, Thrillers   \n",
       "\n",
       "                                                  description  \n",
       "FA                                                             \n",
       "2017-12-11  A family Christmas gathering at an isolated Au...  \n",
       "2021-01-03  A washed-up, former soccer star attempts to re...  \n",
       "2020-10-11  A group of daring teens finds themselves in a ...  \n",
       "2018-03-15  Friends in their last year of college contempl...  \n",
       "2017-03-10  A clarinet player who lives with his grandpare...  \n",
       "2020-09-08  As a grisly virus rampages a city, a lone man ...  "
      ]
     },
     "execution_count": 27,
     "metadata": {},
     "output_type": "execute_result"
    }
   ],
   "source": [
    "# Manejar fechas como índices es muy útil\n",
    "\n",
    "nf.set_index('FA', inplace=True)\n",
    "nf"
   ]
  },
  {
   "cell_type": "code",
   "execution_count": 28,
   "metadata": {},
   "outputs": [
    {
     "name": "stderr",
     "output_type": "stream",
     "text": [
      "C:\\Users\\Alpaca\\AppData\\Local\\Temp\\ipykernel_64328\\3152125397.py:3: FutureWarning: Value based partial slicing on non-monotonic DatetimeIndexes with non-existing keys is deprecated and will raise a KeyError in a future Version.\n",
      "  nf.loc['2018-11':'2019-5'].sort_values('FA')\n"
     ]
    },
    {
     "data": {
      "text/html": [
       "<div>\n",
       "<style scoped>\n",
       "    .dataframe tbody tr th:only-of-type {\n",
       "        vertical-align: middle;\n",
       "    }\n",
       "\n",
       "    .dataframe tbody tr th {\n",
       "        vertical-align: top;\n",
       "    }\n",
       "\n",
       "    .dataframe thead th {\n",
       "        text-align: right;\n",
       "    }\n",
       "</style>\n",
       "<table border=\"1\" class=\"dataframe\">\n",
       "  <thead>\n",
       "    <tr style=\"text-align: right;\">\n",
       "      <th></th>\n",
       "      <th>show_id</th>\n",
       "      <th>type</th>\n",
       "      <th>title</th>\n",
       "      <th>director</th>\n",
       "      <th>cast</th>\n",
       "      <th>country</th>\n",
       "      <th>date_added</th>\n",
       "      <th>release_year</th>\n",
       "      <th>rating</th>\n",
       "      <th>duration</th>\n",
       "      <th>listed_in</th>\n",
       "      <th>description</th>\n",
       "    </tr>\n",
       "    <tr>\n",
       "      <th>FA</th>\n",
       "      <th></th>\n",
       "      <th></th>\n",
       "      <th></th>\n",
       "      <th></th>\n",
       "      <th></th>\n",
       "      <th></th>\n",
       "      <th></th>\n",
       "      <th></th>\n",
       "      <th></th>\n",
       "      <th></th>\n",
       "      <th></th>\n",
       "      <th></th>\n",
       "    </tr>\n",
       "  </thead>\n",
       "  <tbody>\n",
       "  </tbody>\n",
       "</table>\n",
       "</div>"
      ],
      "text/plain": [
       "Empty DataFrame\n",
       "Columns: [show_id, type, title, director, cast, country, date_added, release_year, rating, duration, listed_in, description]\n",
       "Index: []"
      ]
     },
     "execution_count": 28,
     "metadata": {},
     "output_type": "execute_result"
    }
   ],
   "source": [
    "# Si el índice es fecha, podemos buscar entre fechas (¡y mucho más!)\n",
    "\n",
    "nf.loc['2018-11':'2019-5'].sort_values('FA')"
   ]
  },
  {
   "cell_type": "code",
   "execution_count": 29,
   "metadata": {},
   "outputs": [
    {
     "data": {
      "text/plain": [
       "FA\n",
       "2017-12-11   0 days 01:21:00\n",
       "2021-01-03   0 days 01:46:00\n",
       "2020-10-11   0 days 01:26:00\n",
       "2018-03-15   0 days 02:30:00\n",
       "2017-03-10   0 days 01:39:00\n",
       "2020-09-08   0 days 01:39:00\n",
       "Name: duration, dtype: timedelta64[ns]"
      ]
     },
     "execution_count": 29,
     "metadata": {},
     "output_type": "execute_result"
    }
   ],
   "source": [
    "# A veces desde cero (paso a paso) se tiene más control y hacemos las cosas más a mano (¡muy útil en strings!)\n",
    "\n",
    "#nf['duration']\n",
    "#nf['duration'].str.split()\n",
    "#nf['duration'].str.split().str[0]\n",
    "nf['duration'].str.split().str[0].astype('timedelta64[m]')"
   ]
  },
  {
   "cell_type": "code",
   "execution_count": null,
   "metadata": {},
   "outputs": [],
   "source": []
  },
  {
   "cell_type": "code",
   "execution_count": null,
   "metadata": {},
   "outputs": [],
   "source": []
  }
 ],
 "metadata": {
  "kernelspec": {
   "display_name": "Python 3 (ipykernel)",
   "language": "python",
   "name": "python3"
  },
  "language_info": {
   "codemirror_mode": {
    "name": "ipython",
    "version": 3
   },
   "file_extension": ".py",
   "mimetype": "text/x-python",
   "name": "python",
   "nbconvert_exporter": "python",
   "pygments_lexer": "ipython3",
   "version": "3.9.7"
  },
  "toc-showcode": true,
  "toc-showmarkdowntxt": false
 },
 "nbformat": 4,
 "nbformat_minor": 4
}
