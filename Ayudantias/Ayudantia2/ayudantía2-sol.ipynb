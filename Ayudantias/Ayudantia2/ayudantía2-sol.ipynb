{
 "cells": [
  {
   "cell_type": "markdown",
   "metadata": {},
   "source": [
    "<div style=\"background-color:#173267;\">\n",
    "    <br>\n",
    "    <img src=\"uclogo.png\" style=\"align:center;width:20%;\">\n",
    "    <p style=\"text-align:center;font-family:Trebuchet MS;color:white;font-size:40pt;font-weight:bold;margin:50px\">\n",
    "        AYUDANTÍA 2\n",
    "    </p>\n",
    "    <p style=\"text-align:center;font-family:Trebuchet MS;color:white;font-size:20pt;font-weight:bold;margin:50px\">\n",
    "        Introducción a la Ciencia de Datos\n",
    "    </p>\n",
    "    <p style=\"text-align:center;font-family:Trebuchet MS;color:white;font-size:12pt;\">\n",
    "        Felipe Gutiérrez - figutier@uc.cl\n",
    "        Nicolas Mendicoa - nicolasmendicoa@uc.cl\n",
    "    </p>\n",
    "    <p style=\"text-align:center;font-family:Trebuchet MS;color:white;font-size:12pt;\">        \n",
    "        Basado en notebook de:\n",
    "        Vicente Agüero - vicenteaguero@uc.cl\n",
    "        <br>23 de Agosto 2022\n",
    "    </p>\n",
    "    <br><br>\n",
    "</div>"
   ]
  },
  {
   "cell_type": "markdown",
   "metadata": {},
   "source": [
    "<p style=\"text-align:center;font-family:Trebuchet MS;color:#173267;font-size:20pt;font-weight:bold;\">\n",
    "    Preliminares\n",
    "</p>"
   ]
  },
  {
   "cell_type": "code",
   "execution_count": 1,
   "metadata": {
    "ExecuteTime": {
     "end_time": "2021-09-01T15:47:27.023240Z",
     "start_time": "2021-09-01T15:47:20.218210Z"
    }
   },
   "outputs": [],
   "source": [
    "from matplotlib import pyplot as plt\n",
    "import geopandas as gpd\n",
    "import pandas as pd\n",
    "import numpy as np\n",
    "import json\n",
    "\n"
   ]
  },
  {
   "cell_type": "markdown",
   "metadata": {},
   "source": [
    "<p style=\"text-align:center;font-family:Trebuchet MS;color:#173267;font-size:20pt;font-weight:bold;\">\n",
    "    Leer archivos CSV\n",
    "</p>\n",
    "\n",
    "<p style=\"text-align:justify;font-family:Trebuchet MS;color:#173267;font-size:15pt;font-weight:normal;\">\n",
    "    <b>Ejercicio:</b> Leer el archivo <code>pokémon.csv</code> en la carpeta <code>files</code> de manera correcta.\n",
    "</p>"
   ]
  },
  {
   "cell_type": "code",
   "execution_count": 2,
   "metadata": {
    "ExecuteTime": {
     "end_time": "2021-09-01T16:04:51.886828Z",
     "start_time": "2021-09-01T16:04:51.820942Z"
    }
   },
   "outputs": [
    {
     "data": {
      "text/html": [
       "<div>\n",
       "<style scoped>\n",
       "    .dataframe tbody tr th:only-of-type {\n",
       "        vertical-align: middle;\n",
       "    }\n",
       "\n",
       "    .dataframe tbody tr th {\n",
       "        vertical-align: top;\n",
       "    }\n",
       "\n",
       "    .dataframe thead th {\n",
       "        text-align: right;\n",
       "    }\n",
       "</style>\n",
       "<table border=\"1\" class=\"dataframe\">\n",
       "  <thead>\n",
       "    <tr style=\"text-align: right;\">\n",
       "      <th></th>\n",
       "      <th>#</th>\n",
       "      <th>Type 1</th>\n",
       "      <th>Type 2</th>\n",
       "      <th>Total</th>\n",
       "      <th>HP</th>\n",
       "      <th>Attack</th>\n",
       "      <th>Defense</th>\n",
       "      <th>Sp. Atk</th>\n",
       "      <th>Sp. Def</th>\n",
       "      <th>Speed</th>\n",
       "      <th>Generation</th>\n",
       "      <th>Legendary</th>\n",
       "    </tr>\n",
       "    <tr>\n",
       "      <th>Name</th>\n",
       "      <th></th>\n",
       "      <th></th>\n",
       "      <th></th>\n",
       "      <th></th>\n",
       "      <th></th>\n",
       "      <th></th>\n",
       "      <th></th>\n",
       "      <th></th>\n",
       "      <th></th>\n",
       "      <th></th>\n",
       "      <th></th>\n",
       "      <th></th>\n",
       "    </tr>\n",
       "  </thead>\n",
       "  <tbody>\n",
       "    <tr>\n",
       "      <th>Bulbasaur</th>\n",
       "      <td>1</td>\n",
       "      <td>Grass</td>\n",
       "      <td>Poison</td>\n",
       "      <td>318</td>\n",
       "      <td>45</td>\n",
       "      <td>49</td>\n",
       "      <td>49</td>\n",
       "      <td>65</td>\n",
       "      <td>65</td>\n",
       "      <td>45</td>\n",
       "      <td>1</td>\n",
       "      <td>False</td>\n",
       "    </tr>\n",
       "    <tr>\n",
       "      <th>Ivysaur</th>\n",
       "      <td>2</td>\n",
       "      <td>Grass</td>\n",
       "      <td>Poison</td>\n",
       "      <td>405</td>\n",
       "      <td>60</td>\n",
       "      <td>62</td>\n",
       "      <td>63</td>\n",
       "      <td>80</td>\n",
       "      <td>80</td>\n",
       "      <td>60</td>\n",
       "      <td>1</td>\n",
       "      <td>False</td>\n",
       "    </tr>\n",
       "    <tr>\n",
       "      <th>Venusaur</th>\n",
       "      <td>3</td>\n",
       "      <td>Grass</td>\n",
       "      <td>Poison</td>\n",
       "      <td>525</td>\n",
       "      <td>80</td>\n",
       "      <td>82</td>\n",
       "      <td>83</td>\n",
       "      <td>100</td>\n",
       "      <td>100</td>\n",
       "      <td>80</td>\n",
       "      <td>1</td>\n",
       "      <td>False</td>\n",
       "    </tr>\n",
       "    <tr>\n",
       "      <th>VenusaurMega Venusaur</th>\n",
       "      <td>3</td>\n",
       "      <td>Grass</td>\n",
       "      <td>Poison</td>\n",
       "      <td>625</td>\n",
       "      <td>80</td>\n",
       "      <td>100</td>\n",
       "      <td>123</td>\n",
       "      <td>122</td>\n",
       "      <td>120</td>\n",
       "      <td>80</td>\n",
       "      <td>1</td>\n",
       "      <td>False</td>\n",
       "    </tr>\n",
       "    <tr>\n",
       "      <th>Charmander</th>\n",
       "      <td>4</td>\n",
       "      <td>Fire</td>\n",
       "      <td>NaN</td>\n",
       "      <td>309</td>\n",
       "      <td>39</td>\n",
       "      <td>52</td>\n",
       "      <td>43</td>\n",
       "      <td>60</td>\n",
       "      <td>50</td>\n",
       "      <td>65</td>\n",
       "      <td>1</td>\n",
       "      <td>False</td>\n",
       "    </tr>\n",
       "    <tr>\n",
       "      <th>...</th>\n",
       "      <td>...</td>\n",
       "      <td>...</td>\n",
       "      <td>...</td>\n",
       "      <td>...</td>\n",
       "      <td>...</td>\n",
       "      <td>...</td>\n",
       "      <td>...</td>\n",
       "      <td>...</td>\n",
       "      <td>...</td>\n",
       "      <td>...</td>\n",
       "      <td>...</td>\n",
       "      <td>...</td>\n",
       "    </tr>\n",
       "    <tr>\n",
       "      <th>Diancie</th>\n",
       "      <td>719</td>\n",
       "      <td>Rock</td>\n",
       "      <td>Fairy</td>\n",
       "      <td>600</td>\n",
       "      <td>50</td>\n",
       "      <td>100</td>\n",
       "      <td>150</td>\n",
       "      <td>100</td>\n",
       "      <td>150</td>\n",
       "      <td>50</td>\n",
       "      <td>6</td>\n",
       "      <td>True</td>\n",
       "    </tr>\n",
       "    <tr>\n",
       "      <th>DiancieMega Diancie</th>\n",
       "      <td>719</td>\n",
       "      <td>Rock</td>\n",
       "      <td>Fairy</td>\n",
       "      <td>700</td>\n",
       "      <td>50</td>\n",
       "      <td>160</td>\n",
       "      <td>110</td>\n",
       "      <td>160</td>\n",
       "      <td>110</td>\n",
       "      <td>110</td>\n",
       "      <td>6</td>\n",
       "      <td>True</td>\n",
       "    </tr>\n",
       "    <tr>\n",
       "      <th>HoopaHoopa Confined</th>\n",
       "      <td>720</td>\n",
       "      <td>Psychic</td>\n",
       "      <td>Ghost</td>\n",
       "      <td>600</td>\n",
       "      <td>80</td>\n",
       "      <td>110</td>\n",
       "      <td>60</td>\n",
       "      <td>150</td>\n",
       "      <td>130</td>\n",
       "      <td>70</td>\n",
       "      <td>6</td>\n",
       "      <td>True</td>\n",
       "    </tr>\n",
       "    <tr>\n",
       "      <th>HoopaHoopa Unbound</th>\n",
       "      <td>720</td>\n",
       "      <td>Psychic</td>\n",
       "      <td>Dark</td>\n",
       "      <td>680</td>\n",
       "      <td>80</td>\n",
       "      <td>160</td>\n",
       "      <td>60</td>\n",
       "      <td>170</td>\n",
       "      <td>130</td>\n",
       "      <td>80</td>\n",
       "      <td>6</td>\n",
       "      <td>True</td>\n",
       "    </tr>\n",
       "    <tr>\n",
       "      <th>Volcanion</th>\n",
       "      <td>721</td>\n",
       "      <td>Fire</td>\n",
       "      <td>Water</td>\n",
       "      <td>600</td>\n",
       "      <td>80</td>\n",
       "      <td>110</td>\n",
       "      <td>120</td>\n",
       "      <td>130</td>\n",
       "      <td>90</td>\n",
       "      <td>70</td>\n",
       "      <td>6</td>\n",
       "      <td>True</td>\n",
       "    </tr>\n",
       "  </tbody>\n",
       "</table>\n",
       "<p>800 rows × 12 columns</p>\n",
       "</div>"
      ],
      "text/plain": [
       "                         #   Type 1  Type 2  Total  HP  Attack  Defense  \\\n",
       "Name                                                                      \n",
       "Bulbasaur                1    Grass  Poison    318  45      49       49   \n",
       "Ivysaur                  2    Grass  Poison    405  60      62       63   \n",
       "Venusaur                 3    Grass  Poison    525  80      82       83   \n",
       "VenusaurMega Venusaur    3    Grass  Poison    625  80     100      123   \n",
       "Charmander               4     Fire     NaN    309  39      52       43   \n",
       "...                    ...      ...     ...    ...  ..     ...      ...   \n",
       "Diancie                719     Rock   Fairy    600  50     100      150   \n",
       "DiancieMega Diancie    719     Rock   Fairy    700  50     160      110   \n",
       "HoopaHoopa Confined    720  Psychic   Ghost    600  80     110       60   \n",
       "HoopaHoopa Unbound     720  Psychic    Dark    680  80     160       60   \n",
       "Volcanion              721     Fire   Water    600  80     110      120   \n",
       "\n",
       "                       Sp. Atk  Sp. Def  Speed  Generation  Legendary  \n",
       "Name                                                                   \n",
       "Bulbasaur                   65       65     45           1      False  \n",
       "Ivysaur                     80       80     60           1      False  \n",
       "Venusaur                   100      100     80           1      False  \n",
       "VenusaurMega Venusaur      122      120     80           1      False  \n",
       "Charmander                  60       50     65           1      False  \n",
       "...                        ...      ...    ...         ...        ...  \n",
       "Diancie                    100      150     50           6       True  \n",
       "DiancieMega Diancie        160      110    110           6       True  \n",
       "HoopaHoopa Confined        150      130     70           6       True  \n",
       "HoopaHoopa Unbound         170      130     80           6       True  \n",
       "Volcanion                  130       90     70           6       True  \n",
       "\n",
       "[800 rows x 12 columns]"
      ]
     },
     "execution_count": 2,
     "metadata": {},
     "output_type": "execute_result"
    }
   ],
   "source": [
    "# sep o delimiter\n",
    "pokemon = pd.read_csv('files/pokémon.csv', sep=';', index_col='Name')\n",
    "pokemon"
   ]
  },
  {
   "cell_type": "code",
   "execution_count": 3,
   "metadata": {
    "ExecuteTime": {
     "end_time": "2021-09-01T16:07:55.301702Z",
     "start_time": "2021-09-01T16:07:55.265968Z"
    },
    "scrolled": true
   },
   "outputs": [
    {
     "data": {
      "text/html": [
       "<div>\n",
       "<style scoped>\n",
       "    .dataframe tbody tr th:only-of-type {\n",
       "        vertical-align: middle;\n",
       "    }\n",
       "\n",
       "    .dataframe tbody tr th {\n",
       "        vertical-align: top;\n",
       "    }\n",
       "\n",
       "    .dataframe thead th {\n",
       "        text-align: right;\n",
       "    }\n",
       "</style>\n",
       "<table border=\"1\" class=\"dataframe\">\n",
       "  <thead>\n",
       "    <tr style=\"text-align: right;\">\n",
       "      <th></th>\n",
       "      <th>Type 1</th>\n",
       "      <th>Attack</th>\n",
       "    </tr>\n",
       "    <tr>\n",
       "      <th>Name</th>\n",
       "      <th></th>\n",
       "      <th></th>\n",
       "    </tr>\n",
       "  </thead>\n",
       "  <tbody>\n",
       "    <tr>\n",
       "      <th>VenusaurMega Venusaur</th>\n",
       "      <td>Grass</td>\n",
       "      <td>100</td>\n",
       "    </tr>\n",
       "    <tr>\n",
       "      <th>Sandslash</th>\n",
       "      <td>Ground</td>\n",
       "      <td>100</td>\n",
       "    </tr>\n",
       "    <tr>\n",
       "      <th>Machoke</th>\n",
       "      <td>Fighting</td>\n",
       "      <td>100</td>\n",
       "    </tr>\n",
       "    <tr>\n",
       "      <th>Rapidash</th>\n",
       "      <td>Fire</td>\n",
       "      <td>100</td>\n",
       "    </tr>\n",
       "    <tr>\n",
       "      <th>Tauros</th>\n",
       "      <td>Normal</td>\n",
       "      <td>100</td>\n",
       "    </tr>\n",
       "    <tr>\n",
       "      <th>Mew</th>\n",
       "      <td>Psychic</td>\n",
       "      <td>100</td>\n",
       "    </tr>\n",
       "    <tr>\n",
       "      <th>Sudowoodo</th>\n",
       "      <td>Rock</td>\n",
       "      <td>100</td>\n",
       "    </tr>\n",
       "    <tr>\n",
       "      <th>Piloswine</th>\n",
       "      <td>Ice</td>\n",
       "      <td>100</td>\n",
       "    </tr>\n",
       "    <tr>\n",
       "      <th>Celebi</th>\n",
       "      <td>Psychic</td>\n",
       "      <td>100</td>\n",
       "    </tr>\n",
       "    <tr>\n",
       "      <th>Shiftry</th>\n",
       "      <td>Grass</td>\n",
       "      <td>100</td>\n",
       "    </tr>\n",
       "    <tr>\n",
       "      <th>MedichamMega Medicham</th>\n",
       "      <td>Fighting</td>\n",
       "      <td>100</td>\n",
       "    </tr>\n",
       "    <tr>\n",
       "      <th>Camerupt</th>\n",
       "      <td>Fire</td>\n",
       "      <td>100</td>\n",
       "    </tr>\n",
       "    <tr>\n",
       "      <th>Trapinch</th>\n",
       "      <td>Ground</td>\n",
       "      <td>100</td>\n",
       "    </tr>\n",
       "    <tr>\n",
       "      <th>Flygon</th>\n",
       "      <td>Ground</td>\n",
       "      <td>100</td>\n",
       "    </tr>\n",
       "    <tr>\n",
       "      <th>Seviper</th>\n",
       "      <td>Poison</td>\n",
       "      <td>100</td>\n",
       "    </tr>\n",
       "    <tr>\n",
       "      <th>Ambipom</th>\n",
       "      <td>Normal</td>\n",
       "      <td>100</td>\n",
       "    </tr>\n",
       "    <tr>\n",
       "      <th>Carnivine</th>\n",
       "      <td>Grass</td>\n",
       "      <td>100</td>\n",
       "    </tr>\n",
       "    <tr>\n",
       "      <th>Tangrowth</th>\n",
       "      <td>Grass</td>\n",
       "      <td>100</td>\n",
       "    </tr>\n",
       "    <tr>\n",
       "      <th>Dusknoir</th>\n",
       "      <td>Ghost</td>\n",
       "      <td>100</td>\n",
       "    </tr>\n",
       "    <tr>\n",
       "      <th>Manaphy</th>\n",
       "      <td>Water</td>\n",
       "      <td>100</td>\n",
       "    </tr>\n",
       "    <tr>\n",
       "      <th>Samurott</th>\n",
       "      <td>Water</td>\n",
       "      <td>100</td>\n",
       "    </tr>\n",
       "    <tr>\n",
       "      <th>Zebstrika</th>\n",
       "      <td>Electric</td>\n",
       "      <td>100</td>\n",
       "    </tr>\n",
       "    <tr>\n",
       "      <th>Throh</th>\n",
       "      <td>Fighting</td>\n",
       "      <td>100</td>\n",
       "    </tr>\n",
       "    <tr>\n",
       "      <th>Scolipede</th>\n",
       "      <td>Bug</td>\n",
       "      <td>100</td>\n",
       "    </tr>\n",
       "    <tr>\n",
       "      <th>Sawsbuck</th>\n",
       "      <td>Normal</td>\n",
       "      <td>100</td>\n",
       "    </tr>\n",
       "    <tr>\n",
       "      <th>Klinklang</th>\n",
       "      <td>Steel</td>\n",
       "      <td>100</td>\n",
       "    </tr>\n",
       "    <tr>\n",
       "      <th>Gogoat</th>\n",
       "      <td>Grass</td>\n",
       "      <td>100</td>\n",
       "    </tr>\n",
       "    <tr>\n",
       "      <th>Goodra</th>\n",
       "      <td>Dragon</td>\n",
       "      <td>100</td>\n",
       "    </tr>\n",
       "    <tr>\n",
       "      <th>GourgeistSuper Size</th>\n",
       "      <td>Ghost</td>\n",
       "      <td>100</td>\n",
       "    </tr>\n",
       "  </tbody>\n",
       "</table>\n",
       "</div>"
      ],
      "text/plain": [
       "                         Type 1  Attack\n",
       "Name                                   \n",
       "VenusaurMega Venusaur     Grass     100\n",
       "Sandslash                Ground     100\n",
       "Machoke                Fighting     100\n",
       "Rapidash                   Fire     100\n",
       "Tauros                   Normal     100\n",
       "Mew                     Psychic     100\n",
       "Sudowoodo                  Rock     100\n",
       "Piloswine                   Ice     100\n",
       "Celebi                  Psychic     100\n",
       "Shiftry                   Grass     100\n",
       "MedichamMega Medicham  Fighting     100\n",
       "Camerupt                   Fire     100\n",
       "Trapinch                 Ground     100\n",
       "Flygon                   Ground     100\n",
       "Seviper                  Poison     100\n",
       "Ambipom                  Normal     100\n",
       "Carnivine                 Grass     100\n",
       "Tangrowth                 Grass     100\n",
       "Dusknoir                  Ghost     100\n",
       "Manaphy                   Water     100\n",
       "Samurott                  Water     100\n",
       "Zebstrika              Electric     100\n",
       "Throh                  Fighting     100\n",
       "Scolipede                   Bug     100\n",
       "Sawsbuck                 Normal     100\n",
       "Klinklang                 Steel     100\n",
       "Gogoat                    Grass     100\n",
       "Goodra                   Dragon     100\n",
       "GourgeistSuper Size       Ghost     100"
      ]
     },
     "execution_count": 3,
     "metadata": {},
     "output_type": "execute_result"
    }
   ],
   "source": [
    "pokemon.loc[(pokemon['Attack'] == 100) & (pokemon['Legendary'] == False), ['Type 1', 'Attack']]"
   ]
  },
  {
   "cell_type": "markdown",
   "metadata": {},
   "source": [
    "<p style=\"text-align:center;font-family:Trebuchet MS;color:#173267;font-size:20pt;font-weight:bold;\">\n",
    "    Leer archivos EXCEL\n",
    "</p>\n",
    "\n",
    "<p style=\"text-align:justify;font-family:Trebuchet MS;color:#173267;font-size:15pt;font-weight:normal;\">\n",
    "    <b>Ejercicio:</b> Leer página <code>ARK Fintech</code> del archivo <code>fintech.xlsx</code> en la carpeta <code>files</code> de manera correcta.\n",
    "</p>"
   ]
  },
  {
   "cell_type": "code",
   "execution_count": 4,
   "metadata": {
    "ExecuteTime": {
     "end_time": "2021-09-01T16:15:31.926119Z",
     "start_time": "2021-09-01T16:15:31.627137Z"
    },
    "scrolled": false
   },
   "outputs": [
    {
     "data": {
      "text/html": [
       "<div>\n",
       "<style scoped>\n",
       "    .dataframe tbody tr th:only-of-type {\n",
       "        vertical-align: middle;\n",
       "    }\n",
       "\n",
       "    .dataframe tbody tr th {\n",
       "        vertical-align: top;\n",
       "    }\n",
       "\n",
       "    .dataframe thead th {\n",
       "        text-align: right;\n",
       "    }\n",
       "</style>\n",
       "<table border=\"1\" class=\"dataframe\">\n",
       "  <thead>\n",
       "    <tr style=\"text-align: right;\">\n",
       "      <th></th>\n",
       "      <th>PRECIO DE APERTURA</th>\n",
       "      <th>VALOR MÁS ALTO</th>\n",
       "      <th>VALOR MÁS BAJO</th>\n",
       "      <th>PRECIO DE CIERRE</th>\n",
       "      <th>PRECIO DE CIERRE AJUSTADO</th>\n",
       "      <th>VOLUMEN</th>\n",
       "    </tr>\n",
       "    <tr>\n",
       "      <th>FECHA</th>\n",
       "      <th></th>\n",
       "      <th></th>\n",
       "      <th></th>\n",
       "      <th></th>\n",
       "      <th></th>\n",
       "      <th></th>\n",
       "    </tr>\n",
       "  </thead>\n",
       "  <tbody>\n",
       "    <tr>\n",
       "      <th>2019-02-04</th>\n",
       "      <td>20.160000</td>\n",
       "      <td>20.400000</td>\n",
       "      <td>20.157000</td>\n",
       "      <td>20.400000</td>\n",
       "      <td>20.073683</td>\n",
       "      <td>47200</td>\n",
       "    </tr>\n",
       "    <tr>\n",
       "      <th>2019-02-05</th>\n",
       "      <td>20.480000</td>\n",
       "      <td>20.610001</td>\n",
       "      <td>20.430000</td>\n",
       "      <td>20.533001</td>\n",
       "      <td>20.204557</td>\n",
       "      <td>110700</td>\n",
       "    </tr>\n",
       "    <tr>\n",
       "      <th>2019-02-06</th>\n",
       "      <td>20.520000</td>\n",
       "      <td>20.534000</td>\n",
       "      <td>20.309999</td>\n",
       "      <td>20.469999</td>\n",
       "      <td>20.142563</td>\n",
       "      <td>45300</td>\n",
       "    </tr>\n",
       "    <tr>\n",
       "      <th>2019-02-07</th>\n",
       "      <td>20.290001</td>\n",
       "      <td>20.320000</td>\n",
       "      <td>20.000000</td>\n",
       "      <td>20.170000</td>\n",
       "      <td>19.847363</td>\n",
       "      <td>58200</td>\n",
       "    </tr>\n",
       "    <tr>\n",
       "      <th>2019-02-08</th>\n",
       "      <td>20.000000</td>\n",
       "      <td>20.209999</td>\n",
       "      <td>19.950001</td>\n",
       "      <td>20.190001</td>\n",
       "      <td>19.867043</td>\n",
       "      <td>18900</td>\n",
       "    </tr>\n",
       "    <tr>\n",
       "      <th>...</th>\n",
       "      <td>...</td>\n",
       "      <td>...</td>\n",
       "      <td>...</td>\n",
       "      <td>...</td>\n",
       "      <td>...</td>\n",
       "      <td>...</td>\n",
       "    </tr>\n",
       "    <tr>\n",
       "      <th>2021-06-28</th>\n",
       "      <td>54.000000</td>\n",
       "      <td>54.599998</td>\n",
       "      <td>54.000000</td>\n",
       "      <td>54.540001</td>\n",
       "      <td>54.540001</td>\n",
       "      <td>1653300</td>\n",
       "    </tr>\n",
       "    <tr>\n",
       "      <th>2021-06-29</th>\n",
       "      <td>54.410000</td>\n",
       "      <td>54.820000</td>\n",
       "      <td>54.200001</td>\n",
       "      <td>54.779999</td>\n",
       "      <td>54.779999</td>\n",
       "      <td>889200</td>\n",
       "    </tr>\n",
       "    <tr>\n",
       "      <th>2021-06-30</th>\n",
       "      <td>54.529999</td>\n",
       "      <td>54.529999</td>\n",
       "      <td>53.985001</td>\n",
       "      <td>54.110001</td>\n",
       "      <td>54.110001</td>\n",
       "      <td>1058800</td>\n",
       "    </tr>\n",
       "    <tr>\n",
       "      <th>2021-07-01</th>\n",
       "      <td>54.009998</td>\n",
       "      <td>54.189999</td>\n",
       "      <td>53.000000</td>\n",
       "      <td>53.389999</td>\n",
       "      <td>53.389999</td>\n",
       "      <td>1150200</td>\n",
       "    </tr>\n",
       "    <tr>\n",
       "      <th>2021-07-02</th>\n",
       "      <td>53.590000</td>\n",
       "      <td>53.889000</td>\n",
       "      <td>53.119999</td>\n",
       "      <td>53.320000</td>\n",
       "      <td>53.320000</td>\n",
       "      <td>763000</td>\n",
       "    </tr>\n",
       "  </tbody>\n",
       "</table>\n",
       "<p>609 rows × 6 columns</p>\n",
       "</div>"
      ],
      "text/plain": [
       "            PRECIO DE APERTURA  VALOR MÁS ALTO  VALOR MÁS BAJO  \\\n",
       "FECHA                                                            \n",
       "2019-02-04           20.160000       20.400000       20.157000   \n",
       "2019-02-05           20.480000       20.610001       20.430000   \n",
       "2019-02-06           20.520000       20.534000       20.309999   \n",
       "2019-02-07           20.290001       20.320000       20.000000   \n",
       "2019-02-08           20.000000       20.209999       19.950001   \n",
       "...                        ...             ...             ...   \n",
       "2021-06-28           54.000000       54.599998       54.000000   \n",
       "2021-06-29           54.410000       54.820000       54.200001   \n",
       "2021-06-30           54.529999       54.529999       53.985001   \n",
       "2021-07-01           54.009998       54.189999       53.000000   \n",
       "2021-07-02           53.590000       53.889000       53.119999   \n",
       "\n",
       "            PRECIO DE CIERRE  PRECIO DE CIERRE AJUSTADO  VOLUMEN  \n",
       "FECHA                                                             \n",
       "2019-02-04         20.400000                  20.073683    47200  \n",
       "2019-02-05         20.533001                  20.204557   110700  \n",
       "2019-02-06         20.469999                  20.142563    45300  \n",
       "2019-02-07         20.170000                  19.847363    58200  \n",
       "2019-02-08         20.190001                  19.867043    18900  \n",
       "...                      ...                        ...      ...  \n",
       "2021-06-28         54.540001                  54.540001  1653300  \n",
       "2021-06-29         54.779999                  54.779999   889200  \n",
       "2021-06-30         54.110001                  54.110001  1058800  \n",
       "2021-07-01         53.389999                  53.389999  1150200  \n",
       "2021-07-02         53.320000                  53.320000   763000  \n",
       "\n",
       "[609 rows x 6 columns]"
      ]
     },
     "execution_count": 4,
     "metadata": {},
     "output_type": "execute_result"
    }
   ],
   "source": [
    "fintech = pd.read_excel('files/fintech.xlsx',\n",
    "                        sheet_name='ARK Fintech',\n",
    "                        names=['FECHA', 'PRECIO DE APERTURA', 'VALOR MÁS ALTO', 'VALOR MÁS BAJO',\n",
    "                               'PRECIO DE CIERRE', 'PRECIO DE CIERRE AJUSTADO', 'VOLUMEN'],\n",
    "                        index_col='FECHA')\n",
    "fintech"
   ]
  },
  {
   "cell_type": "code",
   "execution_count": 5,
   "metadata": {
    "ExecuteTime": {
     "end_time": "2021-09-01T16:16:57.067345Z",
     "start_time": "2021-09-01T16:16:57.034343Z"
    }
   },
   "outputs": [
    {
     "name": "stdout",
     "output_type": "stream",
     "text": [
      "<class 'pandas.core.frame.DataFrame'>\n",
      "DatetimeIndex: 609 entries, 2019-02-04 to 2021-07-02\n",
      "Data columns (total 6 columns):\n",
      " #   Column                     Non-Null Count  Dtype  \n",
      "---  ------                     --------------  -----  \n",
      " 0   PRECIO DE APERTURA         609 non-null    float64\n",
      " 1   VALOR MÁS ALTO             609 non-null    float64\n",
      " 2   VALOR MÁS BAJO             609 non-null    float64\n",
      " 3   PRECIO DE CIERRE           609 non-null    float64\n",
      " 4   PRECIO DE CIERRE AJUSTADO  609 non-null    float64\n",
      " 5   VOLUMEN                    609 non-null    int64  \n",
      "dtypes: float64(5), int64(1)\n",
      "memory usage: 33.3 KB\n"
     ]
    }
   ],
   "source": [
    "fintech.info()"
   ]
  },
  {
   "cell_type": "code",
   "execution_count": 6,
   "metadata": {
    "ExecuteTime": {
     "end_time": "2021-09-01T16:17:20.210547Z",
     "start_time": "2021-09-01T16:17:20.128258Z"
    }
   },
   "outputs": [
    {
     "data": {
      "text/html": [
       "<div>\n",
       "<style scoped>\n",
       "    .dataframe tbody tr th:only-of-type {\n",
       "        vertical-align: middle;\n",
       "    }\n",
       "\n",
       "    .dataframe tbody tr th {\n",
       "        vertical-align: top;\n",
       "    }\n",
       "\n",
       "    .dataframe thead th {\n",
       "        text-align: right;\n",
       "    }\n",
       "</style>\n",
       "<table border=\"1\" class=\"dataframe\">\n",
       "  <thead>\n",
       "    <tr style=\"text-align: right;\">\n",
       "      <th></th>\n",
       "      <th>PRECIO DE APERTURA</th>\n",
       "      <th>VALOR MÁS ALTO</th>\n",
       "      <th>VALOR MÁS BAJO</th>\n",
       "      <th>PRECIO DE CIERRE</th>\n",
       "      <th>PRECIO DE CIERRE AJUSTADO</th>\n",
       "      <th>VOLUMEN</th>\n",
       "    </tr>\n",
       "  </thead>\n",
       "  <tbody>\n",
       "    <tr>\n",
       "      <th>count</th>\n",
       "      <td>609.000000</td>\n",
       "      <td>609.000000</td>\n",
       "      <td>609.000000</td>\n",
       "      <td>609.000000</td>\n",
       "      <td>609.000000</td>\n",
       "      <td>6.090000e+02</td>\n",
       "    </tr>\n",
       "    <tr>\n",
       "      <th>mean</th>\n",
       "      <td>33.103039</td>\n",
       "      <td>33.402905</td>\n",
       "      <td>32.726053</td>\n",
       "      <td>33.101128</td>\n",
       "      <td>32.917930</td>\n",
       "      <td>6.806186e+05</td>\n",
       "    </tr>\n",
       "    <tr>\n",
       "      <th>std</th>\n",
       "      <td>12.779421</td>\n",
       "      <td>12.926270</td>\n",
       "      <td>12.524099</td>\n",
       "      <td>12.749568</td>\n",
       "      <td>12.854312</td>\n",
       "      <td>1.268689e+06</td>\n",
       "    </tr>\n",
       "    <tr>\n",
       "      <th>min</th>\n",
       "      <td>17.820000</td>\n",
       "      <td>18.120001</td>\n",
       "      <td>16.940001</td>\n",
       "      <td>17.760000</td>\n",
       "      <td>17.693396</td>\n",
       "      <td>3.300000e+03</td>\n",
       "    </tr>\n",
       "    <tr>\n",
       "      <th>25%</th>\n",
       "      <td>22.180000</td>\n",
       "      <td>22.320000</td>\n",
       "      <td>22.039000</td>\n",
       "      <td>22.143999</td>\n",
       "      <td>21.789785</td>\n",
       "      <td>1.920000e+04</td>\n",
       "    </tr>\n",
       "    <tr>\n",
       "      <th>50%</th>\n",
       "      <td>25.850000</td>\n",
       "      <td>26.063999</td>\n",
       "      <td>25.570000</td>\n",
       "      <td>25.799999</td>\n",
       "      <td>25.703243</td>\n",
       "      <td>9.290000e+04</td>\n",
       "    </tr>\n",
       "    <tr>\n",
       "      <th>75%</th>\n",
       "      <td>45.139999</td>\n",
       "      <td>45.700001</td>\n",
       "      <td>44.556999</td>\n",
       "      <td>45.250000</td>\n",
       "      <td>45.080299</td>\n",
       "      <td>8.262000e+05</td>\n",
       "    </tr>\n",
       "    <tr>\n",
       "      <th>max</th>\n",
       "      <td>63.759998</td>\n",
       "      <td>64.489998</td>\n",
       "      <td>63.064999</td>\n",
       "      <td>63.599998</td>\n",
       "      <td>63.599998</td>\n",
       "      <td>1.062010e+07</td>\n",
       "    </tr>\n",
       "  </tbody>\n",
       "</table>\n",
       "</div>"
      ],
      "text/plain": [
       "       PRECIO DE APERTURA  VALOR MÁS ALTO  VALOR MÁS BAJO  PRECIO DE CIERRE  \\\n",
       "count          609.000000      609.000000      609.000000        609.000000   \n",
       "mean            33.103039       33.402905       32.726053         33.101128   \n",
       "std             12.779421       12.926270       12.524099         12.749568   \n",
       "min             17.820000       18.120001       16.940001         17.760000   \n",
       "25%             22.180000       22.320000       22.039000         22.143999   \n",
       "50%             25.850000       26.063999       25.570000         25.799999   \n",
       "75%             45.139999       45.700001       44.556999         45.250000   \n",
       "max             63.759998       64.489998       63.064999         63.599998   \n",
       "\n",
       "       PRECIO DE CIERRE AJUSTADO       VOLUMEN  \n",
       "count                 609.000000  6.090000e+02  \n",
       "mean                   32.917930  6.806186e+05  \n",
       "std                    12.854312  1.268689e+06  \n",
       "min                    17.693396  3.300000e+03  \n",
       "25%                    21.789785  1.920000e+04  \n",
       "50%                    25.703243  9.290000e+04  \n",
       "75%                    45.080299  8.262000e+05  \n",
       "max                    63.599998  1.062010e+07  "
      ]
     },
     "execution_count": 6,
     "metadata": {},
     "output_type": "execute_result"
    }
   ],
   "source": [
    "fintech.describe()"
   ]
  },
  {
   "cell_type": "markdown",
   "metadata": {},
   "source": [
    "<p style=\"text-align:center;font-family:Trebuchet MS;color:#173267;font-size:20pt;font-weight:bold;\">\n",
    "    Leer archivos HTML\n",
    "</p>\n",
    "\n",
    "<p style=\"text-align:justify;font-family:Trebuchet MS;color:#173267;font-size:15pt;font-weight:normal;\">\n",
    "    <b>Ejercicio:</b> Leer tabla del medallero olímpico Tokyo 2020 desde <a href=\"https://es.wikipedia.org/wiki/Juegos_Ol%C3%ADmpicos_de_Tokio_2020\" style=\"text-decoration:none;font-weight:bold\">Wikipedia</a> de manera correcta.\n",
    "</p>"
   ]
  },
  {
   "cell_type": "code",
   "execution_count": 7,
   "metadata": {
    "ExecuteTime": {
     "end_time": "2021-09-01T16:31:36.819746Z",
     "start_time": "2021-09-01T16:31:34.373664Z"
    },
    "scrolled": true
   },
   "outputs": [
    {
     "data": {
      "text/html": [
       "<div>\n",
       "<style scoped>\n",
       "    .dataframe tbody tr th:only-of-type {\n",
       "        vertical-align: middle;\n",
       "    }\n",
       "\n",
       "    .dataframe tbody tr th {\n",
       "        vertical-align: top;\n",
       "    }\n",
       "\n",
       "    .dataframe thead th {\n",
       "        text-align: right;\n",
       "    }\n",
       "</style>\n",
       "<table border=\"1\" class=\"dataframe\">\n",
       "  <thead>\n",
       "    <tr style=\"text-align: right;\">\n",
       "      <th></th>\n",
       "      <th>Country</th>\n",
       "      <th>Oro</th>\n",
       "      <th>Plata</th>\n",
       "      <th>Bronce</th>\n",
       "      <th>Total</th>\n",
       "    </tr>\n",
       "    <tr>\n",
       "      <th>Ránking</th>\n",
       "      <th></th>\n",
       "      <th></th>\n",
       "      <th></th>\n",
       "      <th></th>\n",
       "      <th></th>\n",
       "    </tr>\n",
       "  </thead>\n",
       "  <tbody>\n",
       "    <tr>\n",
       "      <th>1</th>\n",
       "      <td>Estados Unidos (USA)</td>\n",
       "      <td>39</td>\n",
       "      <td>41.0</td>\n",
       "      <td>33</td>\n",
       "      <td>113</td>\n",
       "    </tr>\n",
       "    <tr>\n",
       "      <th>2</th>\n",
       "      <td>China (CHN)</td>\n",
       "      <td>38</td>\n",
       "      <td>32.0</td>\n",
       "      <td>19</td>\n",
       "      <td>89</td>\n",
       "    </tr>\n",
       "    <tr>\n",
       "      <th>3</th>\n",
       "      <td>Japón (JPN)</td>\n",
       "      <td>27</td>\n",
       "      <td>14.0</td>\n",
       "      <td>17</td>\n",
       "      <td>58</td>\n",
       "    </tr>\n",
       "    <tr>\n",
       "      <th>4</th>\n",
       "      <td>Reino Unido (GBR)</td>\n",
       "      <td>22</td>\n",
       "      <td>20.0</td>\n",
       "      <td>22</td>\n",
       "      <td>64</td>\n",
       "    </tr>\n",
       "    <tr>\n",
       "      <th>5</th>\n",
       "      <td>ROC (ROC)</td>\n",
       "      <td>20</td>\n",
       "      <td>28.0</td>\n",
       "      <td>23</td>\n",
       "      <td>71</td>\n",
       "    </tr>\n",
       "    <tr>\n",
       "      <th>6</th>\n",
       "      <td>Australia (AUS)</td>\n",
       "      <td>17</td>\n",
       "      <td>7.0</td>\n",
       "      <td>22</td>\n",
       "      <td>46</td>\n",
       "    </tr>\n",
       "    <tr>\n",
       "      <th>7</th>\n",
       "      <td>Países Bajos (NED)</td>\n",
       "      <td>10</td>\n",
       "      <td>12.0</td>\n",
       "      <td>14</td>\n",
       "      <td>36</td>\n",
       "    </tr>\n",
       "    <tr>\n",
       "      <th>8</th>\n",
       "      <td>Francia (FRA)</td>\n",
       "      <td>10</td>\n",
       "      <td>12.0</td>\n",
       "      <td>11</td>\n",
       "      <td>33</td>\n",
       "    </tr>\n",
       "    <tr>\n",
       "      <th>9</th>\n",
       "      <td>Alemania (GER)</td>\n",
       "      <td>10</td>\n",
       "      <td>11.0</td>\n",
       "      <td>16</td>\n",
       "      <td>37</td>\n",
       "    </tr>\n",
       "    <tr>\n",
       "      <th>10</th>\n",
       "      <td>Italia (ITA)</td>\n",
       "      <td>10</td>\n",
       "      <td>10.0</td>\n",
       "      <td>20</td>\n",
       "      <td>40</td>\n",
       "    </tr>\n",
       "  </tbody>\n",
       "</table>\n",
       "</div>"
      ],
      "text/plain": [
       "                      Country  Oro  Plata  Bronce  Total\n",
       "Ránking                                                 \n",
       "1        Estados Unidos (USA)   39   41.0      33    113\n",
       "2                 China (CHN)   38   32.0      19     89\n",
       "3                 Japón (JPN)   27   14.0      17     58\n",
       "4           Reino Unido (GBR)   22   20.0      22     64\n",
       "5                   ROC (ROC)   20   28.0      23     71\n",
       "6             Australia (AUS)   17    7.0      22     46\n",
       "7          Países Bajos (NED)   10   12.0      14     36\n",
       "8               Francia (FRA)   10   12.0      11     33\n",
       "9              Alemania (GER)   10   11.0      16     37\n",
       "10               Italia (ITA)   10   10.0      20     40"
      ]
     },
     "execution_count": 7,
     "metadata": {},
     "output_type": "execute_result"
    }
   ],
   "source": [
    "olimpicos = pd.read_html('http://es.wikipedia.org/wiki/Juegos_Ol%C3%ADmpicos_de_Tokio_2020',\n",
    "                         match='Estados Unidos')[1]\n",
    "olimpicos.columns = ['Ránking', 'País', 'Oro', 'Plata', 'Bronce', 'Total']\n",
    "olimpicos.rename({'País': 'Country'}, axis=1, inplace=True)\n",
    "olimpicos.set_index('Ránking', inplace=True)\n",
    "olimpicos = olimpicos.astype({'Country': str, 'Oro': int, 'Plata': float, 'Total': 'int64'})\n",
    "olimpicos"
   ]
  },
  {
   "cell_type": "markdown",
   "metadata": {},
   "source": [
    "<p style=\"text-align:center;font-family:Trebuchet MS;color:#173267;font-size:20pt;font-weight:bold;\">\n",
    "    Otros formatos\n",
    "</p>\n",
    "\n",
    "<p style=\"text-align:justify;font-family:Trebuchet MS;color:#173267;font-size:15pt;font-weight:normal;\">\n",
    "    <b>Ejercicio:</b> Guardar los archivos que hemos creado.\n",
    "</p>"
   ]
  },
  {
   "cell_type": "code",
   "execution_count": 8,
   "metadata": {
    "ExecuteTime": {
     "end_time": "2021-09-01T16:34:13.337373Z",
     "start_time": "2021-09-01T16:34:13.312822Z"
    }
   },
   "outputs": [],
   "source": [
    "# Comma Separated Values\n",
    "pokemon.to_csv('files/pokémon-v2.csv')"
   ]
  },
  {
   "cell_type": "code",
   "execution_count": 9,
   "metadata": {
    "ExecuteTime": {
     "end_time": "2021-09-01T16:37:00.131371Z",
     "start_time": "2021-09-01T16:36:59.748362Z"
    }
   },
   "outputs": [],
   "source": [
    "# Parquet\n",
    "fintech.to_parquet('files/fintech.parquet')"
   ]
  },
  {
   "cell_type": "code",
   "execution_count": 10,
   "metadata": {
    "ExecuteTime": {
     "end_time": "2021-09-01T16:37:51.421006Z",
     "start_time": "2021-09-01T16:37:51.395831Z"
    }
   },
   "outputs": [],
   "source": [
    "# Pickle\n",
    "olimpicos.to_pickle('files/olimpicos.pkl')"
   ]
  },
  {
   "cell_type": "markdown",
   "metadata": {},
   "source": [
    "<p style=\"text-align:center;font-family:Trebuchet MS;color:#173267;font-size:20pt;font-weight:bold;\">\n",
    "    JSON\n",
    "</p>\n",
    "\n",
    "<p style=\"text-align:justify;font-family:Trebuchet MS;color:#173267;font-size:15pt;font-weight:normal;\">\n",
    "    <b>Ejercicio:</b> Serializar y deserializar.\n",
    "</p>"
   ]
  },
  {
   "cell_type": "code",
   "execution_count": 11,
   "metadata": {
    "ExecuteTime": {
     "end_time": "2021-09-01T16:39:10.684294Z",
     "start_time": "2021-09-01T16:39:10.669187Z"
    }
   },
   "outputs": [],
   "source": [
    "example = {\n",
    "    'Personas': {\n",
    "        'Felipe': {\n",
    "            'Apellido': 'Gutiérrez',\n",
    "            'Rol': 'Ayudante'\n",
    "        },\n",
    "        'Nicolas': {\n",
    "            'Apellido': 'Mendicoa',\n",
    "            'Rol': 'Ayudante'\n",
    "        },\n",
    "        \n",
    "        'Paula': {\n",
    "            'Apellido': 'Aguirre',\n",
    "            'Rol': 'Profesora'\n",
    "        }\n",
    "    }\n",
    "}"
   ]
  },
  {
   "cell_type": "code",
   "execution_count": 12,
   "metadata": {
    "ExecuteTime": {
     "end_time": "2021-09-01T16:39:20.946755Z",
     "start_time": "2021-09-01T16:39:20.937503Z"
    }
   },
   "outputs": [
    {
     "data": {
      "text/plain": [
       "dict"
      ]
     },
     "execution_count": 12,
     "metadata": {},
     "output_type": "execute_result"
    }
   ],
   "source": [
    "type(example)"
   ]
  },
  {
   "cell_type": "code",
   "execution_count": 13,
   "metadata": {
    "ExecuteTime": {
     "end_time": "2021-09-01T16:39:26.734478Z",
     "start_time": "2021-09-01T16:39:26.725473Z"
    }
   },
   "outputs": [
    {
     "data": {
      "text/plain": [
       "{'Personas': {'Felipe': {'Apellido': 'Gutiérrez', 'Rol': 'Ayudante'},\n",
       "  'Nicolas': {'Apellido': 'Mendicoa', 'Rol': 'Ayudante'},\n",
       "  'Paula': {'Apellido': 'Aguirre', 'Rol': 'Profesora'}}}"
      ]
     },
     "execution_count": 13,
     "metadata": {},
     "output_type": "execute_result"
    }
   ],
   "source": [
    "example"
   ]
  },
  {
   "cell_type": "code",
   "execution_count": 14,
   "metadata": {},
   "outputs": [
    {
     "data": {
      "text/plain": [
       "'{\"Personas\": {\"Felipe\": {\"Apellido\": \"Guti\\\\u00e9rrez\", \"Rol\": \"Ayudante\"}, \"Nicolas\": {\"Apellido\": \"Mendicoa\", \"Rol\": \"Ayudante\"}, \"Paula\": {\"Apellido\": \"Aguirre\", \"Rol\": \"Profesora\"}}}'"
      ]
     },
     "execution_count": 14,
     "metadata": {},
     "output_type": "execute_result"
    }
   ],
   "source": [
    "json.dumps(example)"
   ]
  },
  {
   "cell_type": "code",
   "execution_count": 15,
   "metadata": {},
   "outputs": [
    {
     "data": {
      "text/plain": [
       "str"
      ]
     },
     "execution_count": 15,
     "metadata": {},
     "output_type": "execute_result"
    }
   ],
   "source": [
    "type(json.dumps(example))"
   ]
  },
  {
   "cell_type": "code",
   "execution_count": 16,
   "metadata": {
    "ExecuteTime": {
     "end_time": "2021-09-01T16:43:52.683710Z",
     "start_time": "2021-09-01T16:43:52.672707Z"
    }
   },
   "outputs": [],
   "source": [
    "with open('files/example.json', 'w') as archivo:\n",
    "    json.dump(example, archivo, indent=4)"
   ]
  },
  {
   "cell_type": "code",
   "execution_count": 17,
   "metadata": {
    "ExecuteTime": {
     "end_time": "2021-09-01T16:44:26.877260Z",
     "start_time": "2021-09-01T16:44:26.867244Z"
    }
   },
   "outputs": [],
   "source": [
    "with open('files/example.json', 'r') as archivo:\n",
    "    datos = json.load(archivo)"
   ]
  },
  {
   "cell_type": "code",
   "execution_count": 18,
   "metadata": {
    "ExecuteTime": {
     "end_time": "2021-09-01T16:44:30.649442Z",
     "start_time": "2021-09-01T16:44:30.637441Z"
    }
   },
   "outputs": [
    {
     "data": {
      "text/plain": [
       "{'Personas': {'Felipe': {'Apellido': 'Gutiérrez', 'Rol': 'Ayudante'},\n",
       "  'Nicolas': {'Apellido': 'Mendicoa', 'Rol': 'Ayudante'},\n",
       "  'Paula': {'Apellido': 'Aguirre', 'Rol': 'Profesora'}}}"
      ]
     },
     "execution_count": 18,
     "metadata": {},
     "output_type": "execute_result"
    }
   ],
   "source": [
    "datos"
   ]
  },
  {
   "cell_type": "markdown",
   "metadata": {},
   "source": [
    "<p style=\"text-align:center;font-family:Trebuchet MS;color:#173267;font-size:20pt;font-weight:bold;\">\n",
    "    GeoPandas\n",
    "</p>\n",
    "\n",
    "<p style=\"text-align:justify;font-family:Trebuchet MS;color:#173267;font-size:15pt;font-weight:normal;\">\n",
    "    <b>Ejercicio:</b> Hacer un buen plot de un mapa.\n",
    "</p>"
   ]
  },
  {
   "cell_type": "code",
   "execution_count": 19,
   "metadata": {
    "ExecuteTime": {
     "end_time": "2021-09-01T16:55:18.100046Z",
     "start_time": "2021-09-01T16:55:17.857042Z"
    }
   },
   "outputs": [
    {
     "data": {
      "text/html": [
       "<div>\n",
       "<style scoped>\n",
       "    .dataframe tbody tr th:only-of-type {\n",
       "        vertical-align: middle;\n",
       "    }\n",
       "\n",
       "    .dataframe tbody tr th {\n",
       "        vertical-align: top;\n",
       "    }\n",
       "\n",
       "    .dataframe thead th {\n",
       "        text-align: right;\n",
       "    }\n",
       "</style>\n",
       "<table border=\"1\" class=\"dataframe\">\n",
       "  <thead>\n",
       "    <tr style=\"text-align: right;\">\n",
       "      <th></th>\n",
       "      <th>objectid_1</th>\n",
       "      <th>cod_comuna</th>\n",
       "      <th>categoría</th>\n",
       "      <th>cod_oaci</th>\n",
       "      <th>cod_iata</th>\n",
       "      <th>Aerodromo</th>\n",
       "      <th>Region</th>\n",
       "      <th>Provincia</th>\n",
       "      <th>Comuna</th>\n",
       "      <th>geometry</th>\n",
       "    </tr>\n",
       "  </thead>\n",
       "  <tbody>\n",
       "    <tr>\n",
       "      <th>0</th>\n",
       "      <td>39</td>\n",
       "      <td>3201.0</td>\n",
       "      <td>Aeródromo</td>\n",
       "      <td>SCRA</td>\n",
       "      <td>CNR</td>\n",
       "      <td>Aeródromo Chañaral</td>\n",
       "      <td>Región de Atacama</td>\n",
       "      <td>Chañaral</td>\n",
       "      <td>Chañaral</td>\n",
       "      <td>POINT (-7860125.240 -3040341.337)</td>\n",
       "    </tr>\n",
       "    <tr>\n",
       "      <th>1</th>\n",
       "      <td>11</td>\n",
       "      <td>11302.0</td>\n",
       "      <td>Aeródromo</td>\n",
       "      <td>SCEY</td>\n",
       "      <td>None</td>\n",
       "      <td>Aeródromo Entrada Mayer</td>\n",
       "      <td>Región de Aysén del Gral.Ibañez del Campo</td>\n",
       "      <td>Capitán Prat</td>\n",
       "      <td>O'Higgins</td>\n",
       "      <td>POINT (-8051540.445 -6140363.715)</td>\n",
       "    </tr>\n",
       "    <tr>\n",
       "      <th>2</th>\n",
       "      <td>714</td>\n",
       "      <td>12302.0</td>\n",
       "      <td>Aeródromo</td>\n",
       "      <td>SCSB</td>\n",
       "      <td>SMB</td>\n",
       "      <td>Aeródromo Franco Bianco</td>\n",
       "      <td>Región de Magallanes y Antártica Chilena</td>\n",
       "      <td>Tierra del Fuego</td>\n",
       "      <td>Primavera</td>\n",
       "      <td>POINT (-7717217.155 -6934335.671)</td>\n",
       "    </tr>\n",
       "    <tr>\n",
       "      <th>3</th>\n",
       "      <td>191</td>\n",
       "      <td>7404.0</td>\n",
       "      <td>Aeródromo</td>\n",
       "      <td>SCEO</td>\n",
       "      <td>None</td>\n",
       "      <td>Aeródromo El Salto</td>\n",
       "      <td>Región del Maule</td>\n",
       "      <td>Linares</td>\n",
       "      <td>Parral</td>\n",
       "      <td>POINT (-7999265.318 -4318434.688)</td>\n",
       "    </tr>\n",
       "    <tr>\n",
       "      <th>4</th>\n",
       "      <td>554</td>\n",
       "      <td>4301.0</td>\n",
       "      <td>Aeródromo</td>\n",
       "      <td>SCAD</td>\n",
       "      <td>None</td>\n",
       "      <td>Aeródromo Santa Adriana</td>\n",
       "      <td>Región de Coquimbo</td>\n",
       "      <td>Limarí</td>\n",
       "      <td>Ovalle</td>\n",
       "      <td>POINT (-7934471.154 -3584815.859)</td>\n",
       "    </tr>\n",
       "    <tr>\n",
       "      <th>...</th>\n",
       "      <td>...</td>\n",
       "      <td>...</td>\n",
       "      <td>...</td>\n",
       "      <td>...</td>\n",
       "      <td>...</td>\n",
       "      <td>...</td>\n",
       "      <td>...</td>\n",
       "      <td>...</td>\n",
       "      <td>...</td>\n",
       "      <td>...</td>\n",
       "    </tr>\n",
       "    <tr>\n",
       "      <th>313</th>\n",
       "      <td>536</td>\n",
       "      <td>5104.0</td>\n",
       "      <td>Aeródromo</td>\n",
       "      <td>SCIR</td>\n",
       "      <td>None</td>\n",
       "      <td>Aeródromo Robinson Crusoe</td>\n",
       "      <td>Región de Valparaíso</td>\n",
       "      <td>Valparaíso</td>\n",
       "      <td>Juan Fernández</td>\n",
       "      <td>POINT (-8786367.955 -3984024.259)</td>\n",
       "    </tr>\n",
       "    <tr>\n",
       "      <th>314</th>\n",
       "      <td>105</td>\n",
       "      <td>10101.0</td>\n",
       "      <td>Aeropuerto</td>\n",
       "      <td>SCTE</td>\n",
       "      <td>PMC</td>\n",
       "      <td>Aeropuerto Internacional El Tepual</td>\n",
       "      <td>Región de Los Lagos</td>\n",
       "      <td>Llanquihue</td>\n",
       "      <td>Puerto Montt</td>\n",
       "      <td>POINT (-8137027.817 -5076679.155)</td>\n",
       "    </tr>\n",
       "    <tr>\n",
       "      <th>315</th>\n",
       "      <td>21</td>\n",
       "      <td>11401.0</td>\n",
       "      <td>Aeródromo</td>\n",
       "      <td>SCMC</td>\n",
       "      <td>None</td>\n",
       "      <td>Aeródromo Meseta Cosmelli</td>\n",
       "      <td>Región de Aysén del Gral.Ibañez del Campo</td>\n",
       "      <td>General Carrera</td>\n",
       "      <td>Chile Chico</td>\n",
       "      <td>POINT (-8073653.045 -5900875.266)</td>\n",
       "    </tr>\n",
       "    <tr>\n",
       "      <th>316</th>\n",
       "      <td>668</td>\n",
       "      <td>14204.0</td>\n",
       "      <td>Aeródromo</td>\n",
       "      <td>SCUH</td>\n",
       "      <td>None</td>\n",
       "      <td>Aeródromo Cuincahin</td>\n",
       "      <td>Región de Los Ríos</td>\n",
       "      <td>Ranco</td>\n",
       "      <td>Río Bueno</td>\n",
       "      <td>POINT (-8099471.180 -4926142.726)</td>\n",
       "    </tr>\n",
       "    <tr>\n",
       "      <th>317</th>\n",
       "      <td>618</td>\n",
       "      <td>7304.0</td>\n",
       "      <td>Aeródromo</td>\n",
       "      <td>SCMO</td>\n",
       "      <td>None</td>\n",
       "      <td>Aeródromo Los Monos</td>\n",
       "      <td>Región del Maule</td>\n",
       "      <td>Curicó</td>\n",
       "      <td>Molina</td>\n",
       "      <td>POINT (-7950619.590 -4190059.258)</td>\n",
       "    </tr>\n",
       "  </tbody>\n",
       "</table>\n",
       "<p>318 rows × 10 columns</p>\n",
       "</div>"
      ],
      "text/plain": [
       "     objectid_1  cod_comuna   categoría cod_oaci cod_iata  \\\n",
       "0            39      3201.0   Aeródromo     SCRA      CNR   \n",
       "1            11     11302.0   Aeródromo     SCEY     None   \n",
       "2           714     12302.0   Aeródromo     SCSB      SMB   \n",
       "3           191      7404.0   Aeródromo     SCEO     None   \n",
       "4           554      4301.0   Aeródromo     SCAD     None   \n",
       "..          ...         ...         ...      ...      ...   \n",
       "313         536      5104.0   Aeródromo     SCIR     None   \n",
       "314         105     10101.0  Aeropuerto     SCTE      PMC   \n",
       "315          21     11401.0   Aeródromo     SCMC     None   \n",
       "316         668     14204.0   Aeródromo     SCUH     None   \n",
       "317         618      7304.0   Aeródromo     SCMO     None   \n",
       "\n",
       "                              Aerodromo  \\\n",
       "0                    Aeródromo Chañaral   \n",
       "1               Aeródromo Entrada Mayer   \n",
       "2               Aeródromo Franco Bianco   \n",
       "3                    Aeródromo El Salto   \n",
       "4               Aeródromo Santa Adriana   \n",
       "..                                  ...   \n",
       "313           Aeródromo Robinson Crusoe   \n",
       "314  Aeropuerto Internacional El Tepual   \n",
       "315           Aeródromo Meseta Cosmelli   \n",
       "316                 Aeródromo Cuincahin   \n",
       "317                 Aeródromo Los Monos   \n",
       "\n",
       "                                        Region         Provincia  \\\n",
       "0                            Región de Atacama          Chañaral   \n",
       "1    Región de Aysén del Gral.Ibañez del Campo      Capitán Prat   \n",
       "2     Región de Magallanes y Antártica Chilena  Tierra del Fuego   \n",
       "3                             Región del Maule           Linares   \n",
       "4                           Región de Coquimbo            Limarí   \n",
       "..                                         ...               ...   \n",
       "313                       Región de Valparaíso        Valparaíso   \n",
       "314                        Región de Los Lagos        Llanquihue   \n",
       "315  Región de Aysén del Gral.Ibañez del Campo   General Carrera   \n",
       "316                         Región de Los Ríos             Ranco   \n",
       "317                           Región del Maule            Curicó   \n",
       "\n",
       "             Comuna                           geometry  \n",
       "0          Chañaral  POINT (-7860125.240 -3040341.337)  \n",
       "1         O'Higgins  POINT (-8051540.445 -6140363.715)  \n",
       "2         Primavera  POINT (-7717217.155 -6934335.671)  \n",
       "3            Parral  POINT (-7999265.318 -4318434.688)  \n",
       "4            Ovalle  POINT (-7934471.154 -3584815.859)  \n",
       "..              ...                                ...  \n",
       "313  Juan Fernández  POINT (-8786367.955 -3984024.259)  \n",
       "314    Puerto Montt  POINT (-8137027.817 -5076679.155)  \n",
       "315     Chile Chico  POINT (-8073653.045 -5900875.266)  \n",
       "316       Río Bueno  POINT (-8099471.180 -4926142.726)  \n",
       "317          Molina  POINT (-7950619.590 -4190059.258)  \n",
       "\n",
       "[318 rows x 10 columns]"
      ]
     },
     "execution_count": 19,
     "metadata": {},
     "output_type": "execute_result"
    }
   ],
   "source": [
    "aeropuertos = gpd.read_file('files/aeropuertos/aeropuertos.shp')\n",
    "aeropuertos"
   ]
  },
  {
   "cell_type": "code",
   "execution_count": 20,
   "metadata": {
    "ExecuteTime": {
     "end_time": "2021-09-01T16:46:34.195491Z",
     "start_time": "2021-09-01T16:46:34.161503Z"
    }
   },
   "outputs": [
    {
     "data": {
      "text/plain": [
       "0      POINT (-7860125.240 -3040341.337)\n",
       "1      POINT (-8051540.445 -6140363.715)\n",
       "2      POINT (-7717217.155 -6934335.671)\n",
       "3      POINT (-7999265.318 -4318434.688)\n",
       "4      POINT (-7934471.154 -3584815.859)\n",
       "                     ...                \n",
       "313    POINT (-8786367.955 -3984024.259)\n",
       "314    POINT (-8137027.817 -5076679.155)\n",
       "315    POINT (-8073653.045 -5900875.266)\n",
       "316    POINT (-8099471.180 -4926142.726)\n",
       "317    POINT (-7950619.590 -4190059.258)\n",
       "Name: geometry, Length: 318, dtype: geometry"
      ]
     },
     "execution_count": 20,
     "metadata": {},
     "output_type": "execute_result"
    }
   ],
   "source": [
    "aeropuertos.geometry"
   ]
  },
  {
   "cell_type": "code",
   "execution_count": 21,
   "metadata": {},
   "outputs": [
    {
     "data": {
      "text/plain": [
       "'POINT (-7860125.239600001 -3040341.337200001)'"
      ]
     },
     "execution_count": 21,
     "metadata": {},
     "output_type": "execute_result"
    }
   ],
   "source": [
    "str(aeropuertos.geometry[0])"
   ]
  },
  {
   "cell_type": "code",
   "execution_count": 22,
   "metadata": {
    "ExecuteTime": {
     "end_time": "2021-09-01T16:47:11.393957Z",
     "start_time": "2021-09-01T16:47:11.336075Z"
    }
   },
   "outputs": [
    {
     "data": {
      "text/plain": [
       "<Projected CRS: EPSG:3857>\n",
       "Name: WGS 84 / Pseudo-Mercator\n",
       "Axis Info [cartesian]:\n",
       "- X[east]: Easting (metre)\n",
       "- Y[north]: Northing (metre)\n",
       "Area of Use:\n",
       "- name: World - 85°S to 85°N\n",
       "- bounds: (-180.0, -85.06, 180.0, 85.06)\n",
       "Coordinate Operation:\n",
       "- name: Popular Visualisation Pseudo-Mercator\n",
       "- method: Popular Visualisation Pseudo Mercator\n",
       "Datum: World Geodetic System 1984\n",
       "- Ellipsoid: WGS 84\n",
       "- Prime Meridian: Greenwich"
      ]
     },
     "execution_count": 22,
     "metadata": {},
     "output_type": "execute_result"
    }
   ],
   "source": [
    "aeropuertos.crs"
   ]
  },
  {
   "cell_type": "code",
   "execution_count": 23,
   "metadata": {
    "ExecuteTime": {
     "end_time": "2021-09-01T16:50:33.828390Z",
     "start_time": "2021-09-01T16:50:33.790394Z"
    }
   },
   "outputs": [],
   "source": [
    "# Sirgas 2000 en metros\n",
    "aeropuertos = aeropuertos.to_crs(5361)"
   ]
  },
  {
   "cell_type": "code",
   "execution_count": 24,
   "metadata": {
    "ExecuteTime": {
     "end_time": "2021-09-01T16:50:39.859703Z",
     "start_time": "2021-09-01T16:50:39.805014Z"
    }
   },
   "outputs": [
    {
     "data": {
      "text/plain": [
       "<Projected CRS: EPSG:5361>\n",
       "Name: SIRGAS-Chile 2002 / UTM zone 19S\n",
       "Axis Info [cartesian]:\n",
       "- E[east]: Easting (metre)\n",
       "- N[north]: Northing (metre)\n",
       "Area of Use:\n",
       "- name: Chile - 72°W to 66°W\n",
       "- bounds: (-72.0, -59.87, -66.0, -17.5)\n",
       "Coordinate Operation:\n",
       "- name: UTM zone 19S\n",
       "- method: Transverse Mercator\n",
       "Datum: SIRGAS-Chile realization 1 epoch 2002\n",
       "- Ellipsoid: GRS 1980\n",
       "- Prime Meridian: Greenwich"
      ]
     },
     "execution_count": 24,
     "metadata": {},
     "output_type": "execute_result"
    }
   ],
   "source": [
    "aeropuertos.crs"
   ]
  },
  {
   "cell_type": "code",
   "execution_count": 25,
   "metadata": {
    "ExecuteTime": {
     "end_time": "2021-09-01T16:52:02.018934Z",
     "start_time": "2021-09-01T16:51:58.991559Z"
    },
    "scrolled": false
   },
   "outputs": [
    {
     "data": {
      "image/png": "[encoded data removed]",
      "text/plain": [
       "<Figure size 1440x720 with 2 Axes>"
      ]
     },
     "metadata": {
      "needs_background": "light"
     },
     "output_type": "display_data"
    }
   ],
   "source": [
    "fig, ax = plt.subplots(1, 2, figsize=(20, 10))\n",
    "aeropuertos.plot(ax=ax[0], column='Region', legend=True, cmap='Set3')\n",
    "ax[0].set_title('Aeropuertos de Chile')\n",
    "aeropuertos[aeropuertos['Region'] == 'Región de Los Lagos'].plot(ax=ax[1], column='Provincia', legend=True, cmap='Dark2')\n",
    "ax[1].set_title('Aeropuertos de la Región de Los Lagos')\n",
    "plt.show()"
   ]
  },
  {
   "cell_type": "code",
   "execution_count": 33,
   "metadata": {},
   "outputs": [
    {
     "data": {
      "text/plain": [
       "0      POLYGON ((329447.680 7081475.031, 329447.680 7...\n",
       "1      POLYGON ((242711.318 4650999.057, 242711.318 4...\n",
       "2      POLYGON ((468060.385 4152033.763, 468060.385 4...\n",
       "3      POLYGON ((232747.710 5992918.694, 232747.710 6...\n",
       "4      POLYGON ((271803.135 6604170.927, 271803.135 6...\n",
       "                             ...                        \n",
       "313    POLYGON ((-432303.624 6225319.945, -432303.624...\n",
       "314    POLYGON ((147743.178 5399876.949, 147743.178 5...\n",
       "315    POLYGON ((220615.644 4811907.948, 220615.644 4...\n",
       "316    POLYGON ((171055.552 5514613.262, 171055.552 5...\n",
       "317    POLYGON ((269518.460 6097933.195, 269518.460 6...\n",
       "Length: 318, dtype: geometry"
      ]
     },
     "execution_count": 33,
     "metadata": {},
     "output_type": "execute_result"
    }
   ],
   "source": [
    "aeropuertos.buffer(5000)"
   ]
  },
  {
   "cell_type": "code",
   "execution_count": 26,
   "metadata": {},
   "outputs": [],
   "source": [
    "aeropuertos.geometry = aeropuertos.buffer(5000)"
   ]
  },
  {
   "cell_type": "code",
   "execution_count": 27,
   "metadata": {},
   "outputs": [
    {
     "data": {
      "image/svg+xml": [
       "<svg xmlns=\"http://www.w3.org/2000/svg\" xmlns:xlink=\"http://www.w3.org/1999/xlink\" width=\"300\" height=\"300\" viewBox=\"334047.6797904948 7081075.031206928 10800.0 10800.0\" preserveAspectRatio=\"xMinYMin meet\"><g transform=\"matrix(1,0,0,-1,0,14172950.062413856)\"><path fill-rule=\"evenodd\" fill=\"#66cc99\" stroke=\"#555555\" stroke-width=\"72.0\" opacity=\"0.6\" d=\"M 344447.6797904948,7086475.031206928 L 344423.6034238558,7085984.94550528 L 344351.6061925109,7085499.579596847 L 344232.38146915584,7085023.607820656 L 344067.0774530512,7084561.614045103 L 343857.28611223656,7084118.047522798 L 343605.02785200754,7083697.18004183 L 343312.7320573085,7083303.06478611 L 342983.2136964275,7082939.4973009955 L 342619.646211313,7082609.978940114 L 342225.5309555928,7082317.683145415 L 341804.6634746248,7082065.424885186 L 341361.09695232025,7081855.633544371 L 340899.1031767671,7081690.3295282675 L 340423.13140057545,7081571.104804912 L 339937.7654921426,7081499.107573567 L 339447.6797904948,7081475.031206928 L 338957.594088847,7081499.107573567 L 338472.2281804142,7081571.104804912 L 337996.2564042225,7081690.3295282675 L 337534.2626286693,7081855.633544371 L 337090.69610636483,7082065.424885186 L 336669.82862539677,7082317.683145415 L 336275.71336967655,7082609.978940114 L 335912.14588456205,7082939.4973009955 L 335582.6275236811,7083303.06478611 L 335290.33172898204,7083697.18004183 L 335038.073468753,7084118.047522798 L 334828.28212793835,7084561.614045103 L 334662.97811183374,7085023.607820656 L 334543.75338847865,7085499.579596847 L 334471.7561571338,7085984.94550528 L 334447.6797904948,7086475.031206928 L 334471.7561571338,7086965.116908576 L 334543.75338847865,7087450.482817009 L 334662.97811183374,7087926.4545932 L 334828.28212793835,7088388.448368753 L 335038.073468753,7088832.014891058 L 335290.33172898204,7089252.882372026 L 335582.6275236811,7089646.997627746 L 335912.14588456205,7090010.565112861 L 336275.71336967655,7090340.083473742 L 336669.82862539677,7090632.379268441 L 337090.6961063648,7090884.63752867 L 337534.2626286693,7091094.428869485 L 337996.25640422245,7091259.732885589 L 338472.2281804141,7091378.957608945 L 338957.594088847,7091450.954840289 L 339447.6797904948,7091475.031206928 L 339937.7654921426,7091450.954840289 L 340423.1314005754,7091378.957608945 L 340899.10317676706,7091259.732885589 L 341361.0969523202,7091094.428869485 L 341804.66347462474,7090884.63752867 L 342225.53095559275,7090632.379268441 L 342619.64621131297,7090340.083473742 L 342983.2136964275,7090010.565112861 L 343312.7320573084,7089646.997627746 L 343605.0278520075,7089252.882372026 L 343857.28611223656,7088832.014891058 L 344067.0774530512,7088388.448368753 L 344232.38146915584,7087926.4545932 L 344351.6061925109,7087450.482817009 L 344423.6034238558,7086965.116908576 L 344447.6797904948,7086475.031206928 z\" /></g></svg>"
      ],
      "text/plain": [
       "<shapely.geometry.polygon.Polygon at 0x22bc9d7e2e0>"
      ]
     },
     "execution_count": 27,
     "metadata": {},
     "output_type": "execute_result"
    }
   ],
   "source": [
    "aeropuertos.geometry[0]"
   ]
  },
  {
   "cell_type": "code",
   "execution_count": 28,
   "metadata": {},
   "outputs": [
    {
     "data": {
      "image/png": "[encoded data removed]",
      "text/plain": [
       "<Figure size 432x288 with 1 Axes>"
      ]
     },
     "metadata": {
      "needs_background": "light"
     },
     "output_type": "display_data"
    }
   ],
   "source": [
    "aeropuertos[aeropuertos['Region'] == 'Región de Los Lagos'].plot(column='Provincia', cmap='Dark2')\n",
    "\n",
    "plt.show()"
   ]
  },
  {
   "cell_type": "code",
   "execution_count": 34,
   "metadata": {},
   "outputs": [],
   "source": [
    "aeropuertos.geometry = aeropuertos.envelope"
   ]
  },
  {
   "cell_type": "code",
   "execution_count": 35,
   "metadata": {},
   "outputs": [
    {
     "data": {
      "image/png": "[encoded data removed]",
      "text/plain": [
       "<Figure size 432x288 with 1 Axes>"
      ]
     },
     "metadata": {
      "needs_background": "light"
     },
     "output_type": "display_data"
    }
   ],
   "source": [
    "aeropuertos[aeropuertos['Region'] == 'Región de Los Lagos'].plot(column='Provincia', cmap='Dark2')\n",
    "\n",
    "plt.show()"
   ]
  },
  {
   "cell_type": "code",
   "execution_count": 31,
   "metadata": {},
   "outputs": [
    {
     "data": {
      "text/plain": [
       "['POLYGON ((334447.6797904948 7081475.031206928',\n",
       " ' 344447.6797904948 7081475.031206928',\n",
       " ' 344447.6797904948 7091475.031206928',\n",
       " ' 334447.6797904948 7091475.031206928',\n",
       " ' 334447.6797904948 7081475.031206928))']"
      ]
     },
     "execution_count": 31,
     "metadata": {},
     "output_type": "execute_result"
    }
   ],
   "source": [
    "str(aeropuertos.geometry[0]).split(',')"
   ]
  },
  {
   "cell_type": "code",
   "execution_count": 32,
   "metadata": {},
   "outputs": [
    {
     "data": {
      "image/svg+xml": [
       "<svg xmlns=\"http://www.w3.org/2000/svg\" xmlns:xlink=\"http://www.w3.org/1999/xlink\" width=\"300\" height=\"300\" viewBox=\"334047.6797904948 7081075.031206928 10800.0 10800.0\" preserveAspectRatio=\"xMinYMin meet\"><g transform=\"matrix(1,0,0,-1,0,14172950.062413856)\"><path fill-rule=\"evenodd\" fill=\"#66cc99\" stroke=\"#555555\" stroke-width=\"72.0\" opacity=\"0.6\" d=\"M 334447.6797904948,7081475.031206928 L 344447.6797904948,7081475.031206928 L 344447.6797904948,7091475.031206928 L 334447.6797904948,7091475.031206928 L 334447.6797904948,7081475.031206928 z\" /></g></svg>"
      ],
      "text/plain": [
       "<shapely.geometry.polygon.Polygon at 0x22bc9d0e160>"
      ]
     },
     "execution_count": 32,
     "metadata": {},
     "output_type": "execute_result"
    }
   ],
   "source": [
    "aeropuertos.geometry[0]"
   ]
  },
  {
   "cell_type": "code",
   "execution_count": 38,
   "metadata": {},
   "outputs": [
    {
     "data": {
      "text/html": [
       "<div>\n",
       "<style scoped>\n",
       "    .dataframe tbody tr th:only-of-type {\n",
       "        vertical-align: middle;\n",
       "    }\n",
       "\n",
       "    .dataframe tbody tr th {\n",
       "        vertical-align: top;\n",
       "    }\n",
       "\n",
       "    .dataframe thead th {\n",
       "        text-align: right;\n",
       "    }\n",
       "</style>\n",
       "<table border=\"1\" class=\"dataframe\">\n",
       "  <thead>\n",
       "    <tr style=\"text-align: right;\">\n",
       "      <th></th>\n",
       "      <th>objectid_1</th>\n",
       "      <th>cod_comuna</th>\n",
       "      <th>categoría</th>\n",
       "      <th>cod_oaci</th>\n",
       "      <th>cod_iata</th>\n",
       "      <th>Aerodromo</th>\n",
       "      <th>Region</th>\n",
       "      <th>Provincia</th>\n",
       "      <th>Comuna</th>\n",
       "      <th>geometry</th>\n",
       "    </tr>\n",
       "  </thead>\n",
       "  <tbody>\n",
       "    <tr>\n",
       "      <th>0</th>\n",
       "      <td>39</td>\n",
       "      <td>3201.0</td>\n",
       "      <td>Aeródromo</td>\n",
       "      <td>SCRA</td>\n",
       "      <td>CNR</td>\n",
       "      <td>Aeródromo Chañaral</td>\n",
       "      <td>Región de Atacama</td>\n",
       "      <td>Chañaral</td>\n",
       "      <td>Chañaral</td>\n",
       "      <td>POLYGON ((334447.680 7081475.031, 344447.680 7...</td>\n",
       "    </tr>\n",
       "    <tr>\n",
       "      <th>67</th>\n",
       "      <td>41</td>\n",
       "      <td>3202.0</td>\n",
       "      <td>Aeródromo</td>\n",
       "      <td>SCES</td>\n",
       "      <td>ESR</td>\n",
       "      <td>Aeródromo Ricardo García Posada</td>\n",
       "      <td>Región de Atacama</td>\n",
       "      <td>Chañaral</td>\n",
       "      <td>Diego de Almagro</td>\n",
       "      <td>POLYGON ((419849.859 7084566.282, 429849.859 7...</td>\n",
       "    </tr>\n",
       "    <tr>\n",
       "      <th>95</th>\n",
       "      <td>542</td>\n",
       "      <td>3202.0</td>\n",
       "      <td>Aeródromo</td>\n",
       "      <td>SCEI</td>\n",
       "      <td>None</td>\n",
       "      <td>Aeródromo Potrerillos</td>\n",
       "      <td>Región de Atacama</td>\n",
       "      <td>Chañaral</td>\n",
       "      <td>Diego de Almagro</td>\n",
       "      <td>POLYGON ((447518.068 7077125.330, 457518.068 7...</td>\n",
       "    </tr>\n",
       "    <tr>\n",
       "      <th>273</th>\n",
       "      <td>40</td>\n",
       "      <td>3202.0</td>\n",
       "      <td>Aeródromo</td>\n",
       "      <td>None</td>\n",
       "      <td>None</td>\n",
       "      <td>Aeródromo La Ola</td>\n",
       "      <td>Región de Atacama</td>\n",
       "      <td>Chañaral</td>\n",
       "      <td>Diego de Almagro</td>\n",
       "      <td>POLYGON ((488695.412 7051579.255, 498695.412 7...</td>\n",
       "    </tr>\n",
       "  </tbody>\n",
       "</table>\n",
       "</div>"
      ],
      "text/plain": [
       "     objectid_1  cod_comuna  categoría cod_oaci cod_iata  \\\n",
       "0            39      3201.0  Aeródromo     SCRA      CNR   \n",
       "67           41      3202.0  Aeródromo     SCES      ESR   \n",
       "95          542      3202.0  Aeródromo     SCEI     None   \n",
       "273          40      3202.0  Aeródromo     None     None   \n",
       "\n",
       "                           Aerodromo             Region Provincia  \\\n",
       "0                 Aeródromo Chañaral  Región de Atacama  Chañaral   \n",
       "67   Aeródromo Ricardo García Posada  Región de Atacama  Chañaral   \n",
       "95             Aeródromo Potrerillos  Región de Atacama  Chañaral   \n",
       "273                 Aeródromo La Ola  Región de Atacama  Chañaral   \n",
       "\n",
       "               Comuna                                           geometry  \n",
       "0            Chañaral  POLYGON ((334447.680 7081475.031, 344447.680 7...  \n",
       "67   Diego de Almagro  POLYGON ((419849.859 7084566.282, 429849.859 7...  \n",
       "95   Diego de Almagro  POLYGON ((447518.068 7077125.330, 457518.068 7...  \n",
       "273  Diego de Almagro  POLYGON ((488695.412 7051579.255, 498695.412 7...  "
      ]
     },
     "execution_count": 38,
     "metadata": {},
     "output_type": "execute_result"
    }
   ],
   "source": [
    "aeropuertos[aeropuertos['Provincia'] == 'Chañaral']"
   ]
  },
  {
   "cell_type": "code",
   "execution_count": 40,
   "metadata": {},
   "outputs": [
    {
     "data": {
      "text/plain": [
       "4"
      ]
     },
     "execution_count": 40,
     "metadata": {},
     "output_type": "execute_result"
    }
   ],
   "source": [
    "sum(aeropuertos['Provincia'] == 'Chañaral')"
   ]
  }
 ],
 "metadata": {
  "kernelspec": {
   "display_name": "Python 3 (ipykernel)",
   "language": "python",
   "name": "python3"
  },
  "language_info": {
   "codemirror_mode": {
    "name": "ipython",
    "version": 3
   },
   "file_extension": ".py",
   "mimetype": "text/x-python",
   "name": "python",
   "nbconvert_exporter": "python",
   "pygments_lexer": "ipython3",
   "version": "3.9.7"
  },
  "latex_envs": {
   "LaTeX_envs_menu_present": true,
   "autoclose": true,
   "autocomplete": true,
   "bibliofile": "biblio.bib",
   "cite_by": "apalike",
   "current_citInitial": 1,
   "eqLabelWithNumbers": true,
   "eqNumInitial": 1,
   "hotkeys": {
    "equation": "Ctrl-E",
    "itemize": "Ctrl-I"
   },
   "labels_anchors": false,
   "latex_user_defs": false,
   "report_style_numbering": false,
   "user_envs_cfg": false
  },
  "varInspector": {
   "cols": {
    "lenName": 16,
    "lenType": 16,
    "lenVar": 40
   },
   "kernels_config": {
    "python": {
     "delete_cmd_postfix": "",
     "delete_cmd_prefix": "del ",
     "library": "var_list.py",
     "varRefreshCmd": "print(var_dic_list())"
    },
    "r": {
     "delete_cmd_postfix": ") ",
     "delete_cmd_prefix": "rm(",
     "library": "var_list.r",
     "varRefreshCmd": "cat(var_dic_list()) "
    }
   },
   "types_to_exclude": [
    "module",
    "function",
    "builtin_function_or_method",
    "instance",
    "_Feature"
   ],
   "window_display": false
  }
 },
 "nbformat": 4,
 "nbformat_minor": 4
}
