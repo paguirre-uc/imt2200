{
 "cells": [
  {
   "cell_type": "markdown",
   "metadata": {},
   "source": [
    "# <img style=\"float: left; padding: 0px 10px 0px 0px;\" src=\"https://upload.wikimedia.org/wikipedia/commons/thumb/8/84/Escudo_de_la_Pontificia_Universidad_Cat%C3%B3lica_de_Chile.svg/1920px-Escudo_de_la_Pontificia_Universidad_Cat%C3%B3lica_de_Chile.svg.png\"  width=\"80\" /> IMT 2200 - Introducción a Ciencia de Datos\n",
    "**Pontificia Universidad Católica de Chile**<br>\n",
    "**Semestre 2022-2**<br>\n",
    "**Profesora:** Paula Aguirre <br>\n",
    "\n",
    "## Clase 16: Análisis Exploratorio de Datos.\n",
    "\n",
    "---"
   ]
  },
  {
   "cell_type": "markdown",
   "metadata": {},
   "source": [
    "## 2. Caso de Estudio: Análisis de Votaciones Presidenciales en EEUU 2020.\n",
    "\n",
    "\n",
    "### 2.1 Descripción del Dataset.\n",
    "\n",
    "Los datos para este problema correspoden a los resultados de las elecciones presidenciales 2020 de EEUU (Biden vs. Trump), a nivel de condados. Además, se incluyen algunas variables sociodemográficos y resultados de elecciones anteriores.\n",
    "\n",
    "Estos datos pueden ser visualizados en el siguiente mapa de USA Today:\n",
    "\n",
    "https://www.usatoday.com/in-depth/graphics/2020/11/10/election-maps-2020-america-county-results-more-voters/6226197002/\n",
    "\n",
    "\n",
    "### 2.2 Objetivo.\n",
    "\n",
    "Analizar el comportamiento de distintos estados y condados en las elecciones presidenciales estadounidenses 2020. Por ejemplo, algunas preguntas que podríamos responder a partir de los datos son:\n",
    "\n",
    "- ¿Cómo se distribuyen los condados donde ganó la opción demócrata (Biden) o republicana (Trump)?\n",
    "- ¿En qué se parecen/diferencian?\n",
    "- ¿Hay correlaciones entre el porcentaje de voto demócrata (o republicano) y otras variables políticas o sociodemográficas?\n",
    "- ¿Es el comportamiento de un condado o estado, predictor de otro?\n",
    "- ¿Hay similitudes entre los swing states?\n",
    "\n",
    "## 3. Desarrollo.\n",
    "\n"
   ]
  },
  {
   "cell_type": "code",
   "execution_count": 2,
   "metadata": {},
   "outputs": [
    {
     "data": {
      "text/html": [
       "<style>.container { width:100% !important; }</style>"
      ],
      "text/plain": [
       "<IPython.core.display.HTML object>"
      ]
     },
     "metadata": {},
     "output_type": "display_data"
    }
   ],
   "source": [
    "import matplotlib.pyplot as plt \n",
    "import numpy as np\n",
    "import pandas as pd\n",
    "import seaborn as sns\n",
    "from IPython.core.display import display, HTML\n",
    "display(HTML(\"<style>.container { width:100% !important; }</style>\"))"
   ]
  },
  {
   "cell_type": "markdown",
   "metadata": {},
   "source": [
    "### Lectura de Datos.\n",
    "\n",
    "La librería Pandas implemente métodos de lectura de distintos tipos de datos, entre ellos datos en formato `csv`, mediante la función `read_csv`:\n",
    "\n",
    "https://pandas.pydata.org/docs/reference/api/pandas.read_csv.html\n"
   ]
  },
  {
   "cell_type": "code",
   "execution_count": 3,
   "metadata": {},
   "outputs": [
    {
     "data": {
      "text/plain": [
       "Index(['Unnamed: 0', 'FIPS', 'eevp', 'electTotal', 'electionDate', 'level',\n",
       "       'office', 'state', 'winner', 'votes_R_2020', 'votes_D_2020',\n",
       "       'votes_third_party_2020', 'votes_total_2020', 'export_time',\n",
       "       'acs_pct_pop_nonwhite', 'acs_pct_management', 'acs_pct_service',\n",
       "       'pct_pop25+_bachelor_higher', 'median_household_income',\n",
       "       'per_capita_income', 'category_education', 'category_income',\n",
       "       'category_nonwhite', 'category_jobs_management',\n",
       "       'category_jobs_service', 'pew_classification', 'region',\n",
       "       'category_unemployment', 'date', 'POPESTIMATE2019', 'deaths',\n",
       "       'deaths_per_thousand', 'deaths_percap_pctile', 'cases',\n",
       "       'cases_per_thousand', 'cases_percap_pctile', 'case_pct_change',\n",
       "       'BLS_Area_Code', 'Month', 'Month_Str', 'Labor Force', 'Employment',\n",
       "       'Unemployment', 'Unemployment Rate', 'county', 'pct_2000_dem',\n",
       "       'pct_2000_gre', 'pct_2000_rep', 'pct_2004_dem', 'pct_2004_rep',\n",
       "       'pct_2008_dem', 'pct_2008_rep', 'pct_2012_dem', 'pct_2012_rep',\n",
       "       'pct_2016_dem', 'pct_2016_rep', 'votes_2000', 'votes_2004',\n",
       "       'votes_2008', 'votes_2012', 'votes_2016', 'category_2016_dem',\n",
       "       'category_2016_rep', 'votes_d_2016', 'votes_r_2016',\n",
       "       'votes_cast_pct_2016'],\n",
       "      dtype='object')"
      ]
     },
     "execution_count": 3,
     "metadata": {},
     "output_type": "execute_result"
    }
   ],
   "source": [
    "dat=pd.read_csv('county_election_results.csv')\n",
    "dat.columns"
   ]
  },
  {
   "cell_type": "markdown",
   "metadata": {},
   "source": [
    "### Análisis Exploratorio.\n",
    "\n",
    "#### 3.1 Chequeos generales."
   ]
  },
  {
   "cell_type": "code",
   "execution_count": 4,
   "metadata": {},
   "outputs": [
    {
     "data": {
      "text/html": [
       "<div>\n",
       "<style scoped>\n",
       "    .dataframe tbody tr th:only-of-type {\n",
       "        vertical-align: middle;\n",
       "    }\n",
       "\n",
       "    .dataframe tbody tr th {\n",
       "        vertical-align: top;\n",
       "    }\n",
       "\n",
       "    .dataframe thead th {\n",
       "        text-align: right;\n",
       "    }\n",
       "</style>\n",
       "<table border=\"1\" class=\"dataframe\">\n",
       "  <thead>\n",
       "    <tr style=\"text-align: right;\">\n",
       "      <th></th>\n",
       "      <th>Unnamed: 0</th>\n",
       "      <th>FIPS</th>\n",
       "      <th>eevp</th>\n",
       "      <th>electTotal</th>\n",
       "      <th>electionDate</th>\n",
       "      <th>level</th>\n",
       "      <th>office</th>\n",
       "      <th>state</th>\n",
       "      <th>winner</th>\n",
       "      <th>votes_R_2020</th>\n",
       "      <th>...</th>\n",
       "      <th>votes_2000</th>\n",
       "      <th>votes_2004</th>\n",
       "      <th>votes_2008</th>\n",
       "      <th>votes_2012</th>\n",
       "      <th>votes_2016</th>\n",
       "      <th>category_2016_dem</th>\n",
       "      <th>category_2016_rep</th>\n",
       "      <th>votes_d_2016</th>\n",
       "      <th>votes_r_2016</th>\n",
       "      <th>votes_cast_pct_2016</th>\n",
       "    </tr>\n",
       "  </thead>\n",
       "  <tbody>\n",
       "    <tr>\n",
       "      <th>0</th>\n",
       "      <td>0</td>\n",
       "      <td>1061</td>\n",
       "      <td>100</td>\n",
       "      <td>0</td>\n",
       "      <td>2020-11-03</td>\n",
       "      <td>FIPSCode</td>\n",
       "      <td>presidential</td>\n",
       "      <td>AL</td>\n",
       "      <td>R</td>\n",
       "      <td>10848</td>\n",
       "      <td>...</td>\n",
       "      <td>9559</td>\n",
       "      <td>10520</td>\n",
       "      <td>11657</td>\n",
       "      <td>11320</td>\n",
       "      <td>11758</td>\n",
       "      <td>NaN</td>\n",
       "      <td>top 10% Trump by percent vote</td>\n",
       "      <td>1525</td>\n",
       "      <td>9994</td>\n",
       "      <td>1.065913</td>\n",
       "    </tr>\n",
       "    <tr>\n",
       "      <th>1</th>\n",
       "      <td>1</td>\n",
       "      <td>1021</td>\n",
       "      <td>100</td>\n",
       "      <td>0</td>\n",
       "      <td>2020-11-03</td>\n",
       "      <td>FIPSCode</td>\n",
       "      <td>presidential</td>\n",
       "      <td>AL</td>\n",
       "      <td>R</td>\n",
       "      <td>16085</td>\n",
       "      <td>...</td>\n",
       "      <td>15092</td>\n",
       "      <td>16693</td>\n",
       "      <td>17785</td>\n",
       "      <td>17462</td>\n",
       "      <td>18369</td>\n",
       "      <td>NaN</td>\n",
       "      <td>top 10% Trump by percent vote</td>\n",
       "      <td>2911</td>\n",
       "      <td>15081</td>\n",
       "      <td>1.049649</td>\n",
       "    </tr>\n",
       "    <tr>\n",
       "      <th>2</th>\n",
       "      <td>2</td>\n",
       "      <td>1049</td>\n",
       "      <td>100</td>\n",
       "      <td>0</td>\n",
       "      <td>2020-11-03</td>\n",
       "      <td>FIPSCode</td>\n",
       "      <td>presidential</td>\n",
       "      <td>AL</td>\n",
       "      <td>R</td>\n",
       "      <td>24767</td>\n",
       "      <td>...</td>\n",
       "      <td>20285</td>\n",
       "      <td>24135</td>\n",
       "      <td>24015</td>\n",
       "      <td>23863</td>\n",
       "      <td>25826</td>\n",
       "      <td>NaN</td>\n",
       "      <td>top 10% Trump by percent vote</td>\n",
       "      <td>3622</td>\n",
       "      <td>21405</td>\n",
       "      <td>1.134438</td>\n",
       "    </tr>\n",
       "    <tr>\n",
       "      <th>3</th>\n",
       "      <td>3</td>\n",
       "      <td>1093</td>\n",
       "      <td>100</td>\n",
       "      <td>0</td>\n",
       "      <td>2020-11-03</td>\n",
       "      <td>FIPSCode</td>\n",
       "      <td>presidential</td>\n",
       "      <td>AL</td>\n",
       "      <td>R</td>\n",
       "      <td>12205</td>\n",
       "      <td>...</td>\n",
       "      <td>11756</td>\n",
       "      <td>12875</td>\n",
       "      <td>12355</td>\n",
       "      <td>12105</td>\n",
       "      <td>12984</td>\n",
       "      <td>NaN</td>\n",
       "      <td>top 10% Trump by percent vote</td>\n",
       "      <td>1432</td>\n",
       "      <td>11274</td>\n",
       "      <td>1.061537</td>\n",
       "    </tr>\n",
       "    <tr>\n",
       "      <th>4</th>\n",
       "      <td>4</td>\n",
       "      <td>1059</td>\n",
       "      <td>100</td>\n",
       "      <td>0</td>\n",
       "      <td>2020-11-03</td>\n",
       "      <td>FIPSCode</td>\n",
       "      <td>presidential</td>\n",
       "      <td>AL</td>\n",
       "      <td>R</td>\n",
       "      <td>10376</td>\n",
       "      <td>...</td>\n",
       "      <td>11103</td>\n",
       "      <td>12269</td>\n",
       "      <td>11693</td>\n",
       "      <td>10859</td>\n",
       "      <td>12040</td>\n",
       "      <td>NaN</td>\n",
       "      <td>NaN</td>\n",
       "      <td>2197</td>\n",
       "      <td>9466</td>\n",
       "      <td>1.043854</td>\n",
       "    </tr>\n",
       "  </tbody>\n",
       "</table>\n",
       "<p>5 rows × 66 columns</p>\n",
       "</div>"
      ],
      "text/plain": [
       "   Unnamed: 0  FIPS  eevp  electTotal electionDate     level        office  \\\n",
       "0           0  1061   100           0   2020-11-03  FIPSCode  presidential   \n",
       "1           1  1021   100           0   2020-11-03  FIPSCode  presidential   \n",
       "2           2  1049   100           0   2020-11-03  FIPSCode  presidential   \n",
       "3           3  1093   100           0   2020-11-03  FIPSCode  presidential   \n",
       "4           4  1059   100           0   2020-11-03  FIPSCode  presidential   \n",
       "\n",
       "  state winner  votes_R_2020  ...  votes_2000  votes_2004  votes_2008  \\\n",
       "0    AL      R         10848  ...        9559       10520       11657   \n",
       "1    AL      R         16085  ...       15092       16693       17785   \n",
       "2    AL      R         24767  ...       20285       24135       24015   \n",
       "3    AL      R         12205  ...       11756       12875       12355   \n",
       "4    AL      R         10376  ...       11103       12269       11693   \n",
       "\n",
       "  votes_2012  votes_2016  category_2016_dem              category_2016_rep  \\\n",
       "0      11320       11758                NaN  top 10% Trump by percent vote   \n",
       "1      17462       18369                NaN  top 10% Trump by percent vote   \n",
       "2      23863       25826                NaN  top 10% Trump by percent vote   \n",
       "3      12105       12984                NaN  top 10% Trump by percent vote   \n",
       "4      10859       12040                NaN                            NaN   \n",
       "\n",
       "   votes_d_2016  votes_r_2016  votes_cast_pct_2016  \n",
       "0          1525          9994             1.065913  \n",
       "1          2911         15081             1.049649  \n",
       "2          3622         21405             1.134438  \n",
       "3          1432         11274             1.061537  \n",
       "4          2197          9466             1.043854  \n",
       "\n",
       "[5 rows x 66 columns]"
      ]
     },
     "execution_count": 4,
     "metadata": {},
     "output_type": "execute_result"
    }
   ],
   "source": [
    "dat.head()"
   ]
  },
  {
   "cell_type": "code",
   "execution_count": 5,
   "metadata": {},
   "outputs": [
    {
     "name": "stdout",
     "output_type": "stream",
     "text": [
      "<class 'pandas.core.frame.DataFrame'>\n",
      "RangeIndex: 3112 entries, 0 to 3111\n",
      "Data columns (total 66 columns):\n",
      " #   Column                      Non-Null Count  Dtype  \n",
      "---  ------                      --------------  -----  \n",
      " 0   Unnamed: 0                  3112 non-null   int64  \n",
      " 1   FIPS                        3112 non-null   int64  \n",
      " 2   eevp                        3112 non-null   int64  \n",
      " 3   electTotal                  3112 non-null   int64  \n",
      " 4   electionDate                3112 non-null   object \n",
      " 5   level                       3112 non-null   object \n",
      " 6   office                      3112 non-null   object \n",
      " 7   state                       3112 non-null   object \n",
      " 8   winner                      3112 non-null   object \n",
      " 9   votes_R_2020                3112 non-null   int64  \n",
      " 10  votes_D_2020                3112 non-null   int64  \n",
      " 11  votes_third_party_2020      3112 non-null   int64  \n",
      " 12  votes_total_2020            3112 non-null   int64  \n",
      " 13  export_time                 3112 non-null   object \n",
      " 14  acs_pct_pop_nonwhite        3112 non-null   float64\n",
      " 15  acs_pct_management          3112 non-null   float64\n",
      " 16  acs_pct_service             3112 non-null   float64\n",
      " 17  pct_pop25+_bachelor_higher  3112 non-null   float64\n",
      " 18  median_household_income     3111 non-null   float64\n",
      " 19  per_capita_income           3111 non-null   float64\n",
      " 20  category_education          628 non-null    object \n",
      " 21  category_income             625 non-null    object \n",
      " 22  category_nonwhite           624 non-null    object \n",
      " 23  category_jobs_management    624 non-null    object \n",
      " 24  category_jobs_service       629 non-null    object \n",
      " 25  pew_classification          3112 non-null   object \n",
      " 26  region                      3112 non-null   object \n",
      " 27  category_unemployment       630 non-null    object \n",
      " 28  date                        3112 non-null   object \n",
      " 29  POPESTIMATE2019             3112 non-null   int64  \n",
      " 30  deaths                      3112 non-null   int64  \n",
      " 31  deaths_per_thousand         3112 non-null   float64\n",
      " 32  deaths_percap_pctile        3112 non-null   int64  \n",
      " 33  cases                       3112 non-null   int64  \n",
      " 34  cases_per_thousand          3112 non-null   float64\n",
      " 35  cases_percap_pctile         3112 non-null   int64  \n",
      " 36  case_pct_change             3112 non-null   float64\n",
      " 37  BLS_Area_Code               3112 non-null   object \n",
      " 38  Month                       3112 non-null   int64  \n",
      " 39  Month_Str                   3112 non-null   object \n",
      " 40  Labor Force                 3112 non-null   int64  \n",
      " 41  Employment                  3112 non-null   int64  \n",
      " 42  Unemployment                3112 non-null   int64  \n",
      " 43  Unemployment Rate           3112 non-null   float64\n",
      " 44  county                      3112 non-null   object \n",
      " 45  pct_2000_dem                3112 non-null   float64\n",
      " 46  pct_2000_gre                3112 non-null   float64\n",
      " 47  pct_2000_rep                3112 non-null   float64\n",
      " 48  pct_2004_dem                3112 non-null   float64\n",
      " 49  pct_2004_rep                3112 non-null   float64\n",
      " 50  pct_2008_dem                3112 non-null   float64\n",
      " 51  pct_2008_rep                3112 non-null   float64\n",
      " 52  pct_2012_dem                3112 non-null   float64\n",
      " 53  pct_2012_rep                3112 non-null   float64\n",
      " 54  pct_2016_dem                3112 non-null   float64\n",
      " 55  pct_2016_rep                3112 non-null   float64\n",
      " 56  votes_2000                  3112 non-null   int64  \n",
      " 57  votes_2004                  3112 non-null   int64  \n",
      " 58  votes_2008                  3112 non-null   int64  \n",
      " 59  votes_2012                  3112 non-null   int64  \n",
      " 60  votes_2016                  3112 non-null   int64  \n",
      " 61  category_2016_dem           312 non-null    object \n",
      " 62  category_2016_rep           312 non-null    object \n",
      " 63  votes_d_2016                3112 non-null   int64  \n",
      " 64  votes_r_2016                3112 non-null   int64  \n",
      " 65  votes_cast_pct_2016         3112 non-null   float64\n",
      "dtypes: float64(22), int64(24), object(20)\n",
      "memory usage: 1.6+ MB\n"
     ]
    }
   ],
   "source": [
    "dat.info()"
   ]
  },
  {
   "cell_type": "code",
   "execution_count": 7,
   "metadata": {},
   "outputs": [
    {
     "data": {
      "text/plain": [
       "count      3112.000000\n",
       "mean       4408.965296\n",
       "std       20498.124963\n",
       "min           3.000000\n",
       "25%         288.000000\n",
       "50%         745.000000\n",
       "75%        2204.000000\n",
       "max      818251.000000\n",
       "Name: Unemployment, dtype: float64"
      ]
     },
     "execution_count": 7,
     "metadata": {},
     "output_type": "execute_result"
    }
   ],
   "source": [
    "dat.Unemployment.describe()"
   ]
  },
  {
   "cell_type": "code",
   "execution_count": 17,
   "metadata": {},
   "outputs": [
    {
     "data": {
      "text/plain": [
       "157691234"
      ]
     },
     "execution_count": 17,
     "metadata": {},
     "output_type": "execute_result"
    }
   ],
   "source": [
    "dat['votes_D_2020'].sum()+dat['votes_R_2020'].sum()+dat['votes_third_party_2020'].sum()"
   ]
  },
  {
   "cell_type": "code",
   "execution_count": 14,
   "metadata": {},
   "outputs": [
    {
     "data": {
      "text/plain": [
       "155508985"
      ]
     },
     "execution_count": 14,
     "metadata": {},
     "output_type": "execute_result"
    }
   ],
   "source": [
    "81284666+74224319"
   ]
  },
  {
   "cell_type": "markdown",
   "metadata": {},
   "source": [
    "#### 3.2 Estadísticas de resumen\n",
    "\n",
    "\n",
    "- **Media** (`np.mean()`): es la suma de todos los valores, dividida por el número de puntos.\n",
    " \n",
    "$$\\mu=\\frac{1}{n} \\sum_{i=1}^n x_i $$\n",
    "\n",
    "- **Mediana** (`np.median()`): es el valor medio de un conjunto de datos. Es inmune a valores extremos o outliers. Para calcularla, se ordenan los datos y se elige el valor que queda en la mitad. \n",
    " \n",
    "- **Percentiles** (`np.percentile()`): el percentil $p$, corresponde al valor que es mayor al $p\\%$ de los datos.\n",
    "\n",
    "\n",
    "- **Varianza** (`np.var()`): promedio de la distancia cuadrática de los datos a la media. Es una medida de la dispersión de los datos.\n",
    "\n",
    "$$\\rm{Var}=\\frac{1}{n} \\sum_{i=1}^n (x_i-\\bar{x})^2$$\n",
    "\n",
    "- **Desviación estándar** (`np.std()`): es la raíz cuadrada de la varianza. Está en la misma escala de unidades que los datos.\n",
    "\n",
    "$$\\sigma=\\sqrt{\\frac{1}{n} \\sum_{i=1}^n (x_i-\\bar{x})^2}$$\n",
    "\n",
    "- **Covarianza** (`np.cov()`): es una medida de cómo dos cantidades varían juntas.\n",
    "Es la media del producto entre las diferencias de los valores respecto a la media.\n",
    "\n",
    "$$\\rm{Cov} (x,y)=\\frac{1}{n} \\sum_{i=1}^n (x_i-\\bar{x})(y_i-\\bar{y})$$\n",
    "\n",
    "- **Coeficiente de correlación de Pearson** (`np.corrcoef`): para tener una medida más general y aplicable de la correlación entre dos variables, necesitamos que sea adimensional. Por lo tanto dividimos la covarianza por las desviaciones estándar de $x$ e $y$. Esto define el coeficiente de correlación de Pearson ($\\rho$).\n",
    "\n",
    "$$\\rho=\\frac{\\rm{Cov} (x,y)}{\\sigma_x \\sigma_y}$$\n"
   ]
  },
  {
   "cell_type": "markdown",
   "metadata": {},
   "source": [
    "#### Analicemos las principales estadísticas de resumen de los datos. ¿ Qué conclusiones útiles podemos obtener?"
   ]
  },
  {
   "cell_type": "code",
   "execution_count": 26,
   "metadata": {},
   "outputs": [
    {
     "data": {
      "text/plain": [
       "22.9"
      ]
     },
     "execution_count": 26,
     "metadata": {},
     "output_type": "execute_result"
    }
   ],
   "source": [
    "dat['Unemployment Rate'].max()"
   ]
  },
  {
   "cell_type": "code",
   "execution_count": 19,
   "metadata": {},
   "outputs": [
    {
     "data": {
      "text/plain": [
       "2.5127456916633446"
      ]
     },
     "execution_count": 19,
     "metadata": {},
     "output_type": "execute_result"
    }
   ],
   "source": [
    "dat['Unemployment Rate'].std()"
   ]
  },
  {
   "cell_type": "code",
   "execution_count": 25,
   "metadata": {},
   "outputs": [
    {
     "data": {
      "text/plain": [
       "22.9"
      ]
     },
     "execution_count": 25,
     "metadata": {},
     "output_type": "execute_result"
    }
   ],
   "source": [
    "np.percentile(dat['Unemployment Rate'],100)"
   ]
  },
  {
   "cell_type": "code",
   "execution_count": 51,
   "metadata": {},
   "outputs": [
    {
     "data": {
      "text/plain": [
       "R    1965\n",
       "D    1147\n",
       "Name: winner, dtype: int64"
      ]
     },
     "execution_count": 51,
     "metadata": {},
     "output_type": "execute_result"
    }
   ],
   "source": [
    "dat['winner'].value_counts()"
   ]
  },
  {
   "cell_type": "code",
   "execution_count": 36,
   "metadata": {},
   "outputs": [
    {
     "data": {
      "text/html": [
       "<div>\n",
       "<style scoped>\n",
       "    .dataframe tbody tr th:only-of-type {\n",
       "        vertical-align: middle;\n",
       "    }\n",
       "\n",
       "    .dataframe tbody tr th {\n",
       "        vertical-align: top;\n",
       "    }\n",
       "\n",
       "    .dataframe thead th {\n",
       "        text-align: right;\n",
       "    }\n",
       "</style>\n",
       "<table border=\"1\" class=\"dataframe\">\n",
       "  <thead>\n",
       "    <tr style=\"text-align: right;\">\n",
       "      <th>winner</th>\n",
       "      <th>D</th>\n",
       "      <th>R</th>\n",
       "    </tr>\n",
       "  </thead>\n",
       "  <tbody>\n",
       "    <tr>\n",
       "      <th>Unemployment Rate</th>\n",
       "      <td>7.281517</td>\n",
       "      <td>6.233486</td>\n",
       "    </tr>\n",
       "    <tr>\n",
       "      <th>acs_pct_pop_nonwhite</th>\n",
       "      <td>24.271650</td>\n",
       "      <td>22.612101</td>\n",
       "    </tr>\n",
       "  </tbody>\n",
       "</table>\n",
       "</div>"
      ],
      "text/plain": [
       "winner                        D          R\n",
       "Unemployment Rate      7.281517   6.233486\n",
       "acs_pct_pop_nonwhite  24.271650  22.612101"
      ]
     },
     "execution_count": 36,
     "metadata": {},
     "output_type": "execute_result"
    }
   ],
   "source": [
    "pd.pivot_table(dat,columns='winner',values=['Unemployment Rate','acs_pct_pop_nonwhite'],aggfunc='mean')"
   ]
  },
  {
   "cell_type": "markdown",
   "metadata": {},
   "source": [
    "### Algunas preguntas a responder:\n",
    "- ¿CUántso condados ganó cada candidato?\n",
    "- ¿Hay diferencias en los ingresos per capita entre condados que votaron demócrata o republicano?\n",
    "- ¿Hay diferencias ene l nivel educacional?\n",
    "- ¿Son homogéneos los estados D/R en cuanto a ingresos, desempleo, educación?"
   ]
  },
  {
   "cell_type": "markdown",
   "metadata": {},
   "source": [
    "#### 3.3 Análisis Gráfico Univariado.\n",
    "\n",
    "Podemos utilizar múltiples funcionalidades de `matplotlib`y `seaborn` para realizar un análisis exploratorio gráfico de los datos.\n",
    "\n",
    "`Funciones de interés:`\n",
    "\n",
    "- https://matplotlib.org/stable/api/_as_gen/matplotlib.pyplot.hist.html\n",
    "- https://matplotlib.org/stable/api/_as_gen/matplotlib.pyplot.boxplot.html\n",
    "\n",
    "\n"
   ]
  },
  {
   "cell_type": "code",
   "execution_count": 16,
   "metadata": {},
   "outputs": [
    {
     "data": {
      "text/plain": [
       "Text(0, 0.5, 'N')"
      ]
     },
     "execution_count": 16,
     "metadata": {},
     "output_type": "execute_result"
    },
    {
     "data": {
      "image/png": "[encoded data removed]",
      "text/plain": [
       "<Figure size 432x288 with 1 Axes>"
      ]
     },
     "metadata": {
      "needs_background": "light"
     },
     "output_type": "display_data"
    }
   ],
   "source": [
    "#histograma\n",
    "fig=plt.figure()\n",
    "ax=fig.add_subplot(111)\n",
    "\n",
    "var='Unemployment Rate'\n",
    "#bins=np.arange(0,100,10)\n",
    "n,bins,patches=ax.hist(dat[var],histtype='bar',ec='darkblue',fc='lightblue',bins=20)\n",
    "ax.set_xlabel(var)\n",
    "ax.set_ylabel('N')"
   ]
  },
  {
   "cell_type": "markdown",
   "metadata": {},
   "source": [
    "**Binning bias.**\n",
    "\n",
    "Lo histogramas son informativos y permiten entender las características genelares de nuestros datos, pero la gran desventaja, es que los mismos datos pueden interpretarse de distinta forma dependiendo de la elección de bins. La elección del número de bins es arbitraria, lo cual puede generar sesgos (binning bias). Adicionalmente, en un histograma no estamos graficando todos los datos, sino que los agrupamos en bins, y por lo tanto perdemos sus valores. Una regla común es usar un número de bins igual a la raíz cuadrada del número de muestras."
   ]
  },
  {
   "cell_type": "code",
   "execution_count": 50,
   "metadata": {},
   "outputs": [],
   "source": [
    "dat['pct_D']=dat['votes_D_2020']/dat['votes_total_2020']*100\n",
    "dat['pct_R']=dat['votes_R_2020']/dat['votes_total_2020']*100"
   ]
  },
  {
   "cell_type": "code",
   "execution_count": 53,
   "metadata": {},
   "outputs": [
    {
     "name": "stdout",
     "output_type": "stream",
     "text": [
      "55\n"
     ]
    },
    {
     "data": {
      "image/png": "[encoded data removed]",
      "text/plain": [
       "<Figure size 720x360 with 2 Axes>"
      ]
     },
     "metadata": {
      "needs_background": "light"
     },
     "output_type": "display_data"
    }
   ],
   "source": [
    "#Notar las diferencias de binning\n",
    "fig=plt.figure(figsize=(10,5))\n",
    "ax1=fig.add_subplot(121)\n",
    "ax2=fig.add_subplot(122)\n",
    "\n",
    "bins=np.arange(0,100,10)\n",
    "nbins=int(np.sqrt(len(dat)))\n",
    "print(nbins)\n",
    "_=ax1.hist(dat['pct_D'],bins=bins,histtype='bar',ec='darkblue',fc='lightblue')\n",
    "_=ax2.hist(dat['pct_D'],bins=nbins,histtype='bar',ec='darkblue',fc='lightblue')\n",
    "\n",
    "for ax in [ax1,ax2]:\n",
    "    ax.set_xlabel('Porcentaje de voto demócrata')\n",
    "    ax.set_ylabel('Número de Condados')\n",
    "    ax.axvline(x=50,ls=':',color='gray')\n",
    "    ax.set_ylim(0,900)\n",
    "    ax.set_xlim(0,100)\n"
   ]
  },
  {
   "cell_type": "markdown",
   "metadata": {},
   "source": [
    "\n"
   ]
  },
  {
   "cell_type": "markdown",
   "metadata": {},
   "source": [
    "### Histplot\n"
   ]
  },
  {
   "cell_type": "code",
   "execution_count": null,
   "metadata": {},
   "outputs": [],
   "source": []
  },
  {
   "cell_type": "markdown",
   "metadata": {},
   "source": [
    "### Boxplot"
   ]
  },
  {
   "cell_type": "code",
   "execution_count": null,
   "metadata": {},
   "outputs": [],
   "source": []
  }
 ],
 "metadata": {
  "kernelspec": {
   "display_name": "Python 3",
   "language": "python",
   "name": "python3"
  },
  "language_info": {
   "codemirror_mode": {
    "name": "ipython",
    "version": 3
   },
   "file_extension": ".py",
   "mimetype": "text/x-python",
   "name": "python",
   "nbconvert_exporter": "python",
   "pygments_lexer": "ipython3",
   "version": "3.8.8"
  }
 },
 "nbformat": 4,
 "nbformat_minor": 2
}
