{
 "cells": [
  {
   "cell_type": "code",
   "execution_count": null,
   "metadata": {
    "id": "rjpO7xH8WFrR"
   },
   "outputs": [],
   "source": [
    "import matplotlib.pyplot as plt \n",
    "import numpy as np\n",
    "import pandas as pd\n",
    "import requests"
   ]
  },
  {
   "cell_type": "markdown",
   "metadata": {
    "id": "FHZSGSrJWFrZ"
   },
   "source": [
    "# <img style=\"float: left; padding: 0px 10px 0px 0px;\" src=\"https://upload.wikimedia.org/wikipedia/commons/thumb/8/84/Escudo_de_la_Pontificia_Universidad_Cat%C3%B3lica_de_Chile.svg/1920px-Escudo_de_la_Pontificia_Universidad_Cat%C3%B3lica_de_Chile.svg.png\"  width=\"80\" /> IMT 2200 - Introducción a Ciencia de Datos\n",
    "**Pontificia Universidad Católica de Chile**<br>\n",
    "**Semestre 2022-1**<br>\n",
    "**Profesora:** Paula Aguirre <br>\n",
    "\n",
    "## Clases 7: Extracción de Datos desde APIs\n",
    "\n",
    "---"
   ]
  },
  {
   "cell_type": "markdown",
   "metadata": {
    "id": "eGu5fW03WFrZ"
   },
   "source": [
    "## 1. Extracción de Datos.\n",
    "\n",
    "Los datos de interés para un problema de ciencia de datos pueden estar ubicados en diversas fuentes: archivos en almacenamiento local o remoto, servidores de bases de datos, y la web. \n",
    "\n",
    "En la web, la transmisión de información se realiza mediante el protocolo HTTP (Hypertext Transfer Protocol), diseñado para la comunicación entre los navegadores y servidores web. Sigue el clásico modelo cliente-servidor, en el que un cliente establece una conexión, realizando una petición a un servidor y espera una respuesta del mismo.\n",
    "\n",
    "![image.png](attachment:image.png)\n",
    "\n",
    "\n",
    "HTTP define un conjunto de métodos de petición para indicar la acción que se desea realizar para un recurso determinado. Los métodos más comunes son GET y POST:\n",
    "\n",
    "- `GET`: el método GET  solicita una representación de un recurso específico. Las peticiones que usan el método GET sólo deben recuperar datos.\n",
    "- `POST`: el método POST se utiliza para enviar una entidad a un recurso en específico, causando a menudo un cambio en el estado o efectos secundarios en el servidor.\n",
    "\n",
    "En este ejercicio, exploraremos distintas formas de extraer datos desde la WWW, utilizando la librería `requests` para enviar peticiones HTTP a un servidor (Ej. GET, POST), y recoger la respuesta en un objeto tipo `Response`, que implementa métodos y atributos para leer y explorar los datos extraídos. \n",
    "\n",
    "La documentación se encuentra en el siguiente link:\n",
    "\n",
    "https://docs.python-requests.org/en/latest/api/#requests.Response\n",
    "\n",
    "Siempre que se hace un llamado a `requests.get()`, está ocurriendo dos cosas importantes. Primero, se está construyendo un objeto tipo `Request`, el cual será enviado a un servidor con el fin de obtener información de éste. Segundo, un objeto `Response` es generado una vez que requests obtenga una respuesta del servidor. El objeto respuesta contiene toda la información entregada por el servidor, así como el objecto `Request` que fue creado originalmente.\n",
    "\n",
    "\n"
   ]
  },
  {
   "cell_type": "markdown",
   "metadata": {
    "id": "RG-b--ChWFra"
   },
   "source": [
    "## 2. API\n",
    "\n",
    "Una API es un conjunto de protocolos y rutinas que define cómo una aplicación (o programa) se comunica con otros programas, y vice-versa.\n",
    "\n",
    "Una forma standard de transferir data a través de una API es mediante el format JSON, acrónimo de JavaScript Object Notation. Es un formato interpretable por humanos, y puede ser manejado mediante la librería `json` de python.\n",
    "\n",
    "Para obtener data de una API, debemos enviar una solicitud o \"request\". El método `requests.get()` recibe el string de una URL desde donde obtener datos, y argumentos opcionales (keywords) útiles para trabajar con APIs:\n",
    "- `url`: dirección del recurso, más un string de query o consulta escrito de acuerdo a la documentación de cada API.\n",
    "- `params`: permite entregar un diccionario con nombres y valores de parámetros para personalizar peticiones a la API.\n",
    "- `headers`: también corresponde a un diccionario de cabeceras HTTP pasadas a la API, por ejemplo para autenticación del usuario.\n",
    "\n",
    "El resultado es un objeto `response`, que contiene los datos y la metadata. El método `response.json()` permite acceder solamente a los datos.\n"
   ]
  },
  {
   "cell_type": "markdown",
   "metadata": {},
   "source": [
    "### Ejemplo 1: API Open Notify ¿Cuántas personas hay en el espacio hoy?\n",
    "\n",
    "La API Open Notify entrega información actualizada de la ubicación de la Estación Espacial Internacional (ISS), y de las personas que están en el espacio.\n",
    "\n",
    "http://open-notify.org/Open-Notify-API/People-In-Space/\n",
    "\n",
    "Esta es una API sencilla, que no tiene argumentos. Por lo tanto, la consulta que se le enviá es siempre la misma."
   ]
  },
  {
   "cell_type": "code",
   "execution_count": null,
   "metadata": {},
   "outputs": [],
   "source": [
    "url='http://api.open-notify.org/astros.json'\n",
    "\n",
    "r=requests.get(url)\n",
    "r.json()\n"
   ]
  },
  {
   "cell_type": "code",
   "execution_count": null,
   "metadata": {},
   "outputs": [],
   "source": [
    "df=pd.json_normalize(r.json(),record_path='people')\n",
    "df"
   ]
  },
  {
   "cell_type": "code",
   "execution_count": null,
   "metadata": {},
   "outputs": [],
   "source": [
    "#¿Dónde está la ISS ahora?\n",
    "url='http://api.open-notify.org/iss-now.json'\n",
    "r=requests.get(url)\n",
    "print(r.json())"
   ]
  },
  {
   "cell_type": "code",
   "execution_count": null,
   "metadata": {},
   "outputs": [],
   "source": [
    "url='http://api.open-notify.org/iss-now.json'\n",
    "r=requests.get(url)\n",
    "print(r.json())\n"
   ]
  },
  {
   "cell_type": "markdown",
   "metadata": {},
   "source": [
    "### Ejemplo 2: API Yelp Fusion ¿Dónde puedo comer en Santiago?\n",
    "\n",
    "Por ejemplo, la aplicación Yelp permite a los usuarios calificar y enviar comentarios sobre distintos negocios, y disponibiliza esta información mediante un conjunto de APIs.\n",
    "\n",
    "https://www.yelp.com/developers/documentation/v3/get_started\n",
    "\n",
    "Para conectarse a estas APIs, se requiere una clave privada de autentificación (gratuita), que puede ser creada siguiendo las instrucciones en:\n",
    "\n",
    "https://www.yelp.com/developers/documentation/v3/authentication\n",
    "\n",
    "En esje ejmplo, usaremos la API *Businesses Search* para obtenre un listado de restaurants en la ciudad de Santiago. La información requerida para hacer la búsqueda está disponible en:\n",
    "\n",
    "https://www.yelp.com/developers/documentation/v3/business_search\n",
    "\n",
    "Una característica importante de la API, es que entrega un máximo de 1000 resultados. Además, cada query tiene un límite de 50 resultados. Por lo tanto, es necesario iterar y realizar varias queries para obtener el máximo de 1000 registros. Para esto, se utiliza el parámetro `offset`, que permite ir avanzando en la lista."
   ]
  },
  {
   "cell_type": "code",
   "execution_count": null,
   "metadata": {
    "id": "FVWKKWuYWFra"
   },
   "outputs": [],
   "source": [
    "#url de la API\n",
    "api_url='https://api.yelp.com/v3/businesses/search'\n",
    "\n",
    "#estos datos corresponden a una cuenta de usuario creada previamente\n",
    "clientid='GWOCZh9-BmZxtdsAjr7Gug'\n",
    "apikey='FHVvXoNmTXIl9DuxYis7AV5uLPujm9MLwrhgs5NgvCfaOxd3V6mxt6dQU8eEqYJiGxe816XATx7ufWjbMWqbV-2Uku1jxBJv8BGRC74NroLPl27PDQqs0tDixit-YHYx'\n",
    "headers={'Authorization':'Bearer %s'%apikey}"
   ]
  },
  {
   "cell_type": "code",
   "execution_count": null,
   "metadata": {
    "id": "TdCe8qHpWFrb",
    "outputId": "8c1d0889-9fd9-46ec-96c7-2538a46c3380"
   },
   "outputs": [],
   "source": [
    "params={'term':'restaurants','location':'RM Santiago, Chile','limit':50}\n",
    "response=requests.get(api_url,params=params,headers=headers)\n",
    "data=response.json()\n",
    "print(data)\n",
    "#data.keys()\n",
    "#data['businesses']"
   ]
  },
  {
   "cell_type": "markdown",
   "metadata": {},
   "source": [
    "En total la base de datos registra 2200 restaurants."
   ]
  },
  {
   "cell_type": "code",
   "execution_count": null,
   "metadata": {},
   "outputs": [],
   "source": [
    "data['total']"
   ]
  },
  {
   "cell_type": "markdown",
   "metadata": {
    "id": "0q7IseSmWFrc"
   },
   "source": [
    "La data entregada por la API Yelp API es un objeto en formato JSON anidado, es decir, un diccionario donde algunos de los valores de atributos corresponden a su vez a listas o diccionarios.\n",
    "\n",
    "Como vimos anteriormente, podemos llevar estos datos a un formato \"aplanado\" o \"flattened\",utilizando la función `json_normalize()` :\n",
    "\n",
    "https://pandas.pydata.org/docs/reference/api/pandas.json_normalize.html"
   ]
  },
  {
   "cell_type": "code",
   "execution_count": null,
   "metadata": {
    "id": "45nVD8SGWFrc",
    "outputId": "2959ce3a-c798-4011-f1f9-8afddda049fc"
   },
   "outputs": [],
   "source": [
    "data['businesses'][0]\n"
   ]
  },
  {
   "cell_type": "code",
   "execution_count": null,
   "metadata": {
    "id": "bLnjWBoEWFrc",
    "outputId": "296d7f8d-98e1-4603-a8e7-43214186d7c2"
   },
   "outputs": [],
   "source": [
    "#normalizamos el contenido del diccionario \"businesses\"\n",
    "rests = pd.json_normalize(data[\"businesses\"],sep='_',record_path=['categories'],meta=['name','price','rating','review_count','distance',['coordinates','latitude'],['coordinates','longitude'],['location','address1']],errors='ignore')\n",
    "\n",
    "rests.head()"
   ]
  },
  {
   "cell_type": "code",
   "execution_count": null,
   "metadata": {},
   "outputs": [],
   "source": [
    "rests"
   ]
  },
  {
   "cell_type": "code",
   "execution_count": null,
   "metadata": {
    "id": "1Hk8QQNlWFrd",
    "outputId": "76ebc256-88c0-4f89-cbc4-30381944544f"
   },
   "outputs": [],
   "source": [
    "#iteramos\n",
    "offset=0\n",
    "allrests=[]\n",
    "while offset<=950:\n",
    "    print(offset)\n",
    "    params={'term':'restaurants','location':'RM Santiago, Chile','limit':50,'offset':offset}\n",
    "\n",
    "    response=requests.get(api_url,params=params,headers=headers)\n",
    "    data=response.json()\n",
    "    #print(data)\n",
    "    rests = pd.json_normalize(data[\"businesses\"],sep='_',record_path=['categories'],meta=['name','price','rating','review_count','distance',['coordinates','latitude'],['coordinates','longitude'],['location','address1']],errors='ignore')\n",
    "\n",
    "    allrests.append(rests)\n",
    "    offset=offset+50\n",
    "    "
   ]
  },
  {
   "cell_type": "code",
   "execution_count": null,
   "metadata": {},
   "outputs": [],
   "source": [
    "allrests"
   ]
  },
  {
   "cell_type": "code",
   "execution_count": null,
   "metadata": {
    "id": "Pf9MIr1VWFrd",
    "outputId": "27c9444d-cea1-4296-99ac-fbde8ef5cd96"
   },
   "outputs": [],
   "source": [
    "rests=pd.concat(allrests,ignore_index=True)\n",
    "rests"
   ]
  },
  {
   "cell_type": "code",
   "execution_count": null,
   "metadata": {},
   "outputs": [],
   "source": [
    "rests.info()\n"
   ]
  },
  {
   "cell_type": "code",
   "execution_count": null,
   "metadata": {},
   "outputs": [],
   "source": []
  }
 ],
 "metadata": {
  "colab": {
   "name": "IMT2200_Clase7-API.ipynb",
   "provenance": []
  },
  "kernelspec": {
   "display_name": "Python 3 (ipykernel)",
   "language": "python",
   "name": "python3"
  },
  "language_info": {
   "codemirror_mode": {
    "name": "ipython",
    "version": 3
   },
   "file_extension": ".py",
   "mimetype": "text/x-python",
   "name": "python",
   "nbconvert_exporter": "python",
   "pygments_lexer": "ipython3",
   "version": "3.7.3"
  }
 },
 "nbformat": 4,
 "nbformat_minor": 1
}
