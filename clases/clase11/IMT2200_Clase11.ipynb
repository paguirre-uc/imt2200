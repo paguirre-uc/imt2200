{
 "cells": [
  {
   "cell_type": "code",
   "execution_count": null,
   "metadata": {
    "id": "rjpO7xH8WFrR"
   },
   "outputs": [],
   "source": [
    "import matplotlib.pyplot as plt \n",
    "import numpy as np\n",
    "import pandas as pd\n",
    "import requests"
   ]
  },
  {
   "cell_type": "markdown",
   "metadata": {
    "id": "FHZSGSrJWFrZ"
   },
   "source": [
    "# <img style=\"float: left; padding: 0px 10px 0px 0px;\" src=\"https://upload.wikimedia.org/wikipedia/commons/thumb/8/84/Escudo_de_la_Pontificia_Universidad_Cat%C3%B3lica_de_Chile.svg/1920px-Escudo_de_la_Pontificia_Universidad_Cat%C3%B3lica_de_Chile.svg.png\"  width=\"80\" /> IMT 2200 - Introducción a Ciencia de Datos\n",
    "**Pontificia Universidad Católica de Chile**<br>\n",
    "**Semestre 2022-2**<br>\n",
    "**Profesora:** Paula Aguirre <br>\n",
    "\n",
    "## Clase 11: Limpieza de Datos\n",
    "\n",
    "---"
   ]
  },
  {
   "cell_type": "markdown",
   "metadata": {},
   "source": [
    "## 1. Datos Faltantes"
   ]
  },
  {
   "cell_type": "code",
   "execution_count": null,
   "metadata": {},
   "outputs": [],
   "source": [
    "df=pd.read_csv('data.csv')\n",
    "df"
   ]
  },
  {
   "cell_type": "code",
   "execution_count": null,
   "metadata": {},
   "outputs": [],
   "source": [
    "df.isna()"
   ]
  },
  {
   "cell_type": "code",
   "execution_count": null,
   "metadata": {},
   "outputs": [],
   "source": [
    "df=df.replace('*',np.nan)\n",
    "df=df.replace('None',np.nan)\n",
    "df=df.replace(' ',np.nan)\n",
    "df=df.replace(-999,np.nan)"
   ]
  },
  {
   "cell_type": "code",
   "execution_count": null,
   "metadata": {},
   "outputs": [],
   "source": [
    "df"
   ]
  },
  {
   "cell_type": "code",
   "execution_count": null,
   "metadata": {},
   "outputs": [],
   "source": [
    "df.columns"
   ]
  },
  {
   "cell_type": "code",
   "execution_count": null,
   "metadata": {},
   "outputs": [],
   "source": [
    "df.dropna(subset=[' col2'])"
   ]
  },
  {
   "cell_type": "code",
   "execution_count": null,
   "metadata": {},
   "outputs": [],
   "source": [
    "df2=df.copy()\n",
    "df2"
   ]
  },
  {
   "cell_type": "code",
   "execution_count": null,
   "metadata": {},
   "outputs": [],
   "source": [
    "df2['col2']=df2['col2'].fillna(value='d')\n",
    "df2"
   ]
  },
  {
   "cell_type": "markdown",
   "metadata": {},
   "source": [
    "## 2. Limpieza de Textos."
   ]
  },
  {
   "cell_type": "code",
   "execution_count": null,
   "metadata": {},
   "outputs": [],
   "source": [
    "df0=pd.read_csv('listings.csv')\n",
    "\n",
    "df=df0.drop(columns=['listing_url','experiences_offered','neighborhood_overview','instant_bookable','instant_bookable', 'is_business_travel_ready', \n",
    "       'require_guest_profile_picture', 'require_guest_phone_verification',\n",
    "       'calculated_host_listings_count',\n",
    "       'calculated_host_listings_count_entire_homes',\n",
    "       'calculated_host_listings_count_private_rooms',\n",
    "       'calculated_host_listings_count_shared_rooms','transit', 'access', 'interaction',\n",
    "       'house_rules', 'thumbnail_url', 'medium_url', 'picture_url',\n",
    "       'xl_picture_url', 'host_id', 'host_url', 'host_name', 'host_since',\n",
    "       'host_location', 'host_about', 'host_response_time',\n",
    "       'host_response_rate', 'host_acceptance_rate', 'host_is_superhost',\n",
    "       'host_thumbnail_url', 'host_picture_url', 'host_neighbourhood',\n",
    "       'host_listings_count', 'host_total_listings_count',\n",
    "       'host_verifications', 'host_has_profile_pic', 'host_identity_verified','scrape_id','guests_included',\n",
    "       'extra_people', 'minimum_nights', 'maximum_nights','weekly_price',\n",
    "       'monthly_price', 'security_deposit','property_type',\n",
    "       'minimum_minimum_nights', 'maximum_minimum_nights','bed_type', 'amenities',\n",
    "       'minimum_maximum_nights', 'maximum_maximum_nights', 'market', 'smart_location',\n",
    "       'minimum_nights_avg_ntm', 'maximum_nights_avg_ntm', 'calendar_updated',\n",
    "       'has_availability', 'availability_30', 'availability_60','zipcode',\n",
    "       'availability_90', 'availability_365', 'calendar_last_scraped','review_scores_accuracy',\n",
    "       'review_scores_cleanliness', 'review_scores_checkin','neighbourhood_group_cleansed',\n",
    "       'review_scores_communication', 'review_scores_location', 'country','square_feet',\n",
    "       'review_scores_value', 'requires_license', 'license','notes', 'street',\n",
    "       'jurisdiction_names', 'reviews_per_month','is_location_exact', 'beds',\n",
    "       'number_of_reviews', 'number_of_reviews_ltm', 'first_review','neighbourhood', 'neighbourhood_cleansed',\n",
    "       'last_review',])\n",
    "\n",
    "df=df.drop_duplicates(keep='first')\n",
    "\n"
   ]
  },
  {
   "cell_type": "code",
   "execution_count": null,
   "metadata": {},
   "outputs": [],
   "source": [
    "df.head()"
   ]
  },
  {
   "cell_type": "markdown",
   "metadata": {},
   "source": [
    "### ¿Cuál es el precio promedio de los arriendos AirBnb en Santiago?**\n",
    "\n",
    "Para trabajar con los datos de precio (`price`), es necesario limpiar los datos y transformarlos en valores numéricos."
   ]
  },
  {
   "cell_type": "code",
   "execution_count": null,
   "metadata": {},
   "outputs": [],
   "source": [
    "df['price']=df['price'].str.replace('$','')\n",
    "df['price']=df['price'].str.replace(',','')\n",
    "df['price']=df['price'].astype('float')\n",
    "df"
   ]
  },
  {
   "cell_type": "code",
   "execution_count": null,
   "metadata": {},
   "outputs": [],
   "source": [
    "###Precio promedio:\n",
    "\n",
    "mean_price=df['price'].mean()\n",
    "mean_price"
   ]
  },
  {
   "cell_type": "markdown",
   "metadata": {},
   "source": [
    "## 3. Variables categóricas.\n",
    "\n",
    "La variable `cancellation_policy` corresponde a una variable categórica, ya que sólo puede adquirir un conjunto de valores predeterminados.\n",
    "Supongamos que para nuetro análisis, sólo trabajaremos con las siguientes categorías: `moderate`,`flexible`,`strict`."
   ]
  },
  {
   "cell_type": "code",
   "execution_count": null,
   "metadata": {},
   "outputs": [],
   "source": [
    "df[['id','price','cancellation_policy']]"
   ]
  },
  {
   "cell_type": "code",
   "execution_count": null,
   "metadata": {},
   "outputs": [],
   "source": [
    "#Ver valores unicos presentes en el dataset\n",
    "cats_dat=df['cancellation_policy'].unique()\n",
    "cats_dat"
   ]
  },
  {
   "cell_type": "code",
   "execution_count": null,
   "metadata": {},
   "outputs": [],
   "source": [
    "#Definir lista de categorías deseadas\n",
    "cats_real=['flexible','moderate','strict']\n",
    "\n",
    "#Chequear cuáles registros están en la lista de categorías deseadas\n",
    "df['cancellation_policy'].isin(cats_real)"
   ]
  },
  {
   "cell_type": "code",
   "execution_count": null,
   "metadata": {},
   "outputs": [],
   "source": [
    "#Mapear categorías originales a nuevas categorías\n",
    "map_cats={'strict_14_with_grace_period':'strict','super_strict_60':'strict','super_strict_30':'strict'}\n",
    "df['cancellation_policy'].map(map_cats)"
   ]
  },
  {
   "cell_type": "code",
   "execution_count": null,
   "metadata": {},
   "outputs": [],
   "source": []
  },
  {
   "cell_type": "code",
   "execution_count": null,
   "metadata": {},
   "outputs": [],
   "source": [
    "df.head()"
   ]
  },
  {
   "cell_type": "markdown",
   "metadata": {},
   "source": [
    "## 4. Valores fuera de rango\n",
    "\n",
    "Las variables numéricas de un dataset pueden contener valores fuera de rango. Esto incluye:\n",
    "- Valores que podemos catalogar como inverosímiles a partir de nuestro conocimiento de los datos, y las eNtidades reales que representan.\n",
    "- Valores que pueden (o no) se legítimos, pero que escapan de la norma del la serie de datos. En este caso se requiere un análisis estadístico más detallado para determinar qué es realmente un valor fuera de rango."
   ]
  },
  {
   "cell_type": "code",
   "execution_count": null,
   "metadata": {},
   "outputs": [],
   "source": [
    "df.describe()"
   ]
  },
  {
   "cell_type": "code",
   "execution_count": null,
   "metadata": {},
   "outputs": [],
   "source": [
    "df[df['price']>1e6]"
   ]
  },
  {
   "cell_type": "code",
   "execution_count": null,
   "metadata": {},
   "outputs": [],
   "source": []
  }
 ],
 "metadata": {
  "colab": {
   "name": "IMT2200_Clase7-API.ipynb",
   "provenance": []
  },
  "kernelspec": {
   "display_name": "Python 3",
   "language": "python",
   "name": "python3"
  },
  "language_info": {
   "codemirror_mode": {
    "name": "ipython",
    "version": 3
   },
   "file_extension": ".py",
   "mimetype": "text/x-python",
   "name": "python",
   "nbconvert_exporter": "python",
   "pygments_lexer": "ipython3",
   "version": "3.8.8"
  }
 },
 "nbformat": 4,
 "nbformat_minor": 4
}
